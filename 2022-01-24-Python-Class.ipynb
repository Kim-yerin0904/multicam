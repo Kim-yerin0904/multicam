{
 "cells": [
  {
   "cell_type": "code",
   "execution_count": 12,
   "id": "baee6c61",
   "metadata": {},
   "outputs": [
    {
     "name": "stdout",
     "output_type": "stream",
     "text": [
      "123\n",
      "123\n"
     ]
    }
   ],
   "source": [
    "# 자동차 class 만들기\n",
    "# class안에 method가 나옴\n",
    "class Car(object):\n",
    "    \n",
    "    #모든 class안에는 특별한 형태의 함수르 사용할 수 있음\n",
    "    #__이름__() => magic function\n",
    "    def __init__(self,car_number,car_price,car_speed):  #객체를 초기화 initializer\n",
    "        self.car_number = car_number   #self.car_number는 객체 안의 property, car_number는 stack의 매개변수(잠깐 있다가 없어짐)\n",
    "        self.car_price = car_price\n",
    "        self.car_speed = car_speed\n",
    "        \n",
    "    # method\n",
    "    def go_front(self):\n",
    "        self.car_speed += 10\n",
    "        \n",
    "    def __str__(self):\n",
    "        return self.car_number\n",
    "        \n",
    "car1= Car('123',1000,0)\n",
    "car2= Car('456',2000,21)\n",
    "\n",
    "#print는 인자로 들어온 파라미터를 문자열로 변경해서 출력\n",
    "print(car1) # car1의 메모리주소\n",
    "#만약 인자로 객체가 들어오고 해당 객체에 __str__이 존재하면 이함수를 호출해서 결과를 출력\n",
    "print(car1)\n",
    "# 그림"
   ]
  },
  {
   "cell_type": "markdown",
   "id": "e20565ce",
   "metadata": {},
   "source": [
    "이렇게 만들어지는 객체를 다른 말로 instance라고 함\n",
    "\n",
    "인스턴스(class를 기반으로 생성된 메모릭 공간)\n",
    "\n",
    "__init__() -> 자동호출"
   ]
  },
  {
   "cell_type": "code",
   "execution_count": 10,
   "id": "e901368f",
   "metadata": {},
   "outputs": [
    {
     "name": "stdout",
     "output_type": "stream",
     "text": [
      "123\n"
     ]
    }
   ],
   "source": [
    "# . (dot operator)를 이용해서 instance를 사용할 수 있음\n",
    "# (instance를 지칭하는 reference).(instance가 가지는 property) => (instance).(property)\n",
    "# instance가 있다는 말은 class가 존재한다는 말\n",
    "\n",
    "print(car1.car_number)"
   ]
  },
  {
   "cell_type": "code",
   "execution_count": 11,
   "id": "f28bca13",
   "metadata": {},
   "outputs": [
    {
     "name": "stdout",
     "output_type": "stream",
     "text": [
      "10\n"
     ]
    }
   ],
   "source": [
    "# 메소드 사용\n",
    "# (instance).(method)\n",
    "car1.go_front() #car1의 속도 10증가\n",
    "print(car1.car_speed)"
   ]
  },
  {
   "cell_type": "code",
   "execution_count": null,
   "id": "506fb683",
   "metadata": {},
   "outputs": [],
   "source": [
    "# ADT(abstract Data Type)\n",
    "# instance를 만들어내는 도구"
   ]
  },
  {
   "cell_type": "code",
   "execution_count": null,
   "id": "4e7ef78e",
   "metadata": {},
   "outputs": [],
   "source": []
  },
  {
   "cell_type": "code",
   "execution_count": null,
   "id": "505680d5",
   "metadata": {},
   "outputs": [],
   "source": [
    "class Unit(object):\n",
    "    def __init__(self,life):\n",
    "        self.life = life\n",
    "    def"
   ]
  },
  {
   "cell_type": "code",
   "execution_count": 1,
   "id": "27d72337",
   "metadata": {},
   "outputs": [],
   "source": [
    "#module 불러오기\n",
    "import my_module\n",
    "\n"
   ]
  },
  {
   "cell_type": "code",
   "execution_count": 4,
   "id": "1dab5d5c",
   "metadata": {},
   "outputs": [
    {
     "name": "stdout",
     "output_type": "stream",
     "text": [
      "133\n"
     ]
    }
   ],
   "source": [
    "import folderA.folderB.module2\n",
    "print(folderA.folderB.module2.var)"
   ]
  },
  {
   "cell_type": "code",
   "execution_count": 5,
   "id": "c1184e1f",
   "metadata": {},
   "outputs": [
    {
     "name": "stdout",
     "output_type": "stream",
     "text": [
      "133\n"
     ]
    }
   ],
   "source": [
    "from folderA.folderB import module2\n",
    "print(module2.var)"
   ]
  },
  {
   "cell_type": "code",
   "execution_count": null,
   "id": "49f886b4",
   "metadata": {},
   "outputs": [],
   "source": []
  },
  {
   "cell_type": "code",
   "execution_count": null,
   "id": "30b311b4",
   "metadata": {},
   "outputs": [],
   "source": []
  },
  {
   "cell_type": "code",
   "execution_count": null,
   "id": "c2c70b31",
   "metadata": {},
   "outputs": [],
   "source": []
  },
  {
   "cell_type": "code",
   "execution_count": null,
   "id": "22678f5a",
   "metadata": {},
   "outputs": [],
   "source": []
  },
  {
   "cell_type": "code",
   "execution_count": null,
   "id": "15d0ce90",
   "metadata": {},
   "outputs": [],
   "source": []
  }
 ],
 "metadata": {
  "kernelspec": {
   "display_name": "Python [conda env:.conda-data_env] *",
   "language": "python",
   "name": "conda-env-.conda-data_env-py"
  },
  "language_info": {
   "codemirror_mode": {
    "name": "ipython",
    "version": 3
   },
   "file_extension": ".py",
   "mimetype": "text/x-python",
   "name": "python",
   "nbconvert_exporter": "python",
   "pygments_lexer": "ipython3",
   "version": "3.8.12"
  }
 },
 "nbformat": 4,
 "nbformat_minor": 5
}
