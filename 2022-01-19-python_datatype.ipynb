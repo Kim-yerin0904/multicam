{
 "cells": [
  {
   "cell_type": "code",
   "execution_count": 1,
   "id": "eff5c771",
   "metadata": {},
   "outputs": [
    {
     "data": {
      "text/plain": [
       "'\\n안녕\\n내이름은 \\n김예린\\n'"
      ]
     },
     "execution_count": 1,
     "metadata": {},
     "output_type": "execute_result"
    }
   ],
   "source": [
    "# 이 뒤쪽의 모든 내용은 주석\n",
    "# python의 주석은 #으로 표현 (한줄만)\n",
    "# jupyter notebook에서 주석처리하기 원하는 코드를 block으로 설정한 후 \n",
    "# ctrl+/ 키를 이용하면 해당 코드를 한줄씩 주석처리함\n",
    "\n",
    "# 여러줄 주석은 ''' ''' 이용\n",
    "'''\n",
    "안녕\n",
    "내이름은 \n",
    "김예린\n",
    "'''\n"
   ]
  },
  {
   "cell_type": "markdown",
   "id": "b29923a0",
   "metadata": {},
   "source": [
    "변수 : 특정값을 저장할 수 있는 메모리 저장 공간을 지칭 \n",
    "\n",
    "ex ) a = 100\n",
    "    - a라는 이름의 변수를 생성하고 그 안에 100이라는 값을 저장\n",
    "    \n",
    "1. 키워드는 변수로 사용 X\n",
    "2. 의미없는 이름의 변수는 사용 지양\n",
    "3. 숫자로 시작 X (무조건 문자로 시작, 특수문자 시작도 X)\n",
    "4. 한글 변수는 사용사람 없음\n",
    "5. 대문자 소문자 구분 \n",
    "6. 두 단어 연결은 '_' 사용\n",
    "7. 변수명같은 것들을 식별자(identifier)라고 함\n",
    "\n"
   ]
  },
  {
   "cell_type": "markdown",
   "id": "89b1f7f9",
   "metadata": {},
   "source": [
    "### Python에서 사용할 수 있는 데이터 타입\n",
    "\n",
    "python에서 정해져 있는 데이터 타입 => built-in data type\n",
    "\n",
    "python의 built-in data type은 일반 data type + 자료구조(data structure)\n",
    "\n"
   ]
  },
  {
   "cell_type": "code",
   "execution_count": null,
   "id": "382c2a04",
   "metadata": {},
   "outputs": [],
   "source": []
  },
  {
   "cell_type": "code",
   "execution_count": null,
   "id": "fc47c7c6",
   "metadata": {},
   "outputs": [],
   "source": []
  },
  {
   "cell_type": "code",
   "execution_count": null,
   "id": "fb3ccd4c",
   "metadata": {},
   "outputs": [],
   "source": []
  },
  {
   "cell_type": "markdown",
   "id": "ce214159",
   "metadata": {},
   "source": [
    "### Operator (연산자)"
   ]
  },
  {
   "cell_type": "code",
   "execution_count": 5,
   "id": "3fbfb01e",
   "metadata": {},
   "outputs": [
    {
     "name": "stdout",
     "output_type": "stream",
     "text": [
      "13.14\n",
      "13.14\n"
     ]
    }
   ],
   "source": [
    "# +연산자 = 이항연산자(같은 데이터 타입에 대해서 연산을 수행)\n",
    "# 10+3.14 (int + float)\n",
    "# 위의 연산은 내부적으로 타입을 바꾸어 실행함\n",
    "\n",
    "a = 10 + 3.14\n",
    "b = 10.0+3.14\n",
    "\n",
    "print(a)\n",
    "print(b)"
   ]
  },
  {
   "cell_type": "code",
   "execution_count": 6,
   "id": "8c36d5fb",
   "metadata": {},
   "outputs": [
    {
     "name": "stdout",
     "output_type": "stream",
     "text": [
      "0.75\n"
     ]
    }
   ],
   "source": [
    "a=3/4\n",
    "print(a)"
   ]
  },
  {
   "cell_type": "code",
   "execution_count": 7,
   "id": "c7efdc93",
   "metadata": {},
   "outputs": [
    {
     "name": "stdout",
     "output_type": "stream",
     "text": [
      "1\n"
     ]
    }
   ],
   "source": [
    "a=10%3  # 나머지 구하기\n",
    "print(a)"
   ]
  },
  {
   "cell_type": "code",
   "execution_count": 8,
   "id": "0ad9086a",
   "metadata": {},
   "outputs": [
    {
     "name": "stdout",
     "output_type": "stream",
     "text": [
      "3\n"
     ]
    }
   ],
   "source": [
    "a=10//3  # 몫 구하기\n",
    "print(a)"
   ]
  },
  {
   "cell_type": "markdown",
   "id": "b515015c",
   "metadata": {},
   "source": [
    "### Sequence\n",
    " \n",
    " 순서가 있는 자료형(자료구조) \n",
    " \n",
    "     - <class list>\n",
    "     - <class tuple>\n",
    "     - <class range>"
   ]
  },
  {
   "cell_type": "code",
   "execution_count": 11,
   "id": "25af701b",
   "metadata": {},
   "outputs": [
    {
     "name": "stdout",
     "output_type": "stream",
     "text": [
      "[None, 2, 3]\n"
     ]
    }
   ],
   "source": [
    "#<class list>\n",
    "a=[]\n",
    "a=[1,2,3,4]\n",
    "\n",
    "a=[None,2,3]\n",
    "print(a)"
   ]
  },
  {
   "cell_type": "code",
   "execution_count": 12,
   "id": "e82c4c7c",
   "metadata": {},
   "outputs": [],
   "source": [
    "# list에는 다양한 데이터 타입이 들어올 수 있음\n",
    "a=[1,3,3.4]"
   ]
  },
  {
   "cell_type": "code",
   "execution_count": 13,
   "id": "bfd8bac0",
   "metadata": {},
   "outputs": [],
   "source": [
    "#list안에 다른 list가 들어올수 있음(중첩리스트)\n",
    "a=[1,2,[3,4],5]"
   ]
  },
  {
   "cell_type": "code",
   "execution_count": 14,
   "id": "dbeb7762",
   "metadata": {},
   "outputs": [],
   "source": [
    "# 빈 리스트 생성\n",
    "a=[]\n",
    "a=list()"
   ]
  },
  {
   "cell_type": "code",
   "execution_count": 15,
   "id": "4be1e778",
   "metadata": {},
   "outputs": [
    {
     "name": "stdout",
     "output_type": "stream",
     "text": [
      "1\n",
      "4\n"
     ]
    }
   ],
   "source": [
    "#indexing\n",
    "a= [1,2,[3,4],5,6]\n",
    "print(a[0])\n",
    "print(a[2][1])# 중첩리스트 인덱싱"
   ]
  },
  {
   "cell_type": "code",
   "execution_count": 17,
   "id": "80e35fc2",
   "metadata": {},
   "outputs": [
    {
     "name": "stdout",
     "output_type": "stream",
     "text": [
      "[2, 3]\n",
      "[2, 3, [4, 5, 6], 7]\n",
      "[1, 2, 3]\n",
      "[1, 2, 3, [4, 5, 6], 7]\n"
     ]
    }
   ],
   "source": [
    "#slicing : 연속적인 부분집합을 만들어냄\n",
    "a=[1,2,3,[4,5,6],7]\n",
    "print(a[1:3])  #시작 인덱스는 inclusive(포함), 끝 인덱스는 exclusive(불포함)\n",
    "print(a[1:]) #1부터 끝까지\n",
    "print(a[:3]) #처음부터 인덱스2까지\n",
    "print(a[:])  #처음부터 끝까지"
   ]
  },
  {
   "cell_type": "code",
   "execution_count": 19,
   "id": "2b6ba850",
   "metadata": {},
   "outputs": [
    {
     "name": "stdout",
     "output_type": "stream",
     "text": [
      "[1, 2, 3, 5, 7, 9]\n",
      "[1, 2, 1, 2, 1, 2]\n"
     ]
    }
   ],
   "source": [
    "#리스트 연산\n",
    "a=[1,2,3]\n",
    "b=[5,7,9]\n",
    "print(a+b)\n",
    "\n",
    "# 원래 +기호는 숫자를 더하는 기호\n",
    "# 이 숫자를 더하는 기호인 +에 피연산자를 list를 사용\n",
    "# 이 + 연산자의 의미가 변함 -> 연산자 오버로딩(operator overloading)\n",
    "# 오버로딩이 발생하면서 +의 의미가 연결로 바뀜\n",
    "\n",
    "a=[1,2]\n",
    "result = a *3\n",
    "print(result)"
   ]
  },
  {
   "cell_type": "code",
   "execution_count": 20,
   "id": "d89ffe3b",
   "metadata": {},
   "outputs": [
    {
     "name": "stdout",
     "output_type": "stream",
     "text": [
      "2184762645888\n"
     ]
    }
   ],
   "source": [
    "#특수한 함수\n",
    "#id() -> 메모리 주소값을 찾아줌]\n",
    "print(id(a))\n",
    "\n",
    "#c언어를 제외한 다른 프로그래밍 언어는 메모리 주소를\n",
    "#직접적으로 조작할 수 없도록 디자인되어 있음\n",
    "#메모리 주소를 직접 조작하면 cracking 작업을 할 수 있음"
   ]
  },
  {
   "cell_type": "code",
   "execution_count": 24,
   "id": "320689c3",
   "metadata": {},
   "outputs": [
    {
     "name": "stdout",
     "output_type": "stream",
     "text": [
      "True\n",
      "False\n"
     ]
    }
   ],
   "source": [
    "a=100\n",
    "b=100\n",
    "\n",
    "print(a==b) #결과가 논리값으로 나옴\n",
    "# == 은 값을 비교\n",
    "\n",
    "c=300\n",
    "d=300\n",
    "print(c is d)\n",
    "# is는 메모리 주소값을 비교 (숫자에서는 0부터 256까지는 같은 주소값사용)"
   ]
  },
  {
   "cell_type": "markdown",
   "id": "6a4ce21d",
   "metadata": {},
   "source": [
    "### Python built-in data type\n",
    "\n",
    "1. Numeric\n",
    "    <class int>\n",
    "    <class float>\n",
    "    \n",
    "2. Sequence\n",
    "    <class list> :[]\n",
    "    <class tuple> :()\n",
    "    \n",
    "3. Text Sequence\n",
    "4. Mapping\n",
    "5. Set\n",
    "6. Bool"
   ]
  },
  {
   "cell_type": "code",
   "execution_count": 25,
   "id": "6ef6fdd6",
   "metadata": {},
   "outputs": [
    {
     "name": "stdout",
     "output_type": "stream",
     "text": [
      "<class 'tuple'>\n"
     ]
    }
   ],
   "source": [
    "#Tuple(튜플)\n",
    "a=(1,2,3)\n",
    "a=()\n",
    "a=tuple()\n",
    "print(type(a))"
   ]
  },
  {
   "cell_type": "code",
   "execution_count": 26,
   "id": "56f3bca3",
   "metadata": {},
   "outputs": [
    {
     "name": "stdout",
     "output_type": "stream",
     "text": [
      "3\n"
     ]
    }
   ],
   "source": [
    "a=(1,2,3,(4,5),6) #중첩 tuple\n",
    "a=(1,2,3,[4,5],6) #가능\n",
    "\n",
    "#indexing\n",
    "print(a[2])"
   ]
  },
  {
   "cell_type": "code",
   "execution_count": 27,
   "id": "61eae05a",
   "metadata": {},
   "outputs": [
    {
     "ename": "TypeError",
     "evalue": "'tuple' object does not support item assignment",
     "output_type": "error",
     "traceback": [
      "\u001b[1;31m---------------------------------------------------------------------------\u001b[0m",
      "\u001b[1;31mTypeError\u001b[0m                                 Traceback (most recent call last)",
      "\u001b[1;32m~\\AppData\\Local\\Temp/ipykernel_31264/2619425912.py\u001b[0m in \u001b[0;36m<module>\u001b[1;34m\u001b[0m\n\u001b[0;32m      1\u001b[0m \u001b[1;31m# tuple은 read only! 값 변경x\u001b[0m\u001b[1;33m\u001b[0m\u001b[1;33m\u001b[0m\u001b[1;33m\u001b[0m\u001b[0m\n\u001b[1;32m----> 2\u001b[1;33m \u001b[0ma\u001b[0m\u001b[1;33m[\u001b[0m\u001b[1;36m0\u001b[0m\u001b[1;33m]\u001b[0m \u001b[1;33m=\u001b[0m \u001b[1;36m100\u001b[0m\u001b[1;33m\u001b[0m\u001b[1;33m\u001b[0m\u001b[0m\n\u001b[0m",
      "\u001b[1;31mTypeError\u001b[0m: 'tuple' object does not support item assignment"
     ]
    }
   ],
   "source": [
    "# tuple은 read only! 값 변경x\n",
    "a[0] = 100"
   ]
  },
  {
   "cell_type": "code",
   "execution_count": 28,
   "id": "f1a40811",
   "metadata": {},
   "outputs": [],
   "source": [
    "#요소가 한개인 tuple은 우선순위 ()와 혼동되므로 \n",
    "a=(3,) #이렇게 표현"
   ]
  },
  {
   "cell_type": "code",
   "execution_count": 29,
   "id": "fc4ec121",
   "metadata": {},
   "outputs": [
    {
     "name": "stdout",
     "output_type": "stream",
     "text": [
      "<class 'tuple'>\n"
     ]
    }
   ],
   "source": [
    "# tuple은 소괄호 생략 가능\n",
    "a=1,2,3\n",
    "print(type(a))"
   ]
  },
  {
   "cell_type": "code",
   "execution_count": 30,
   "id": "d7a050d3",
   "metadata": {},
   "outputs": [
    {
     "name": "stdout",
     "output_type": "stream",
     "text": [
      "(1, 2, [100, 4], 5)\n"
     ]
    }
   ],
   "source": [
    "a=(1,2,[3,4],5)\n",
    "a[2][0] =100 # 가능? 불가능?\n",
    "\n",
    "# tuple은 읽기 전용이긴하지만 a[2]가 리스트 형태이므로 \n",
    "# 리스트를 가리키는 주소는 변경되지 않지만 리스트 안에 내용은 바꿀수 있음\n",
    "\n",
    "print(a)"
   ]
  },
  {
   "cell_type": "code",
   "execution_count": null,
   "id": "ae7f4248",
   "metadata": {},
   "outputs": [],
   "source": []
  }
 ],
 "metadata": {
  "kernelspec": {
   "display_name": "Python [conda env:.conda-data_env] *",
   "language": "python",
   "name": "conda-env-.conda-data_env-py"
  },
  "language_info": {
   "codemirror_mode": {
    "name": "ipython",
    "version": 3
   },
   "file_extension": ".py",
   "mimetype": "text/x-python",
   "name": "python",
   "nbconvert_exporter": "python",
   "pygments_lexer": "ipython3",
   "version": "3.8.12"
  }
 },
 "nbformat": 4,
 "nbformat_minor": 5
}
