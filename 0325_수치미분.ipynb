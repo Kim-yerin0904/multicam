{
 "cells": [
  {
   "cell_type": "code",
   "execution_count": 1,
   "id": "2387f4f5",
   "metadata": {},
   "outputs": [
    {
     "name": "stdout",
     "output_type": "stream",
     "text": [
      "<function my_func at 0x0000017D8CBF8CA0>\n"
     ]
    }
   ],
   "source": [
    "# python은 함수도 변수에 저장되는 개념\n",
    "\n",
    "def my_func():\n",
    "    print('Hello')\n",
    "print(my_func) # python의 함수는 변수에 저장됨, 함수이름이 변수명임\n",
    "\n",
    "# 일급함수(first-classes function)를 지원하는 프로그래밍 언어들이 있음\n",
    "# 자바스크립트, 파이썬들은 일급함수를 지원하는 프로그래밍 언어임!\n",
    "# c언어는 일급함수 지원X\n",
    "\n",
    "# 일급함수 : 함수가 변수에 저장이 가능\n",
    "# 함수 이름이 변수 이름이기 때문에 함수이름을 변수처럼 사용 가능 "
   ]
  },
  {
   "cell_type": "code",
   "execution_count": 2,
   "id": "382bf31b",
   "metadata": {},
   "outputs": [
    {
     "name": "stdout",
     "output_type": "stream",
     "text": [
      "50\n"
     ]
    }
   ],
   "source": [
    "def my_func2(x):\n",
    "    print(x+10)\n",
    "\n",
    "def my_func3(x):\n",
    "    x(20)\n",
    "def my_func4(x):\n",
    "    print(x+30)\n",
    "    \n",
    "my_func3(my_func4)   # 50"
   ]
  },
  {
   "cell_type": "code",
   "execution_count": 4,
   "id": "a82c45b4",
   "metadata": {},
   "outputs": [
    {
     "name": "stdout",
     "output_type": "stream",
     "text": [
      "9.999999999976694\n"
     ]
    }
   ],
   "source": [
    "# 미분값을 구하는 함수를 하나 만들어 보자\n",
    "# f(x) = x^2\n",
    "# f`(x) = 2x\n",
    "# f`(5) = 10\n",
    "# 우리가 가지고 있는 함수 f(x)\n",
    "def my_func(x):\n",
    "    return x**2\n",
    "\n",
    "# 미분을 수행하는 함수 (중앙차분 구하기)\n",
    "def numerical_derivative(f,x):\n",
    "    delta_x = 1e-4 # 극한에 해당하는 값, 너무 작은 값을 사용하면 실수 계산 오류가 발생,\n",
    "                   # 1e-4 정도의 값을 이용하면 적당한 수치미분 값을 구할 수 있음\n",
    "    return (f(x + delta_x) - f(x-delta_x)) / (2*delta_x)\n",
    "\n",
    "# f`(5)\n",
    "result = numerical_derivative(my_func, 5)\n",
    "print(result)   # 9.999999999976694  "
   ]
  },
  {
   "cell_type": "code",
   "execution_count": 5,
   "id": "d76ed50a",
   "metadata": {},
   "outputs": [
    {
     "name": "stdout",
     "output_type": "stream",
     "text": [
      "16.0\n"
     ]
    }
   ],
   "source": [
    "# 다변수 함수 (편미분)\n",
    "# f(x,y) = 2x + 3xy + y^3\n",
    "# f`(1.0, 2.0) = ??\n",
    "import numpy as np\n",
    "\n",
    "def my_func(x,y):\n",
    "    return 2*x +3*x*y + y**3\n",
    "print(my_func(1.0,2.0))  # 16.0\n",
    "# 변수가 많아지면 수치미분하는 코드는 2변수, 3변수, 4변수,. 계속 만들어야함"
   ]
  },
  {
   "cell_type": "code",
   "execution_count": 7,
   "id": "a1b120c9",
   "metadata": {},
   "outputs": [
    {
     "name": "stdout",
     "output_type": "stream",
     "text": [
      "16.0\n",
      "16.0\n"
     ]
    }
   ],
   "source": [
    "# 다변수일 때 하나의 코드로 수치 미분을 하기위해 \n",
    "# 변수를 set이나 list로 묶음 \n",
    "def my_func(input_value):   # input_value = (x,y)\n",
    "    x = input_value[0]\n",
    "    y = input_value[1]\n",
    "    return 2*x +3*x*y + y**3\n",
    "\n",
    "print(my_func((1.0,2.0))) #16.0\n",
    "print(my_func([1.0,2.0])) #16.0"
   ]
  },
  {
   "cell_type": "code",
   "execution_count": 11,
   "id": "bb909583",
   "metadata": {},
   "outputs": [
    {
     "data": {
      "text/plain": [
       "array([ 8.        , 15.00000001])"
      ]
     },
     "execution_count": 11,
     "metadata": {},
     "output_type": "execute_result"
    }
   ],
   "source": [
    "# f(x,y) = 2x + 3xy + y^3\n",
    "# f`(1.0, 2.0) = ??\n",
    "\n",
    "def my_func(input_value):   # input_value = (x,y)\n",
    "    x = input_value[0]\n",
    "    y = input_value[1]\n",
    "    return 2*x +3*x*y + y**3\n",
    "\n",
    "def numerical_derivative(f,x):  # x = ndarray[1.0, 2.0]\n",
    "                                \n",
    "    delta_x = 1e-4\n",
    "    derivative_x = np.zeros_like(x) # derivative_x = [0.0  0.0] \n",
    "    \n",
    "    # iterator를 이용해서 입력변수 x에 대한 편미분 수행\n",
    "    it = np.nditer(x,flags=['multi_index'])\n",
    "    \n",
    "    while not it.finished:\n",
    "        idx = it.multi_index\n",
    "        tmp = x[idx]              # tmp : 1.0\n",
    "        \n",
    "        x[idx] = tmp + delta_x    # x : ndarray[1.0001  2.0]\n",
    "        fx_plus_delta = f(x)\n",
    "        \n",
    "        x[idx] = tmp - delta_x    # x : ndarray[0.9999  2.0]\n",
    "        fx_minus_delta = f(x)\n",
    "        \n",
    "        derivative_x[idx] = (fx_plus_delta - fx_minus_delta) / (2 * delta_x)\n",
    "        \n",
    "        x[idx]  = tmp    # x : ndarray [1.0  2.0]\n",
    "        it.iternext()\n",
    "        \n",
    "    return derivative_x\n",
    "\n",
    "numerical_derivative(my_func,np.array([1.0,2.0]))   #array([ 8.        , 15.00000001])"
   ]
  },
  {
   "cell_type": "code",
   "execution_count": 12,
   "id": "35f4d6e2",
   "metadata": {},
   "outputs": [
    {
     "name": "stdout",
     "output_type": "stream",
     "text": [
      "[[ 5. 13.]\n",
      " [32. 15.]]\n"
     ]
    }
   ],
   "source": [
    "# 정상적으로 동작하는지 확인하기 위해 4변수 함수를 이요해서 수치미분해보기\n",
    "# f(w,x,y,z) = wx + xyz + 3w + zy^2\n",
    "# f`(1.0, 2.0, 3.0, 4.0) =?\n",
    "\n",
    "def my_func(input_value): # [[1.0, 2.0],\n",
    "                          #  [3.0, 4.0]]\n",
    "    w = input_value[0,0]\n",
    "    x = input_value[0,1]\n",
    "    y = input_value[1,0]\n",
    "    z = input_value[1,1]\n",
    "    \n",
    "    return (w*x) + (x*y*z) + (3*w) + (z*(y**2))\n",
    "\n",
    "result = numerical_derivative(my_func, np.array([[1.0, 2.0],[3.0, 4.0]]))\n",
    "print(result)   #[[ 5. 13.]\n",
    "                # [32. 15.]]"
   ]
  },
  {
   "cell_type": "code",
   "execution_count": null,
   "id": "c2192a21",
   "metadata": {},
   "outputs": [],
   "source": []
  },
  {
   "cell_type": "code",
   "execution_count": null,
   "id": "1d6f5364",
   "metadata": {},
   "outputs": [],
   "source": []
  },
  {
   "cell_type": "code",
   "execution_count": null,
   "id": "df606be0",
   "metadata": {},
   "outputs": [],
   "source": []
  },
  {
   "cell_type": "code",
   "execution_count": null,
   "id": "1bc49c8a",
   "metadata": {},
   "outputs": [],
   "source": []
  },
  {
   "cell_type": "code",
   "execution_count": null,
   "id": "cef1d2e4",
   "metadata": {},
   "outputs": [],
   "source": []
  },
  {
   "cell_type": "code",
   "execution_count": null,
   "id": "074f9d1f",
   "metadata": {},
   "outputs": [],
   "source": []
  },
  {
   "cell_type": "code",
   "execution_count": null,
   "id": "d6cc9b6f",
   "metadata": {},
   "outputs": [],
   "source": []
  },
  {
   "cell_type": "code",
   "execution_count": null,
   "id": "e93e9483",
   "metadata": {},
   "outputs": [],
   "source": []
  },
  {
   "cell_type": "code",
   "execution_count": null,
   "id": "e0571ba1",
   "metadata": {},
   "outputs": [],
   "source": []
  },
  {
   "cell_type": "code",
   "execution_count": null,
   "id": "a2d98d3d",
   "metadata": {},
   "outputs": [],
   "source": []
  },
  {
   "cell_type": "code",
   "execution_count": null,
   "id": "f4a0157c",
   "metadata": {},
   "outputs": [],
   "source": []
  },
  {
   "cell_type": "code",
   "execution_count": null,
   "id": "1df9129c",
   "metadata": {},
   "outputs": [],
   "source": []
  },
  {
   "cell_type": "code",
   "execution_count": null,
   "id": "3a1991de",
   "metadata": {},
   "outputs": [],
   "source": []
  },
  {
   "cell_type": "code",
   "execution_count": null,
   "id": "3ff911ee",
   "metadata": {},
   "outputs": [],
   "source": []
  },
  {
   "cell_type": "code",
   "execution_count": null,
   "id": "d67f9315",
   "metadata": {},
   "outputs": [],
   "source": []
  },
  {
   "cell_type": "code",
   "execution_count": null,
   "id": "c71af345",
   "metadata": {},
   "outputs": [],
   "source": []
  },
  {
   "cell_type": "code",
   "execution_count": null,
   "id": "27e25f7f",
   "metadata": {},
   "outputs": [],
   "source": []
  },
  {
   "cell_type": "code",
   "execution_count": null,
   "id": "6fb2339f",
   "metadata": {},
   "outputs": [],
   "source": []
  },
  {
   "cell_type": "code",
   "execution_count": null,
   "id": "1b533967",
   "metadata": {},
   "outputs": [],
   "source": []
  },
  {
   "cell_type": "code",
   "execution_count": null,
   "id": "14cee308",
   "metadata": {},
   "outputs": [],
   "source": []
  },
  {
   "cell_type": "code",
   "execution_count": null,
   "id": "01057bd1",
   "metadata": {},
   "outputs": [],
   "source": []
  },
  {
   "cell_type": "code",
   "execution_count": null,
   "id": "7e128450",
   "metadata": {},
   "outputs": [],
   "source": []
  },
  {
   "cell_type": "code",
   "execution_count": null,
   "id": "2ef9af5f",
   "metadata": {},
   "outputs": [],
   "source": []
  },
  {
   "cell_type": "code",
   "execution_count": null,
   "id": "7a11100a",
   "metadata": {},
   "outputs": [],
   "source": []
  },
  {
   "cell_type": "code",
   "execution_count": null,
   "id": "57b8481d",
   "metadata": {},
   "outputs": [],
   "source": []
  },
  {
   "cell_type": "code",
   "execution_count": null,
   "id": "eff6b4fe",
   "metadata": {},
   "outputs": [],
   "source": []
  },
  {
   "cell_type": "code",
   "execution_count": null,
   "id": "851781c8",
   "metadata": {},
   "outputs": [],
   "source": []
  },
  {
   "cell_type": "code",
   "execution_count": null,
   "id": "6ee47bf7",
   "metadata": {},
   "outputs": [],
   "source": []
  },
  {
   "cell_type": "code",
   "execution_count": null,
   "id": "ae70e7be",
   "metadata": {},
   "outputs": [],
   "source": []
  },
  {
   "cell_type": "code",
   "execution_count": null,
   "id": "1b32fe74",
   "metadata": {},
   "outputs": [],
   "source": []
  },
  {
   "cell_type": "code",
   "execution_count": null,
   "id": "d0089b13",
   "metadata": {},
   "outputs": [],
   "source": []
  },
  {
   "cell_type": "code",
   "execution_count": null,
   "id": "9fdc04ca",
   "metadata": {},
   "outputs": [],
   "source": []
  },
  {
   "cell_type": "code",
   "execution_count": null,
   "id": "844609f7",
   "metadata": {},
   "outputs": [],
   "source": []
  },
  {
   "cell_type": "code",
   "execution_count": null,
   "id": "14059d39",
   "metadata": {},
   "outputs": [],
   "source": []
  },
  {
   "cell_type": "code",
   "execution_count": null,
   "id": "ea8723ad",
   "metadata": {},
   "outputs": [],
   "source": []
  },
  {
   "cell_type": "code",
   "execution_count": null,
   "id": "fec473b0",
   "metadata": {},
   "outputs": [],
   "source": []
  },
  {
   "cell_type": "code",
   "execution_count": null,
   "id": "7a067063",
   "metadata": {},
   "outputs": [],
   "source": []
  },
  {
   "cell_type": "code",
   "execution_count": null,
   "id": "e6b18597",
   "metadata": {},
   "outputs": [],
   "source": []
  },
  {
   "cell_type": "code",
   "execution_count": null,
   "id": "4b046ae8",
   "metadata": {},
   "outputs": [],
   "source": []
  },
  {
   "cell_type": "code",
   "execution_count": null,
   "id": "e575f215",
   "metadata": {},
   "outputs": [],
   "source": []
  },
  {
   "cell_type": "code",
   "execution_count": null,
   "id": "12e91b74",
   "metadata": {},
   "outputs": [],
   "source": []
  },
  {
   "cell_type": "code",
   "execution_count": null,
   "id": "e30219a7",
   "metadata": {},
   "outputs": [],
   "source": []
  },
  {
   "cell_type": "code",
   "execution_count": null,
   "id": "af1f8317",
   "metadata": {},
   "outputs": [],
   "source": []
  },
  {
   "cell_type": "code",
   "execution_count": null,
   "id": "68c74a2d",
   "metadata": {},
   "outputs": [],
   "source": []
  }
 ],
 "metadata": {
  "kernelspec": {
   "display_name": "Python 3 (ipykernel)",
   "language": "python",
   "name": "python3"
  },
  "language_info": {
   "codemirror_mode": {
    "name": "ipython",
    "version": 3
   },
   "file_extension": ".py",
   "mimetype": "text/x-python",
   "name": "python",
   "nbconvert_exporter": "python",
   "pygments_lexer": "ipython3",
   "version": "3.7.0"
  }
 },
 "nbformat": 4,
 "nbformat_minor": 5
}
