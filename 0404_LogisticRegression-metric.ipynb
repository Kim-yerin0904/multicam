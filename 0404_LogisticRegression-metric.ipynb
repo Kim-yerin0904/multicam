{
 "cells": [
  {
   "cell_type": "code",
   "execution_count": 1,
   "id": "febaca83",
   "metadata": {},
   "outputs": [],
   "source": [
    "import numpy as np\n",
    "import pandas as pd\n",
    "import tensorflow as tf\n",
    "from sklearn import linear_model  # sklearn으로 logistic 구현\n",
    "from sklearn.preprocessing import MinMaxScaler  # 정규화 진행\n",
    "from scipy import stats #이상치 처리\n",
    "import matplotlib.pyplot as plt"
   ]
  },
  {
   "cell_type": "code",
   "execution_count": 2,
   "id": "80836100",
   "metadata": {},
   "outputs": [],
   "source": [
    "import warnings\n",
    "warnings.filterwarnings(action='ignore')"
   ]
  },
  {
   "cell_type": "code",
   "execution_count": 3,
   "id": "ae329880",
   "metadata": {},
   "outputs": [
    {
     "data": {
      "text/html": [
       "<div>\n",
       "<style scoped>\n",
       "    .dataframe tbody tr th:only-of-type {\n",
       "        vertical-align: middle;\n",
       "    }\n",
       "\n",
       "    .dataframe tbody tr th {\n",
       "        vertical-align: top;\n",
       "    }\n",
       "\n",
       "    .dataframe thead th {\n",
       "        text-align: right;\n",
       "    }\n",
       "</style>\n",
       "<table border=\"1\" class=\"dataframe\">\n",
       "  <thead>\n",
       "    <tr style=\"text-align: right;\">\n",
       "      <th></th>\n",
       "      <th>admit</th>\n",
       "      <th>gre</th>\n",
       "      <th>gpa</th>\n",
       "      <th>rank</th>\n",
       "    </tr>\n",
       "  </thead>\n",
       "  <tbody>\n",
       "    <tr>\n",
       "      <th>0</th>\n",
       "      <td>0</td>\n",
       "      <td>380</td>\n",
       "      <td>3.61</td>\n",
       "      <td>3</td>\n",
       "    </tr>\n",
       "    <tr>\n",
       "      <th>1</th>\n",
       "      <td>1</td>\n",
       "      <td>660</td>\n",
       "      <td>3.67</td>\n",
       "      <td>3</td>\n",
       "    </tr>\n",
       "    <tr>\n",
       "      <th>2</th>\n",
       "      <td>1</td>\n",
       "      <td>800</td>\n",
       "      <td>4.00</td>\n",
       "      <td>1</td>\n",
       "    </tr>\n",
       "    <tr>\n",
       "      <th>3</th>\n",
       "      <td>1</td>\n",
       "      <td>640</td>\n",
       "      <td>3.19</td>\n",
       "      <td>4</td>\n",
       "    </tr>\n",
       "    <tr>\n",
       "      <th>4</th>\n",
       "      <td>0</td>\n",
       "      <td>520</td>\n",
       "      <td>2.93</td>\n",
       "      <td>4</td>\n",
       "    </tr>\n",
       "  </tbody>\n",
       "</table>\n",
       "</div>"
      ],
      "text/plain": [
       "   admit  gre   gpa  rank\n",
       "0      0  380  3.61     3\n",
       "1      1  660  3.67     3\n",
       "2      1  800  4.00     1\n",
       "3      1  640  3.19     4\n",
       "4      0  520  2.93     4"
      ]
     },
     "metadata": {},
     "output_type": "display_data"
    }
   ],
   "source": [
    "# data loading\n",
    "df = pd.read_csv('C:/jupyter_home/data/admission.csv')\n",
    "display(df.head())"
   ]
  },
  {
   "cell_type": "code",
   "execution_count": 4,
   "id": "ac795957",
   "metadata": {},
   "outputs": [
    {
     "data": {
      "text/plain": [
       "admit    0\n",
       "gre      0\n",
       "gpa      0\n",
       "rank     0\n",
       "dtype: int64"
      ]
     },
     "execution_count": 4,
     "metadata": {},
     "output_type": "execute_result"
    }
   ],
   "source": [
    "#preprocessing\n",
    "# 결측치 처리\n",
    "df.isnull().sum()\n",
    "# 결측치 없음!"
   ]
  },
  {
   "cell_type": "code",
   "execution_count": 5,
   "id": "3a9e0ee1",
   "metadata": {},
   "outputs": [
    {
     "data": {
      "image/png": "[encoded data removed]",
      "text/plain": [
       "<Figure size 432x288 with 4 Axes>"
      ]
     },
     "metadata": {
      "needs_background": "light"
     },
     "output_type": "display_data"
    }
   ],
   "source": [
    "# 이상치 처리\n",
    "# 종속변수의 이상치=outlier, 독립변수의 이상치= 지대값\n",
    "figure = plt.figure()\n",
    "ax1 = figure.add_subplot(1,4,1)\n",
    "ax2 = figure.add_subplot(1,4,2)\n",
    "ax3 = figure.add_subplot(1,4,3)\n",
    "ax4 = figure.add_subplot(1,4,4)\n",
    "ax1.set_title('admit')\n",
    "ax2.set_title('GRE')\n",
    "ax3.set_title('GPA')\n",
    "ax4.set_title('RANK')\n",
    "\n",
    "ax1.boxplot(df['admit'])\n",
    "ax2.boxplot(df['gre'])\n",
    "ax3.boxplot(df['gpa'])\n",
    "ax4.boxplot(df['rank'])\n",
    "\n",
    "figure.tight_layout()\n",
    "plt.show()\n",
    "\n",
    "# 이상치 존재 z-score이용해서 이상치 제거 "
   ]
  },
  {
   "cell_type": "code",
   "execution_count": 6,
   "id": "7d046402",
   "metadata": {},
   "outputs": [
    {
     "name": "stdout",
     "output_type": "stream",
     "text": [
      "(400, 4)\n",
      "(392, 4)\n"
     ]
    }
   ],
   "source": [
    "print(df.shape)  #(400, 4)\n",
    "\n",
    "# 이상치 제거 \n",
    "zscore_threshold = 2.0\n",
    "\n",
    "for col in df.columns:\n",
    "    #print(np.abs(stats.zscore(df[col])))\n",
    "    outlier = df[col][np.abs(stats.zscore(df[col]))>zscore_threshold]\n",
    "    df = df.loc[~df['gre'].isin(outlier)]\n",
    "    \n",
    "print(df.shape)   #(392, 4)   "
   ]
  },
  {
   "cell_type": "code",
   "execution_count": 7,
   "id": "1781e1ed",
   "metadata": {},
   "outputs": [
    {
     "data": {
      "text/html": [
       "<div>\n",
       "<style scoped>\n",
       "    .dataframe tbody tr th:only-of-type {\n",
       "        vertical-align: middle;\n",
       "    }\n",
       "\n",
       "    .dataframe tbody tr th {\n",
       "        vertical-align: top;\n",
       "    }\n",
       "\n",
       "    .dataframe thead th {\n",
       "        text-align: right;\n",
       "    }\n",
       "</style>\n",
       "<table border=\"1\" class=\"dataframe\">\n",
       "  <thead>\n",
       "    <tr style=\"text-align: right;\">\n",
       "      <th></th>\n",
       "      <th>gre</th>\n",
       "      <th>gpa</th>\n",
       "      <th>rank</th>\n",
       "    </tr>\n",
       "  </thead>\n",
       "  <tbody>\n",
       "    <tr>\n",
       "      <th>0</th>\n",
       "      <td>380</td>\n",
       "      <td>3.61</td>\n",
       "      <td>3</td>\n",
       "    </tr>\n",
       "    <tr>\n",
       "      <th>1</th>\n",
       "      <td>660</td>\n",
       "      <td>3.67</td>\n",
       "      <td>3</td>\n",
       "    </tr>\n",
       "    <tr>\n",
       "      <th>2</th>\n",
       "      <td>800</td>\n",
       "      <td>4.00</td>\n",
       "      <td>1</td>\n",
       "    </tr>\n",
       "    <tr>\n",
       "      <th>3</th>\n",
       "      <td>640</td>\n",
       "      <td>3.19</td>\n",
       "      <td>4</td>\n",
       "    </tr>\n",
       "    <tr>\n",
       "      <th>4</th>\n",
       "      <td>520</td>\n",
       "      <td>2.93</td>\n",
       "      <td>4</td>\n",
       "    </tr>\n",
       "  </tbody>\n",
       "</table>\n",
       "</div>"
      ],
      "text/plain": [
       "   gre   gpa  rank\n",
       "0  380  3.61     3\n",
       "1  660  3.67     3\n",
       "2  800  4.00     1\n",
       "3  640  3.19     4\n",
       "4  520  2.93     4"
      ]
     },
     "metadata": {},
     "output_type": "display_data"
    },
    {
     "name": "stdout",
     "output_type": "stream",
     "text": [
      "[[0.04545455 0.77586207 0.66666667]\n",
      " [0.68181818 0.81034483 0.66666667]\n",
      " [1.         1.         0.        ]\n",
      " ...\n",
      " [0.22727273 0.21264368 0.33333333]\n",
      " [0.77272727 0.79885057 0.33333333]\n",
      " [0.54545455 0.93678161 0.66666667]]\n"
     ]
    }
   ],
   "source": [
    "# 정규화 \n",
    "x_data = df.drop('admit',axis=1,inplace=False)\n",
    "display(x_data.head())\n",
    "t_data = df['admit'].values.reshape(-1,1)\n",
    "\n",
    "scaler = MinMaxScaler()\n",
    "scaler.fit(x_data)\n",
    "\n",
    "norm_x_data = scaler.transform(x_data)\n",
    "print(norm_x_data)"
   ]
  },
  {
   "cell_type": "code",
   "execution_count": 8,
   "id": "806e5af1",
   "metadata": {},
   "outputs": [
    {
     "name": "stdout",
     "output_type": "stream",
     "text": [
      "sklearn의 결과: 합격여부:[1] , 확률:[[0.43564749 0.56435251]]\n"
     ]
    }
   ],
   "source": [
    "## sklearn 구현\n",
    "model = linear_model.LogisticRegression()\n",
    "model.fit(x_data,t_data)\n",
    "my_score = np.array([[600,3.8,1]])\n",
    "predict_val = model.predict(my_score)   #0 or 1로 결과 도출\n",
    "predict_proba = model.predict_proba(my_score)  # 확률값으로 결과 도출\n",
    "\n",
    "print('sklearn의 결과: 합격여부:{} , 확률:{}'.format(predict_val,predict_proba))"
   ]
  },
  {
   "cell_type": "code",
   "execution_count": 9,
   "id": "9020c82e",
   "metadata": {
    "scrolled": false
   },
   "outputs": [
    {
     "name": "stdout",
     "output_type": "stream",
     "text": [
      "WARNING:tensorflow:From C:\\Users\\LG\\AppData\\Local\\Temp\\ipykernel_23148\\2397905383.py:4: The name tf.placeholder is deprecated. Please use tf.compat.v1.placeholder instead.\n",
      "\n",
      "WARNING:tensorflow:From C:\\Users\\LG\\.conda\\envs\\machine_TF15\\lib\\site-packages\\tensorflow_core\\python\\ops\\nn_impl.py:183: where (from tensorflow.python.ops.array_ops) is deprecated and will be removed in a future version.\n",
      "Instructions for updating:\n",
      "Use tf.where in 2.0, which has the same broadcast rule as np.where\n",
      "WARNING:tensorflow:From C:\\Users\\LG\\AppData\\Local\\Temp\\ipykernel_23148\\2397905383.py:20: The name tf.train.GradientDescentOptimizer is deprecated. Please use tf.compat.v1.train.GradientDescentOptimizer instead.\n",
      "\n",
      "WARNING:tensorflow:From C:\\Users\\LG\\AppData\\Local\\Temp\\ipykernel_23148\\2397905383.py:23: The name tf.Session is deprecated. Please use tf.compat.v1.Session instead.\n",
      "\n",
      "WARNING:tensorflow:From C:\\Users\\LG\\AppData\\Local\\Temp\\ipykernel_23148\\2397905383.py:24: The name tf.global_variables_initializer is deprecated. Please use tf.compat.v1.global_variables_initializer instead.\n",
      "\n",
      "loss의 값:0.8069518804550171\n",
      "loss의 값:0.6620033383369446\n",
      "loss의 값:0.645420253276825\n",
      "loss의 값:0.6372449994087219\n",
      "loss의 값:0.6304810047149658\n",
      "loss의 값:0.6245693564414978\n",
      "loss의 값:0.6193606853485107\n",
      "loss의 값:0.6147692799568176\n",
      "loss의 값:0.6107181906700134\n",
      "loss의 값:0.6071361899375916\n",
      "tensorflow로 예측한 결과:[[0.42562807]]\n"
     ]
    }
   ],
   "source": [
    "# tensorflow 구현\n",
    "\n",
    "# placeholder\n",
    "X = tf.placeholder(shape=[None,3], dtype=tf.float32)\n",
    "T = tf.placeholder(shape=[None,1], dtype=tf.float32)\n",
    "\n",
    "# weight & bias\n",
    "W = tf.Variable(tf.random.normal([3,1]))\n",
    "b = tf.Variable(tf.random.normal([1]))\n",
    "\n",
    "# hypothesis, model, predict model, logistic regression model\n",
    "logit = tf.matmul(X,W) + b\n",
    "H = tf.sigmoid(logit)\n",
    "\n",
    "# loss function, cross entropy, log loss라고 하기도 함\n",
    "loss =  tf.reduce_mean(tf.nn.sigmoid_cross_entropy_with_logits(logits=logit,\n",
    "                                                              labels=T))\n",
    "\n",
    "#train\n",
    "train = tf.train.GradientDescentOptimizer(learning_rate = 1e-4).minimize(loss)\n",
    "\n",
    "# session, 초기화\n",
    "sess = tf.Session()\n",
    "sess.run(tf.global_variables_initializer())\n",
    "\n",
    "# 반복학습\n",
    "for step in range(300000):\n",
    "    _, loss_val = sess.run([train,loss],feed_dict={X:norm_x_data, T:t_data})\n",
    "    \n",
    "    if step % 30000==0:\n",
    "        print('loss의 값:{}'.format(loss_val))\n",
    "        \n",
    "#predict\n",
    "my_score = np.array([[600,3.8,1]])\n",
    "norm_my_score = scaler.transform(my_score)\n",
    "result = sess.run(H, feed_dict={X:norm_my_score})\n",
    "print('tensorflow로 예측한 결과:{}'.format(result))"
   ]
  },
  {
   "cell_type": "markdown",
   "id": "4b7fcb0c",
   "metadata": {},
   "source": [
    "## metrics"
   ]
  },
  {
   "cell_type": "code",
   "execution_count": 11,
   "id": "12892ac1",
   "metadata": {
    "scrolled": false
   },
   "outputs": [
    {
     "data": {
      "text/html": [
       "<div>\n",
       "<style scoped>\n",
       "    .dataframe tbody tr th:only-of-type {\n",
       "        vertical-align: middle;\n",
       "    }\n",
       "\n",
       "    .dataframe tbody tr th {\n",
       "        vertical-align: top;\n",
       "    }\n",
       "\n",
       "    .dataframe thead th {\n",
       "        text-align: right;\n",
       "    }\n",
       "</style>\n",
       "<table border=\"1\" class=\"dataframe\">\n",
       "  <thead>\n",
       "    <tr style=\"text-align: right;\">\n",
       "      <th></th>\n",
       "      <th>Ozone</th>\n",
       "      <th>Solar.R</th>\n",
       "      <th>Wind</th>\n",
       "      <th>Temp</th>\n",
       "      <th>Month</th>\n",
       "      <th>Day</th>\n",
       "    </tr>\n",
       "  </thead>\n",
       "  <tbody>\n",
       "    <tr>\n",
       "      <th>0</th>\n",
       "      <td>41.0</td>\n",
       "      <td>190.0</td>\n",
       "      <td>7.4</td>\n",
       "      <td>67</td>\n",
       "      <td>5</td>\n",
       "      <td>1</td>\n",
       "    </tr>\n",
       "    <tr>\n",
       "      <th>1</th>\n",
       "      <td>36.0</td>\n",
       "      <td>118.0</td>\n",
       "      <td>8.0</td>\n",
       "      <td>72</td>\n",
       "      <td>5</td>\n",
       "      <td>2</td>\n",
       "    </tr>\n",
       "    <tr>\n",
       "      <th>2</th>\n",
       "      <td>12.0</td>\n",
       "      <td>149.0</td>\n",
       "      <td>12.6</td>\n",
       "      <td>74</td>\n",
       "      <td>5</td>\n",
       "      <td>3</td>\n",
       "    </tr>\n",
       "    <tr>\n",
       "      <th>3</th>\n",
       "      <td>18.0</td>\n",
       "      <td>313.0</td>\n",
       "      <td>11.5</td>\n",
       "      <td>62</td>\n",
       "      <td>5</td>\n",
       "      <td>4</td>\n",
       "    </tr>\n",
       "    <tr>\n",
       "      <th>4</th>\n",
       "      <td>NaN</td>\n",
       "      <td>NaN</td>\n",
       "      <td>14.3</td>\n",
       "      <td>56</td>\n",
       "      <td>5</td>\n",
       "      <td>5</td>\n",
       "    </tr>\n",
       "  </tbody>\n",
       "</table>\n",
       "</div>"
      ],
      "text/plain": [
       "   Ozone  Solar.R  Wind  Temp  Month  Day\n",
       "0   41.0    190.0   7.4    67      5    1\n",
       "1   36.0    118.0   8.0    72      5    2\n",
       "2   12.0    149.0  12.6    74      5    3\n",
       "3   18.0    313.0  11.5    62      5    4\n",
       "4    NaN      NaN  14.3    56      5    5"
      ]
     },
     "metadata": {},
     "output_type": "display_data"
    },
    {
     "data": {
      "text/html": [
       "<div>\n",
       "<style scoped>\n",
       "    .dataframe tbody tr th:only-of-type {\n",
       "        vertical-align: middle;\n",
       "    }\n",
       "\n",
       "    .dataframe tbody tr th {\n",
       "        vertical-align: top;\n",
       "    }\n",
       "\n",
       "    .dataframe thead th {\n",
       "        text-align: right;\n",
       "    }\n",
       "</style>\n",
       "<table border=\"1\" class=\"dataframe\">\n",
       "  <thead>\n",
       "    <tr style=\"text-align: right;\">\n",
       "      <th></th>\n",
       "      <th>Ozone</th>\n",
       "      <th>Solar.R</th>\n",
       "      <th>Wind</th>\n",
       "      <th>Temp</th>\n",
       "      <th>Month</th>\n",
       "      <th>Day</th>\n",
       "    </tr>\n",
       "  </thead>\n",
       "  <tbody>\n",
       "    <tr>\n",
       "      <th>0</th>\n",
       "      <td>41.0</td>\n",
       "      <td>190.0</td>\n",
       "      <td>7.4</td>\n",
       "      <td>67</td>\n",
       "      <td>5</td>\n",
       "      <td>1</td>\n",
       "    </tr>\n",
       "    <tr>\n",
       "      <th>1</th>\n",
       "      <td>36.0</td>\n",
       "      <td>118.0</td>\n",
       "      <td>8.0</td>\n",
       "      <td>72</td>\n",
       "      <td>5</td>\n",
       "      <td>2</td>\n",
       "    </tr>\n",
       "    <tr>\n",
       "      <th>2</th>\n",
       "      <td>12.0</td>\n",
       "      <td>149.0</td>\n",
       "      <td>12.6</td>\n",
       "      <td>74</td>\n",
       "      <td>5</td>\n",
       "      <td>3</td>\n",
       "    </tr>\n",
       "    <tr>\n",
       "      <th>3</th>\n",
       "      <td>18.0</td>\n",
       "      <td>313.0</td>\n",
       "      <td>11.5</td>\n",
       "      <td>62</td>\n",
       "      <td>5</td>\n",
       "      <td>4</td>\n",
       "    </tr>\n",
       "    <tr>\n",
       "      <th>6</th>\n",
       "      <td>23.0</td>\n",
       "      <td>299.0</td>\n",
       "      <td>8.6</td>\n",
       "      <td>65</td>\n",
       "      <td>5</td>\n",
       "      <td>7</td>\n",
       "    </tr>\n",
       "  </tbody>\n",
       "</table>\n",
       "</div>"
      ],
      "text/plain": [
       "   Ozone  Solar.R  Wind  Temp  Month  Day\n",
       "0   41.0    190.0   7.4    67      5    1\n",
       "1   36.0    118.0   8.0    72      5    2\n",
       "2   12.0    149.0  12.6    74      5    3\n",
       "3   18.0    313.0  11.5    62      5    4\n",
       "6   23.0    299.0   8.6    65      5    7"
      ]
     },
     "metadata": {},
     "output_type": "display_data"
    }
   ],
   "source": [
    "from sklearn.model_selection import train_test_split\n",
    "\n",
    "# data loading\n",
    "df = pd.read_csv('c:/jupyter_home/data/ozone.csv')\n",
    "display(df.head())\n",
    "# 결측치 제거\n",
    "training_data = df.dropna(how='any',inplace=False)\n",
    "\n",
    "# 이상치 제거\n",
    "zscore_threshold = 2.0\n",
    "\n",
    "for col in training_data.columns:\n",
    "    outlier = training_data[col][np.abs(stats.zscore(training_data[col]))>zscore_threshold]\n",
    "    training_data = training_data.loc[~training_data[col].isin(outlier)]\n",
    "    \n",
    "#sklearn으로 구현해서 정규화는 안함\n",
    "display(training_data.head())"
   ]
  },
  {
   "cell_type": "code",
   "execution_count": 12,
   "id": "f58f5a01",
   "metadata": {},
   "outputs": [],
   "source": [
    "#data set\n",
    "x_data = training_data[['Solar.R','Wind','Temp']].values\n",
    "t_data = training_data['Ozone'].values.reshape(-1,1)\n",
    "\n",
    "# Train / Validation data set\n",
    "train_x_data, valid_x_data, train_t_data,valid_t_data = train_test_split(x_data,\n",
    "                                                                         t_data,\n",
    "                                                                         test_size=0.3,\n",
    "                                                                         random_state=2)"
   ]
  },
  {
   "cell_type": "code",
   "execution_count": 13,
   "id": "fd5cd21f",
   "metadata": {},
   "outputs": [
    {
     "data": {
      "text/plain": [
       "LinearRegression()"
      ]
     },
     "execution_count": 13,
     "metadata": {},
     "output_type": "execute_result"
    }
   ],
   "source": [
    "# 모델 생성, 학습\n",
    "model = linear_model.LinearRegression()\n",
    "model.fit(train_x_data,train_t_data)"
   ]
  },
  {
   "cell_type": "code",
   "execution_count": 14,
   "id": "69aa4272",
   "metadata": {},
   "outputs": [],
   "source": [
    "# 예측값(predict_value), 정답(valid_t_data)\n",
    "predict_value = model.predict(valid_x_data)\n",
    "# 예측값과 정답의 차이가 작을수록 좋음"
   ]
  },
  {
   "cell_type": "code",
   "execution_count": 15,
   "id": "774aba34",
   "metadata": {},
   "outputs": [
    {
     "name": "stdout",
     "output_type": "stream",
     "text": [
      "13.924465776324642\n"
     ]
    }
   ],
   "source": [
    "from sklearn.metrics import mean_absolute_error\n",
    "print(mean_absolute_error(valid_t_data,predict_value))\n",
    "# 13.924465776324642"
   ]
  },
  {
   "cell_type": "code",
   "execution_count": 17,
   "id": "f9ddf625",
   "metadata": {},
   "outputs": [
    {
     "name": "stdout",
     "output_type": "stream",
     "text": [
      "271.5671192367061\n"
     ]
    }
   ],
   "source": [
    "from sklearn.metrics import mean_squared_error\n",
    "print(mean_squared_error(valid_t_data,predict_value))\n",
    "# 271.5671192367061"
   ]
  },
  {
   "cell_type": "code",
   "execution_count": 19,
   "id": "a3236839",
   "metadata": {},
   "outputs": [
    {
     "name": "stdout",
     "output_type": "stream",
     "text": [
      "0.3734728354920861\n"
     ]
    }
   ],
   "source": [
    "from sklearn.metrics import r2_score\n",
    "print(r2_score(valid_t_data,predict_value))\n",
    "# 0.3734728354920861"
   ]
  },
  {
   "cell_type": "code",
   "execution_count": null,
   "id": "1312686f",
   "metadata": {},
   "outputs": [],
   "source": []
  },
  {
   "cell_type": "code",
   "execution_count": null,
   "id": "67c5ab8f",
   "metadata": {},
   "outputs": [],
   "source": []
  },
  {
   "cell_type": "code",
   "execution_count": null,
   "id": "e1316187",
   "metadata": {},
   "outputs": [],
   "source": []
  },
  {
   "cell_type": "code",
   "execution_count": null,
   "id": "82309db1",
   "metadata": {},
   "outputs": [],
   "source": []
  },
  {
   "cell_type": "code",
   "execution_count": null,
   "id": "09cb6645",
   "metadata": {},
   "outputs": [],
   "source": []
  },
  {
   "cell_type": "code",
   "execution_count": null,
   "id": "f3f367df",
   "metadata": {},
   "outputs": [],
   "source": []
  },
  {
   "cell_type": "code",
   "execution_count": null,
   "id": "1c2a4835",
   "metadata": {},
   "outputs": [],
   "source": []
  },
  {
   "cell_type": "code",
   "execution_count": null,
   "id": "4ba416b5",
   "metadata": {},
   "outputs": [],
   "source": []
  },
  {
   "cell_type": "code",
   "execution_count": null,
   "id": "57938c5a",
   "metadata": {},
   "outputs": [],
   "source": []
  }
 ],
 "metadata": {
  "kernelspec": {
   "display_name": "Python 3 (ipykernel)",
   "language": "python",
   "name": "python3"
  },
  "language_info": {
   "codemirror_mode": {
    "name": "ipython",
    "version": 3
   },
   "file_extension": ".py",
   "mimetype": "text/x-python",
   "name": "python",
   "nbconvert_exporter": "python",
   "pygments_lexer": "ipython3",
   "version": "3.7.0"
  }
 },
 "nbformat": 4,
 "nbformat_minor": 5
}
