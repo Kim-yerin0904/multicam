{
 "cells": [
  {
   "cell_type": "code",
   "execution_count": 1,
   "id": "8d87c7a2",
   "metadata": {},
   "outputs": [],
   "source": [
    "import pandas as pd\n",
    "import numpy as np\n",
    "import matplotlib.pyplot as plt"
   ]
  },
  {
   "cell_type": "code",
   "execution_count": 2,
   "id": "e1f5d162",
   "metadata": {},
   "outputs": [
    {
     "data": {
      "text/html": [
       "<div>\n",
       "<style scoped>\n",
       "    .dataframe tbody tr th:only-of-type {\n",
       "        vertical-align: middle;\n",
       "    }\n",
       "\n",
       "    .dataframe tbody tr th {\n",
       "        vertical-align: top;\n",
       "    }\n",
       "\n",
       "    .dataframe thead th {\n",
       "        text-align: right;\n",
       "    }\n",
       "</style>\n",
       "<table border=\"1\" class=\"dataframe\">\n",
       "  <thead>\n",
       "    <tr style=\"text-align: right;\">\n",
       "      <th></th>\n",
       "      <th>english</th>\n",
       "      <th>mathematics</th>\n",
       "    </tr>\n",
       "  </thead>\n",
       "  <tbody>\n",
       "    <tr>\n",
       "      <th>A</th>\n",
       "      <td>42</td>\n",
       "      <td>65</td>\n",
       "    </tr>\n",
       "    <tr>\n",
       "      <th>B</th>\n",
       "      <td>69</td>\n",
       "      <td>80</td>\n",
       "    </tr>\n",
       "    <tr>\n",
       "      <th>C</th>\n",
       "      <td>56</td>\n",
       "      <td>63</td>\n",
       "    </tr>\n",
       "    <tr>\n",
       "      <th>D</th>\n",
       "      <td>41</td>\n",
       "      <td>63</td>\n",
       "    </tr>\n",
       "    <tr>\n",
       "      <th>E</th>\n",
       "      <td>57</td>\n",
       "      <td>76</td>\n",
       "    </tr>\n",
       "    <tr>\n",
       "      <th>F</th>\n",
       "      <td>48</td>\n",
       "      <td>60</td>\n",
       "    </tr>\n",
       "    <tr>\n",
       "      <th>G</th>\n",
       "      <td>65</td>\n",
       "      <td>81</td>\n",
       "    </tr>\n",
       "    <tr>\n",
       "      <th>H</th>\n",
       "      <td>49</td>\n",
       "      <td>66</td>\n",
       "    </tr>\n",
       "    <tr>\n",
       "      <th>I</th>\n",
       "      <td>65</td>\n",
       "      <td>78</td>\n",
       "    </tr>\n",
       "    <tr>\n",
       "      <th>J</th>\n",
       "      <td>58</td>\n",
       "      <td>82</td>\n",
       "    </tr>\n",
       "  </tbody>\n",
       "</table>\n",
       "</div>"
      ],
      "text/plain": [
       "   english  mathematics\n",
       "A       42           65\n",
       "B       69           80\n",
       "C       56           63\n",
       "D       41           63\n",
       "E       57           76\n",
       "F       48           60\n",
       "G       65           81\n",
       "H       49           66\n",
       "I       65           78\n",
       "J       58           82"
      ]
     },
     "metadata": {},
     "output_type": "display_data"
    }
   ],
   "source": [
    "df = pd.read_csv('C:/jupyter_home/data/student_scores_em.csv',\n",
    "                 index_col='student number')\n",
    "en_scores = df['english'][:10]\n",
    "ma_scores = df['mathematics'][:10]\n",
    "\n",
    "scores_df= pd.DataFrame({'english':en_scores.values,\n",
    "                         'mathematics':ma_scores.values},\n",
    "                        index=['A','B','C','D','E','F','G','H','I','J'])\n",
    "display(scores_df)"
   ]
  },
  {
   "cell_type": "code",
   "execution_count": 6,
   "id": "0f69aaf5",
   "metadata": {},
   "outputs": [
    {
     "data": {
      "text/html": [
       "<div>\n",
       "<style scoped>\n",
       "    .dataframe tbody tr th:only-of-type {\n",
       "        vertical-align: middle;\n",
       "    }\n",
       "\n",
       "    .dataframe tbody tr th {\n",
       "        vertical-align: top;\n",
       "    }\n",
       "\n",
       "    .dataframe thead th {\n",
       "        text-align: right;\n",
       "    }\n",
       "</style>\n",
       "<table border=\"1\" class=\"dataframe\">\n",
       "  <thead>\n",
       "    <tr style=\"text-align: right;\">\n",
       "      <th></th>\n",
       "      <th>english</th>\n",
       "      <th>mathematics</th>\n",
       "      <th>en_deviation</th>\n",
       "      <th>ma_deviation</th>\n",
       "      <th>product_deviation</th>\n",
       "    </tr>\n",
       "  </thead>\n",
       "  <tbody>\n",
       "    <tr>\n",
       "      <th>A</th>\n",
       "      <td>42</td>\n",
       "      <td>65</td>\n",
       "      <td>-13.0</td>\n",
       "      <td>-6.4</td>\n",
       "      <td>83.2</td>\n",
       "    </tr>\n",
       "    <tr>\n",
       "      <th>B</th>\n",
       "      <td>69</td>\n",
       "      <td>80</td>\n",
       "      <td>14.0</td>\n",
       "      <td>8.6</td>\n",
       "      <td>120.4</td>\n",
       "    </tr>\n",
       "    <tr>\n",
       "      <th>C</th>\n",
       "      <td>56</td>\n",
       "      <td>63</td>\n",
       "      <td>1.0</td>\n",
       "      <td>-8.4</td>\n",
       "      <td>-8.4</td>\n",
       "    </tr>\n",
       "    <tr>\n",
       "      <th>D</th>\n",
       "      <td>41</td>\n",
       "      <td>63</td>\n",
       "      <td>-14.0</td>\n",
       "      <td>-8.4</td>\n",
       "      <td>117.6</td>\n",
       "    </tr>\n",
       "    <tr>\n",
       "      <th>E</th>\n",
       "      <td>57</td>\n",
       "      <td>76</td>\n",
       "      <td>2.0</td>\n",
       "      <td>4.6</td>\n",
       "      <td>9.2</td>\n",
       "    </tr>\n",
       "    <tr>\n",
       "      <th>F</th>\n",
       "      <td>48</td>\n",
       "      <td>60</td>\n",
       "      <td>-7.0</td>\n",
       "      <td>-11.4</td>\n",
       "      <td>79.8</td>\n",
       "    </tr>\n",
       "    <tr>\n",
       "      <th>G</th>\n",
       "      <td>65</td>\n",
       "      <td>81</td>\n",
       "      <td>10.0</td>\n",
       "      <td>9.6</td>\n",
       "      <td>96.0</td>\n",
       "    </tr>\n",
       "    <tr>\n",
       "      <th>H</th>\n",
       "      <td>49</td>\n",
       "      <td>66</td>\n",
       "      <td>-6.0</td>\n",
       "      <td>-5.4</td>\n",
       "      <td>32.4</td>\n",
       "    </tr>\n",
       "    <tr>\n",
       "      <th>I</th>\n",
       "      <td>65</td>\n",
       "      <td>78</td>\n",
       "      <td>10.0</td>\n",
       "      <td>6.6</td>\n",
       "      <td>66.0</td>\n",
       "    </tr>\n",
       "    <tr>\n",
       "      <th>J</th>\n",
       "      <td>58</td>\n",
       "      <td>82</td>\n",
       "      <td>3.0</td>\n",
       "      <td>10.6</td>\n",
       "      <td>31.8</td>\n",
       "    </tr>\n",
       "  </tbody>\n",
       "</table>\n",
       "</div>"
      ],
      "text/plain": [
       "   english  mathematics  en_deviation  ma_deviation  product_deviation\n",
       "A       42           65         -13.0          -6.4               83.2\n",
       "B       69           80          14.0           8.6              120.4\n",
       "C       56           63           1.0          -8.4               -8.4\n",
       "D       41           63         -14.0          -8.4              117.6\n",
       "E       57           76           2.0           4.6                9.2\n",
       "F       48           60          -7.0         -11.4               79.8\n",
       "G       65           81          10.0           9.6               96.0\n",
       "H       49           66          -6.0          -5.4               32.4\n",
       "I       65           78          10.0           6.6               66.0\n",
       "J       58           82           3.0          10.6               31.8"
      ]
     },
     "metadata": {},
     "output_type": "display_data"
    },
    {
     "name": "stdout",
     "output_type": "stream",
     "text": [
      "covariance(공분산) :  62.8\n"
     ]
    }
   ],
   "source": [
    "# 공분산 이어서 \n",
    "scores_df ['en_deviation'] = scores_df['english'] - scores_df['english'].mean()\n",
    "scores_df ['ma_deviation'] = scores_df['mathematics'] - scores_df['mathematics'].mean()\n",
    "scores_df ['product_deviation'] = scores_df['en_deviation'] * scores_df['ma_deviation']\n",
    "display(scores_df)\n",
    "\n",
    "print('covariance(공분산) : ',scores_df['product_deviation'].mean()) # 62.8 => 양수이므로 양의 상관관계에 있음"
   ]
  },
  {
   "cell_type": "code",
   "execution_count": 11,
   "id": "f2359c7d",
   "metadata": {},
   "outputs": [
    {
     "name": "stdout",
     "output_type": "stream",
     "text": [
      "[[86.   62.8 ]\n",
      " [62.8  68.44]]\n"
     ]
    }
   ],
   "source": [
    "# 공분산(numpy로 구하기)\n",
    "df = pd.read_csv('C:/jupyter_home/data/student_scores_em.csv',\n",
    "                 index_col='student number')\n",
    "en_scores = df['english'][:10]\n",
    "ma_scores = df['mathematics'][:10]\n",
    "\n",
    "scores_df= pd.DataFrame({'english':en_scores.values,\n",
    "                         'mathematics':ma_scores.values},\n",
    "                        index=['A','B','C','D','E','F','G','H','I','J'])\n",
    "\n",
    "# numpy 함수 이용 => 결과가 공분산 행렬로 리턴\n",
    "# 기본값으로 불편분산을 사용, 표본분산을 알고 싶으면 ddof옵션을 걸어줘야함(0=표본,1=불편)\n",
    "cov_matrix = np.cov(en_scores, ma_scores, ddof=0)\n",
    "print(cov_matrix)\n",
    "# (0,0) = 영어와 영어의 공분산 => 영어의 공분산\n",
    "# (0,1) = 영어와 수학의 공분산 \n",
    "# (1,0) = 수학과 영어의 공분산 \n",
    "# (1,1) = 수학과 수학의 공분산 => 수학의 공분산"
   ]
  },
  {
   "cell_type": "markdown",
   "id": "e0e74227",
   "metadata": {},
   "source": [
    "pandas에도 공분산이 있음, pandas는 무조건 불편분산만 가능"
   ]
  },
  {
   "cell_type": "code",
   "execution_count": 3,
   "id": "e101e060",
   "metadata": {},
   "outputs": [
    {
     "name": "stdout",
     "output_type": "stream",
     "text": [
      "2018-01-01 00:00:00\n"
     ]
    },
    {
     "data": {
      "text/html": [
       "<div>\n",
       "<style scoped>\n",
       "    .dataframe tbody tr th:only-of-type {\n",
       "        vertical-align: middle;\n",
       "    }\n",
       "\n",
       "    .dataframe tbody tr th {\n",
       "        vertical-align: top;\n",
       "    }\n",
       "\n",
       "    .dataframe thead th {\n",
       "        text-align: right;\n",
       "    }\n",
       "</style>\n",
       "<table border=\"1\" class=\"dataframe\">\n",
       "  <thead>\n",
       "    <tr style=\"text-align: right;\">\n",
       "      <th></th>\n",
       "      <th>High</th>\n",
       "      <th>Low</th>\n",
       "      <th>Open</th>\n",
       "      <th>Close</th>\n",
       "      <th>Volume</th>\n",
       "      <th>Adj Close</th>\n",
       "    </tr>\n",
       "    <tr>\n",
       "      <th>Date</th>\n",
       "      <th></th>\n",
       "      <th></th>\n",
       "      <th></th>\n",
       "      <th></th>\n",
       "      <th></th>\n",
       "      <th></th>\n",
       "    </tr>\n",
       "  </thead>\n",
       "  <tbody>\n",
       "    <tr>\n",
       "      <th>2018-01-02</th>\n",
       "      <td>2481.020020</td>\n",
       "      <td>2465.939941</td>\n",
       "      <td>2474.860107</td>\n",
       "      <td>2479.649902</td>\n",
       "      <td>262200</td>\n",
       "      <td>2479.649902</td>\n",
       "    </tr>\n",
       "    <tr>\n",
       "      <th>2018-01-03</th>\n",
       "      <td>2493.399902</td>\n",
       "      <td>2481.909912</td>\n",
       "      <td>2484.629883</td>\n",
       "      <td>2486.350098</td>\n",
       "      <td>331100</td>\n",
       "      <td>2486.350098</td>\n",
       "    </tr>\n",
       "    <tr>\n",
       "      <th>2018-01-04</th>\n",
       "      <td>2502.500000</td>\n",
       "      <td>2466.449951</td>\n",
       "      <td>2502.500000</td>\n",
       "      <td>2466.459961</td>\n",
       "      <td>333800</td>\n",
       "      <td>2466.459961</td>\n",
       "    </tr>\n",
       "    <tr>\n",
       "      <th>2018-01-05</th>\n",
       "      <td>2497.520020</td>\n",
       "      <td>2475.510010</td>\n",
       "      <td>2476.850098</td>\n",
       "      <td>2497.520020</td>\n",
       "      <td>308800</td>\n",
       "      <td>2497.520020</td>\n",
       "    </tr>\n",
       "    <tr>\n",
       "      <th>2018-01-08</th>\n",
       "      <td>2515.370117</td>\n",
       "      <td>2494.179932</td>\n",
       "      <td>2510.699951</td>\n",
       "      <td>2513.280029</td>\n",
       "      <td>311400</td>\n",
       "      <td>2513.280029</td>\n",
       "    </tr>\n",
       "  </tbody>\n",
       "</table>\n",
       "</div>"
      ],
      "text/plain": [
       "                   High          Low         Open        Close  Volume  \\\n",
       "Date                                                                     \n",
       "2018-01-02  2481.020020  2465.939941  2474.860107  2479.649902  262200   \n",
       "2018-01-03  2493.399902  2481.909912  2484.629883  2486.350098  331100   \n",
       "2018-01-04  2502.500000  2466.449951  2502.500000  2466.459961  333800   \n",
       "2018-01-05  2497.520020  2475.510010  2476.850098  2497.520020  308800   \n",
       "2018-01-08  2515.370117  2494.179932  2510.699951  2513.280029  311400   \n",
       "\n",
       "              Adj Close  \n",
       "Date                     \n",
       "2018-01-02  2479.649902  \n",
       "2018-01-03  2486.350098  \n",
       "2018-01-04  2466.459961  \n",
       "2018-01-05  2497.520020  \n",
       "2018-01-08  2513.280029  "
      ]
     },
     "metadata": {},
     "output_type": "display_data"
    },
    {
     "data": {
      "text/html": [
       "<div>\n",
       "<style scoped>\n",
       "    .dataframe tbody tr th:only-of-type {\n",
       "        vertical-align: middle;\n",
       "    }\n",
       "\n",
       "    .dataframe tbody tr th {\n",
       "        vertical-align: top;\n",
       "    }\n",
       "\n",
       "    .dataframe thead th {\n",
       "        text-align: right;\n",
       "    }\n",
       "</style>\n",
       "<table border=\"1\" class=\"dataframe\">\n",
       "  <thead>\n",
       "    <tr style=\"text-align: right;\">\n",
       "      <th></th>\n",
       "      <th>High</th>\n",
       "      <th>Low</th>\n",
       "      <th>Open</th>\n",
       "      <th>Close</th>\n",
       "      <th>Volume</th>\n",
       "      <th>Adj Close</th>\n",
       "    </tr>\n",
       "    <tr>\n",
       "      <th>Date</th>\n",
       "      <th></th>\n",
       "      <th></th>\n",
       "      <th></th>\n",
       "      <th></th>\n",
       "      <th></th>\n",
       "      <th></th>\n",
       "    </tr>\n",
       "  </thead>\n",
       "  <tbody>\n",
       "    <tr>\n",
       "      <th>2018-01-02</th>\n",
       "      <td>51400.0</td>\n",
       "      <td>50780.0</td>\n",
       "      <td>51380.0</td>\n",
       "      <td>51020.0</td>\n",
       "      <td>8474250.0</td>\n",
       "      <td>45077.808594</td>\n",
       "    </tr>\n",
       "    <tr>\n",
       "      <th>2018-01-03</th>\n",
       "      <td>52560.0</td>\n",
       "      <td>51420.0</td>\n",
       "      <td>52540.0</td>\n",
       "      <td>51620.0</td>\n",
       "      <td>10013500.0</td>\n",
       "      <td>45607.921875</td>\n",
       "    </tr>\n",
       "    <tr>\n",
       "      <th>2018-01-04</th>\n",
       "      <td>52180.0</td>\n",
       "      <td>50640.0</td>\n",
       "      <td>52120.0</td>\n",
       "      <td>51080.0</td>\n",
       "      <td>11695450.0</td>\n",
       "      <td>45130.812500</td>\n",
       "    </tr>\n",
       "    <tr>\n",
       "      <th>2018-01-05</th>\n",
       "      <td>52120.0</td>\n",
       "      <td>51200.0</td>\n",
       "      <td>51300.0</td>\n",
       "      <td>52120.0</td>\n",
       "      <td>9481150.0</td>\n",
       "      <td>46049.675781</td>\n",
       "    </tr>\n",
       "    <tr>\n",
       "      <th>2018-01-08</th>\n",
       "      <td>52520.0</td>\n",
       "      <td>51500.0</td>\n",
       "      <td>52400.0</td>\n",
       "      <td>52020.0</td>\n",
       "      <td>8383650.0</td>\n",
       "      <td>45961.332031</td>\n",
       "    </tr>\n",
       "  </tbody>\n",
       "</table>\n",
       "</div>"
      ],
      "text/plain": [
       "               High      Low     Open    Close      Volume     Adj Close\n",
       "Date                                                                    \n",
       "2018-01-02  51400.0  50780.0  51380.0  51020.0   8474250.0  45077.808594\n",
       "2018-01-03  52560.0  51420.0  52540.0  51620.0  10013500.0  45607.921875\n",
       "2018-01-04  52180.0  50640.0  52120.0  51080.0  11695450.0  45130.812500\n",
       "2018-01-05  52120.0  51200.0  51300.0  52120.0   9481150.0  46049.675781\n",
       "2018-01-08  52520.0  51500.0  52400.0  52020.0   8383650.0  45961.332031"
      ]
     },
     "metadata": {},
     "output_type": "display_data"
    }
   ],
   "source": [
    "# 실제 데이터로 공분산 구하기\n",
    "# kospi 지수와 삼성전자 주가에 대한 공분산을 구하기\n",
    "# 2018년 기준 코스피 200안에 삼전이 차지하는 비율은 33%\n",
    "\n",
    "# yahoo finance 사이트에서 주가데이터 받아서 사용할거임\n",
    "import pandas_datareader.data as pdr\n",
    "# 설치해야함 pip install pandas_datareader\n",
    "from datetime import datetime\n",
    "\n",
    "start = datetime(2018,1,1) # 특정날짜에 대한 날짜객체 생성\n",
    "print(start)  # 2018-01-01 00:00:00\n",
    "end = datetime(2018,12,31)\n",
    "\n",
    "df_kospi = pdr.DataReader('^KS11','yahoo',start,end)\n",
    "display(df_kospi.head())\n",
    "\n",
    "df_se = pdr.DataReader('005930.KS','yahoo',start,end)\n",
    "display(df_se.head())"
   ]
  },
  {
   "cell_type": "code",
   "execution_count": 18,
   "id": "0b4314ae",
   "metadata": {},
   "outputs": [
    {
     "name": "stdout",
     "output_type": "stream",
     "text": [
      "[[   24078.14439225   488212.99831291]\n",
      " [  488212.99831291 11871059.41111261]]\n"
     ]
    }
   ],
   "source": [
    "cov_matrix = np.cov(df_kospi['Close'],df_se['Close'],ddof=0)\n",
    "print(cov_matrix)  # 양의 상관관계"
   ]
  },
  {
   "cell_type": "code",
   "execution_count": 19,
   "id": "fd819db8",
   "metadata": {},
   "outputs": [
    {
     "name": "stdout",
     "output_type": "stream",
     "text": [
      "[[ 4.62857448e+09 -3.84951773e+08]\n",
      " [-3.84951773e+08  6.33317924e+07]]\n"
     ]
    }
   ],
   "source": [
    "# 다른종목 공분산 구하기\n",
    "# 남북경험주=부산 방산주=lig\n",
    "df_busan= pdr.DataReader('011390.KS','yahoo',start,end)\n",
    "df_lig = pdr.DataReader('079550.KS','yahoo',start,end)\n",
    "\n",
    "cov_matrix = np.cov(df_busan['Close'],df_lig['Close'],ddof=0)\n",
    "print(cov_matrix) # 음의 상관관계"
   ]
  },
  {
   "cell_type": "code",
   "execution_count": 20,
   "id": "a20a3433",
   "metadata": {},
   "outputs": [
    {
     "name": "stdout",
     "output_type": "stream",
     "text": [
      "[[1.         0.91317306]\n",
      " [0.91317306 1.        ]]\n"
     ]
    }
   ],
   "source": [
    "# 상관계수 구하기 (코스피와 삼전)\n",
    "corr_coef = np.corrcoef(df_kospi['Close'],df_se['Close'])\n",
    "print(corr_coef)"
   ]
  },
  {
   "cell_type": "code",
   "execution_count": null,
   "id": "7976ef85",
   "metadata": {},
   "outputs": [],
   "source": []
  },
  {
   "cell_type": "code",
   "execution_count": null,
   "id": "f6c8aa8b",
   "metadata": {},
   "outputs": [],
   "source": []
  },
  {
   "cell_type": "code",
   "execution_count": null,
   "id": "5a77aac4",
   "metadata": {},
   "outputs": [],
   "source": []
  },
  {
   "cell_type": "code",
   "execution_count": null,
   "id": "597e4e71",
   "metadata": {},
   "outputs": [],
   "source": []
  },
  {
   "cell_type": "code",
   "execution_count": null,
   "id": "17a251c7",
   "metadata": {},
   "outputs": [],
   "source": []
  },
  {
   "cell_type": "code",
   "execution_count": null,
   "id": "6cb38402",
   "metadata": {},
   "outputs": [],
   "source": []
  },
  {
   "cell_type": "code",
   "execution_count": null,
   "id": "6c22aeb8",
   "metadata": {},
   "outputs": [],
   "source": []
  },
  {
   "cell_type": "code",
   "execution_count": null,
   "id": "6424db4c",
   "metadata": {},
   "outputs": [],
   "source": []
  },
  {
   "cell_type": "code",
   "execution_count": null,
   "id": "f538ebcc",
   "metadata": {},
   "outputs": [],
   "source": []
  },
  {
   "cell_type": "code",
   "execution_count": null,
   "id": "c57db19d",
   "metadata": {},
   "outputs": [],
   "source": []
  },
  {
   "cell_type": "code",
   "execution_count": null,
   "id": "7c32e697",
   "metadata": {},
   "outputs": [],
   "source": []
  },
  {
   "cell_type": "code",
   "execution_count": null,
   "id": "fef43b1d",
   "metadata": {},
   "outputs": [],
   "source": []
  },
  {
   "cell_type": "code",
   "execution_count": null,
   "id": "0fa3fa9a",
   "metadata": {},
   "outputs": [],
   "source": []
  },
  {
   "cell_type": "code",
   "execution_count": null,
   "id": "9a00e341",
   "metadata": {},
   "outputs": [],
   "source": []
  },
  {
   "cell_type": "code",
   "execution_count": null,
   "id": "0271d085",
   "metadata": {},
   "outputs": [],
   "source": []
  },
  {
   "cell_type": "code",
   "execution_count": null,
   "id": "db2bb416",
   "metadata": {},
   "outputs": [],
   "source": []
  },
  {
   "cell_type": "code",
   "execution_count": null,
   "id": "f7cc0685",
   "metadata": {},
   "outputs": [],
   "source": []
  },
  {
   "cell_type": "code",
   "execution_count": null,
   "id": "583752b4",
   "metadata": {},
   "outputs": [],
   "source": []
  },
  {
   "cell_type": "code",
   "execution_count": null,
   "id": "5d91214a",
   "metadata": {},
   "outputs": [],
   "source": []
  },
  {
   "cell_type": "code",
   "execution_count": null,
   "id": "6761002f",
   "metadata": {},
   "outputs": [],
   "source": []
  },
  {
   "cell_type": "code",
   "execution_count": null,
   "id": "529da0fd",
   "metadata": {},
   "outputs": [],
   "source": []
  },
  {
   "cell_type": "code",
   "execution_count": null,
   "id": "aac5f8d9",
   "metadata": {},
   "outputs": [],
   "source": []
  },
  {
   "cell_type": "code",
   "execution_count": null,
   "id": "764c6a9e",
   "metadata": {},
   "outputs": [],
   "source": []
  },
  {
   "cell_type": "code",
   "execution_count": null,
   "id": "8e571462",
   "metadata": {},
   "outputs": [],
   "source": []
  },
  {
   "cell_type": "code",
   "execution_count": null,
   "id": "964a8332",
   "metadata": {},
   "outputs": [],
   "source": []
  },
  {
   "cell_type": "code",
   "execution_count": null,
   "id": "b910a026",
   "metadata": {},
   "outputs": [],
   "source": []
  },
  {
   "cell_type": "code",
   "execution_count": null,
   "id": "f94e438c",
   "metadata": {},
   "outputs": [],
   "source": []
  },
  {
   "cell_type": "code",
   "execution_count": null,
   "id": "869e3fd0",
   "metadata": {},
   "outputs": [],
   "source": []
  },
  {
   "cell_type": "code",
   "execution_count": null,
   "id": "3858a8b8",
   "metadata": {},
   "outputs": [],
   "source": []
  },
  {
   "cell_type": "code",
   "execution_count": null,
   "id": "0ad90bfd",
   "metadata": {},
   "outputs": [],
   "source": []
  },
  {
   "cell_type": "code",
   "execution_count": null,
   "id": "aa4c5e3a",
   "metadata": {},
   "outputs": [],
   "source": []
  },
  {
   "cell_type": "code",
   "execution_count": null,
   "id": "af4e1b60",
   "metadata": {},
   "outputs": [],
   "source": []
  },
  {
   "cell_type": "code",
   "execution_count": null,
   "id": "cca3647c",
   "metadata": {},
   "outputs": [],
   "source": []
  },
  {
   "cell_type": "code",
   "execution_count": null,
   "id": "d0fa7a6c",
   "metadata": {},
   "outputs": [],
   "source": []
  },
  {
   "cell_type": "code",
   "execution_count": null,
   "id": "dd2e333a",
   "metadata": {},
   "outputs": [],
   "source": []
  },
  {
   "cell_type": "code",
   "execution_count": null,
   "id": "a694b336",
   "metadata": {},
   "outputs": [],
   "source": []
  },
  {
   "cell_type": "code",
   "execution_count": null,
   "id": "e8715832",
   "metadata": {},
   "outputs": [],
   "source": []
  },
  {
   "cell_type": "code",
   "execution_count": null,
   "id": "78f0dd4b",
   "metadata": {},
   "outputs": [],
   "source": []
  },
  {
   "cell_type": "code",
   "execution_count": null,
   "id": "4a7866f3",
   "metadata": {},
   "outputs": [],
   "source": []
  },
  {
   "cell_type": "code",
   "execution_count": null,
   "id": "fe24ff25",
   "metadata": {},
   "outputs": [],
   "source": []
  },
  {
   "cell_type": "code",
   "execution_count": null,
   "id": "43e3cbb1",
   "metadata": {},
   "outputs": [],
   "source": []
  },
  {
   "cell_type": "code",
   "execution_count": null,
   "id": "24876f67",
   "metadata": {},
   "outputs": [],
   "source": []
  }
 ],
 "metadata": {
  "kernelspec": {
   "display_name": "Python 3 (ipykernel)",
   "language": "python",
   "name": "python3"
  },
  "language_info": {
   "codemirror_mode": {
    "name": "ipython",
    "version": 3
   },
   "file_extension": ".py",
   "mimetype": "text/x-python",
   "name": "python",
   "nbconvert_exporter": "python",
   "pygments_lexer": "ipython3",
   "version": "3.7.0"
  }
 },
 "nbformat": 4,
 "nbformat_minor": 5
}
