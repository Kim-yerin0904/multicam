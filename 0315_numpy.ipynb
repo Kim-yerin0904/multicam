{
 "cells": [
  {
   "cell_type": "markdown",
   "id": "45cdc144",
   "metadata": {},
   "source": [
    "데이터를 분석에 사용하려면 학습에 사용하기 위해 가공해야함 \n",
    "\n",
    "- pandas module\n",
    "    pandas의 데이터 타입을 구성하고 있는 numpy module"
   ]
  },
  {
   "cell_type": "markdown",
   "id": "3035e688",
   "metadata": {},
   "source": [
    "### Numpy\n",
    "\n",
    "    수치 계산을 용이하게 하기 위한 python module\n",
    "    대용량의 다차원 배열과 matrix(행렬) 연산을 쉽게하기 위한 python module\n",
    "    Numeric Python => Numpy\n",
    "    Numpy는 단 하나의 자료구조를 제공 => ndarray(n-dimensional array)\n",
    "    ndarray는 차원의 개념이 있음\n",
    "    list는 여러 다른 타입의 데이터가 저장될 수 있음, 하지만 ndarray는 무조건 같은 타입만 저장 가능\n",
    "    "
   ]
  },
  {
   "cell_type": "markdown",
   "id": "c9b121bc",
   "metadata": {},
   "source": [
    "### ndarray의 특징, 속성(shape)\n",
    "### list를 이용한 ndarray 생성 => np.array([1,2,3])"
   ]
  },
  {
   "cell_type": "code",
   "execution_count": 10,
   "id": "ab533032",
   "metadata": {},
   "outputs": [
    {
     "name": "stdout",
     "output_type": "stream",
     "text": [
      "[1, 2, 3, 4]\n",
      "<class 'list'>\n",
      "[1, 2.3, 3, 4, True, 'hello']\n",
      "<class 'list'>\n",
      "[1 2 3 4]\n",
      "<class 'numpy.ndarray'>\n",
      "int32\n",
      "[1.  2.3 3.  4. ]\n",
      "<class 'numpy.ndarray'>\n",
      "float64\n",
      "['1' '2' '3' '4' 'HELLO']\n",
      "<class 'numpy.ndarray'>\n",
      "<U11\n"
     ]
    }
   ],
   "source": [
    "import numpy as np\n",
    "\n",
    "#python list\n",
    "a = [1,2,3,4]\n",
    "print(a)          # [1, 2, 3, 4]\n",
    "print(type(a))    # <class 'list'>\n",
    "\n",
    "#python list\n",
    "a = [1,2.3,3,4,True,'hello']\n",
    "print(a)          # [1, 2.3, 3, 4, True, 'hello']\n",
    "print(type(a))    # <class 'list'>\n",
    "\n",
    "#Numpy의 ndarray\n",
    "arr = np.array([1,2,3,4])\n",
    "print(arr)          # [1 2 3 4] => 1차원\n",
    "print(type(arr))    # <class 'numpy.ndarray'>\n",
    "print(arr.dtype)    # int32\n",
    "\n",
    "#Numpy의 ndarray\n",
    "arr = np.array([1,2.3,3,4])\n",
    "print(arr)          # [1.  2.3 3.  4. ]\n",
    "print(type(arr))    # <class 'numpy.ndarray'>\n",
    "print(arr.dtype)    # float64\n",
    "\n",
    "#Numpy의 ndarray\n",
    "arr = np.array([1,2,3,4,'HELLO'])\n",
    "print(arr)          # ['1' '2' '3' '4' 'HELLO']\n",
    "print(type(arr))    # <class 'numpy.ndarray'>\n",
    "print(arr.dtype)    # <U11"
   ]
  },
  {
   "cell_type": "code",
   "execution_count": 15,
   "id": "3df6bb90",
   "metadata": {},
   "outputs": [
    {
     "name": "stdout",
     "output_type": "stream",
     "text": [
      "[[1, 2, 3], [4, 5, 6]]\n",
      "5\n",
      "[[1 2 3]\n",
      " [4 5 6]]\n",
      "5\n",
      "[4 5 6]\n",
      "5\n"
     ]
    }
   ],
   "source": [
    "# 다차원 배열\n",
    "\n",
    "# 중첩리스트\n",
    "my_list = [[1,2,3],[4,5,6]]\n",
    "print(my_list)    # [[1, 2, 3], [4, 5, 6]]\n",
    "print(my_list[1][1]) # 5\n",
    "\n",
    "# ndarray\n",
    "arr = np.array([[1,2,3],[4,5,6]])\n",
    "print(arr)   #[[1 2 3]\n",
    "             # [4 5 6]]\n",
    "print(arr[1,1])  # 5\n",
    "print(arr[1])    # [4 5 6]\n",
    "print(arr[1][1]) # 5"
   ]
  },
  {
   "cell_type": "code",
   "execution_count": 18,
   "id": "9265f2c6",
   "metadata": {},
   "outputs": [
    {
     "name": "stdout",
     "output_type": "stream",
     "text": [
      "[[1. 2. 3.]\n",
      " [4. 5. 6.]]\n",
      "float64\n"
     ]
    }
   ],
   "source": [
    "# 기본적으로 ndarray는 요소의 데이터타입을 이용해서 dtype을 설정\n",
    "# 데이터 타입을 지정해서 ndarray를 생성할 수 있음\n",
    "arr = np.array([[1,2,3],[4,5,6]],\n",
    "              dtype=np.float64)\n",
    "print(arr)    #[[1. 2. 3.]\n",
    "              # [4. 5. 6.]]\n",
    "print(arr.dtype)   # float64"
   ]
  },
  {
   "cell_type": "code",
   "execution_count": 23,
   "id": "60756cfc",
   "metadata": {},
   "outputs": [
    {
     "name": "stdout",
     "output_type": "stream",
     "text": [
      "[1 2 3 4]\n",
      "int32\n",
      "1\n",
      "(4,)\n",
      "[[1 2 3]\n",
      " [4 5 6]]\n",
      "int32\n",
      "2\n",
      "(2, 3)\n"
     ]
    }
   ],
   "source": [
    "# ndarray의 차원 관련 속성\n",
    "\n",
    "my_list = [1,2,3,4]\n",
    "arr = np.array(my_list)\n",
    "print(arr)    # [1 2 3 4]\n",
    "print(arr.dtype)   # int32\n",
    "print(arr.ndim)    # 차원수를 숫자로 = 1\n",
    "print(arr.shape)   # 차원과 요소수를 tuple로 알려줌 = (4,)\n",
    "                   # 1차원이니까 tuple안에 요소가 1개, 그리고 그 값이 요소의 개수\n",
    "\n",
    "my_list = [[1,2,3],[4,5,6]]\n",
    "arr = np.array(my_list)\n",
    "print(arr)    # [[1 2 3]\n",
    "              # [4 5 6]]\n",
    "print(arr.dtype)   # int32\n",
    "print(arr.ndim)    # 2\n",
    "print(arr.shape)   # (2, 3)"
   ]
  },
  {
   "cell_type": "code",
   "execution_count": 25,
   "id": "86095ee5",
   "metadata": {},
   "outputs": [
    {
     "name": "stdout",
     "output_type": "stream",
     "text": [
      "[[[1 2 3]\n",
      "  [1 2 3]]\n",
      "\n",
      " [[1 2 3]\n",
      "  [1 2 3]]]\n",
      "(2, 2, 3)\n"
     ]
    }
   ],
   "source": [
    "# (2,2,3) 형태의 ndarray를 만들어보자\n",
    "my_list = [[[1,2,3],[1,2,3]],[[1,2,3],[1,2,3]]]\n",
    "arr = np.array(my_list)\n",
    "print(arr)    # [[[1 2 3]\n",
    "              #   [1 2 3]]\n",
    "              # \n",
    "              # [[1 2 3]\n",
    "              #  [1 2 3]]]\n",
    "print(arr.shape)    #(2, 2, 3)"
   ]
  },
  {
   "cell_type": "code",
   "execution_count": 27,
   "id": "6e99f2f6",
   "metadata": {},
   "outputs": [
    {
     "name": "stdout",
     "output_type": "stream",
     "text": [
      "float64\n",
      "[1 2 3 4 5]\n",
      "['1.2' '2.3' '3.0' '4.0' '5.7']\n"
     ]
    }
   ],
   "source": [
    "# ndarray의 type 변환시켜보기 => astype()\n",
    "arr = np.array([1.2, 2.3, 3, 4, 5.7])\n",
    "print(arr.dtype)    # float64\n",
    "\n",
    "new_arr = arr.astype(np.int32)\n",
    "print(new_arr)     # [1 2 3 4 5]\n",
    "\n",
    "new_arr = arr.astype(np.str_)\n",
    "print(new_arr)     # ['1.2' '2.3' '3.0' '4.0' '5.7']"
   ]
  },
  {
   "cell_type": "markdown",
   "id": "fc6c49a4",
   "metadata": {},
   "source": [
    "### 다양한 생성 함수"
   ]
  },
  {
   "cell_type": "code",
   "execution_count": 32,
   "id": "712684b7",
   "metadata": {},
   "outputs": [
    {
     "name": "stdout",
     "output_type": "stream",
     "text": [
      "[[0. 0. 0. 0.]\n",
      " [0. 0. 0. 0.]\n",
      " [0. 0. 0. 0.]]\n",
      "[[1. 1. 1. 1.]\n",
      " [1. 1. 1. 1.]\n",
      " [1. 1. 1. 1.]]\n",
      "[[[6.23042070e-307 4.67296746e-307 1.69121096e-306]\n",
      "  [6.23044787e-307 1.33511969e-306 9.34593493e-307]\n",
      "  [6.23059726e-307 1.06810268e-306 6.23054972e-307]]\n",
      "\n",
      " [[6.23053954e-307 9.34609790e-307 8.45593934e-307]\n",
      "  [9.34600963e-307 1.86921143e-306 6.23061763e-307]\n",
      "  [6.89804132e-307 1.11261162e-306 8.34443015e-308]]]\n",
      "[[7. 7. 7.]\n",
      " [7. 7. 7.]]\n"
     ]
    }
   ],
   "source": [
    "# ndarray를 만드는 다양한 함수들\n",
    " \n",
    "my_list = [1,2,3]\n",
    "arr = np.array(my_list) # list를 이용해서 ndarray생성\n",
    "\n",
    "arr = np.zeros((3,4))\n",
    "print(arr)    # [[0. 0. 0. 0.]\n",
    "              #  [0. 0. 0. 0.]\n",
    "              #  [0. 0. 0. 0.]]\n",
    "        \n",
    "arr = np.ones((3,4))\n",
    "print(arr)    # [[1. 1. 1. 1.]\n",
    "              #  [1. 1. 1. 1.]\n",
    "              #  [1. 1. 1. 1.]]\n",
    "        \n",
    "arr = np.empty((2,3,3))\n",
    "print(arr)    # 주어진 shape에 대한 ndarray를 생성하고 값을 채우지 않음, 안에 쓰레기 값이 들어감수 있음\n",
    "              # 상대적으로 ndarray를 빠르게 만들수 있음\n",
    "    \n",
    "arr = np.full((2,3),\n",
    "             7,\n",
    "             dtype=np.float64)\n",
    "print(arr)    # [[7. 7. 7.]\n",
    "              #  [7. 7. 7.]]"
   ]
  },
  {
   "cell_type": "code",
   "execution_count": 36,
   "id": "62474c69",
   "metadata": {},
   "outputs": [
    {
     "name": "stdout",
     "output_type": "stream",
     "text": [
      "[[1 2 3]\n",
      " [4 5 6]]\n",
      "[[0 0 0]\n",
      " [0 0 0]]\n",
      "[[1 1 1]\n",
      " [1 1 1]]\n"
     ]
    }
   ],
   "source": [
    "# shape 을 직접 지정하지 않고 다른 ndarray의 shape을 이용해서 ndarray를 생성할 수 있음\n",
    "arr = np.array([[1,2,3],[4,5,6]], \n",
    "               dtype= np.int32)\n",
    "print(arr)    # [[1 2 3]\n",
    "              #  [4 5 6]]\n",
    "\n",
    "new_arr = np.zeros_like(arr)\n",
    "print(new_arr)    # [[0 0 0]\n",
    "                  #  [0 0 0]]\n",
    "    \n",
    "new_arr = np.ones_like(arr)\n",
    "print(new_arr)    # [[1 1 1]\n",
    "                  #  [1 1 1]]\n",
    "    \n",
    "# empty_like, full_like도 있음"
   ]
  },
  {
   "cell_type": "code",
   "execution_count": 37,
   "id": "c7d3d90a",
   "metadata": {},
   "outputs": [
    {
     "name": "stdout",
     "output_type": "stream",
     "text": [
      "range(1, 10)\n",
      "[1 2 3 4 5 6 7 8 9]\n"
     ]
    }
   ],
   "source": [
    "# python의 range\n",
    "a = range(1,10)\n",
    "print(a)    # range(1, 10) => 의미이고 실제 값을 하나씩 가지고 있지는 않음\n",
    "\n",
    "# numpy의 range\n",
    "arr = np.arange(1,10)  \n",
    "print(arr)    # [1 2 3 4 5 6 7 8 9] => 실제 값을 가짐"
   ]
  },
  {
   "cell_type": "code",
   "execution_count": 41,
   "id": "39abc606",
   "metadata": {
    "scrolled": true
   },
   "outputs": [
    {
     "name": "stdout",
     "output_type": "stream",
     "text": [
      "[ 0.  1.  2.  3.  4.  5.  6.  7.  8.  9. 10.]\n",
      "[  0.   4.   8.  12.  16.  20.  24.  28.  32.  36.  40.  44.  48.  52.\n",
      "  56.  60.  64.  68.  72.  76.  80.  84.  88.  92.  96. 100. 104. 108.\n",
      " 112. 116. 120.]\n"
     ]
    }
   ],
   "source": [
    "# np.linspace(start, stop, num)\n",
    "# start : 시작 숫자와 , stop : 끝 숫자 ==> 둘다 포함\n",
    "# num : 그 안에 균일한 간격으로 몇개의 숫자가 들어갈지를 나타내는 숫자\n",
    "# 균일한 간격의 데이터를 생성해서 ndarray를 만들어 내는 함수\n",
    "\n",
    "arr = np.linspace(0, 10, 11)\n",
    "print(arr)\n",
    "\n",
    "arr = np.linspace(0, 120, 31)\n",
    "print(arr)"
   ]
  },
  {
   "cell_type": "markdown",
   "id": "875418d8",
   "metadata": {},
   "source": [
    "#### 랜덤값을 이용해서 ndarray를 만드는 방법 - 5가지\n",
    "    - np.random.normal()\n",
    "    - np.random.rand()\n",
    "    - np.random.randn()\n",
    "    - np.random.randint()\n",
    "    - np.random.random()"
   ]
  },
  {
   "cell_type": "code",
   "execution_count": 46,
   "id": "54c1a7b3",
   "metadata": {},
   "outputs": [
    {
     "name": "stdout",
     "output_type": "stream",
     "text": [
      "[52.67120262 49.84777039 49.20592132 ... 46.18988253 49.23492439\n",
      " 48.78945403]\n"
     ]
    },
    {
     "data": {
      "image/png": "[encoded data removed]",
      "text/plain": [
       "<Figure size 432x288 with 1 Axes>"
      ]
     },
     "metadata": {
      "needs_background": "light"
     },
     "output_type": "display_data"
    }
   ],
   "source": [
    "# np.random.normal() : ndarray를 만드는데 데이터를 난수로 채움\n",
    "# 정규분포 실수 표본을 추출, 평균과 표준편차값이 필요\n",
    "# 일단 난수를 추출하고 그 난수가 정규분포를 따르는지 확인\n",
    "import matplotlib.pyplot as plt\n",
    "\n",
    "mean = 50\n",
    "std = 2\n",
    "\n",
    "arr = np.random.normal(mean, std, (100000,))\n",
    "print(arr)\n",
    "plt.hist(arr, bins=100)\n",
    "plt.show()"
   ]
  },
  {
   "cell_type": "code",
   "execution_count": 47,
   "id": "c39b4f6c",
   "metadata": {},
   "outputs": [
    {
     "name": "stdout",
     "output_type": "stream",
     "text": [
      "[0.15524302 0.41778208 0.79443494 ... 0.59503642 0.3121691  0.90352525]\n"
     ]
    },
    {
     "data": {
      "image/png": "[encoded data removed]",
      "text/plain": [
       "<Figure size 432x288 with 1 Axes>"
      ]
     },
     "metadata": {
      "needs_background": "light"
     },
     "output_type": "display_data"
    }
   ],
   "source": [
    "#np.random.rand() : ndarray를 만드는데 데이터는 난수로 채움\n",
    "# [0, 1) 0부터 1사이(0은 포함, 1은 불포함)의 실수형 난수를 균등분포에서 추출한 후 ndarrayy를 생성\n",
    "# np.random.rand(d1,d2,d3)\n",
    "\n",
    "arr = np.random.rand(100000)\n",
    "print(arr)\n",
    "plt.hist(arr, bins=100)\n",
    "plt.show()"
   ]
  },
  {
   "cell_type": "code",
   "execution_count": 50,
   "id": "01aa87da",
   "metadata": {},
   "outputs": [
    {
     "name": "stdout",
     "output_type": "stream",
     "text": [
      "[ 0.71675244  0.36639929  1.83941116 ... -2.11499787 -1.2378532\n",
      "  1.57476857]\n"
     ]
    },
    {
     "data": {
      "image/png": "[encoded data removed]",
      "text/plain": [
       "<Figure size 432x288 with 1 Axes>"
      ]
     },
     "metadata": {
      "needs_background": "light"
     },
     "output_type": "display_data"
    }
   ],
   "source": [
    "#np.random.randn() : ndarray를 만드는데 데이터는 난수로 채움\n",
    "# 난수를 표준정규분포(정규분포에서 평균이 0이고 표준편차가 1인 것)에서 추출한 후 ndarrayy를 생성\n",
    "\n",
    "arr = np.random.randn(100000)\n",
    "print(arr)\n",
    "plt.hist(arr, bins=100)\n",
    "plt.show()"
   ]
  },
  {
   "cell_type": "code",
   "execution_count": 53,
   "id": "49cf96d3",
   "metadata": {},
   "outputs": [
    {
     "name": "stdout",
     "output_type": "stream",
     "text": [
      "[85 18 97 ...  4 36 95]\n"
     ]
    },
    {
     "data": {
      "image/png": "[encoded data removed]",
      "text/plain": [
       "<Figure size 432x288 with 1 Axes>"
      ]
     },
     "metadata": {
      "needs_background": "light"
     },
     "output_type": "display_data"
    }
   ],
   "source": [
    "#np.random.randint() : ndarray를 만드는데 데이터는 난수로 채움\n",
    "# 균등분포에서 정수형 난수를 추출한 후 ndarrayy를 생성 (low와 high값을 줘야함)\n",
    "\n",
    "arr = np.random.randint(1,100, (100000,))\n",
    "print(arr)\n",
    "plt.hist(arr, bins=99)\n",
    "plt.show()"
   ]
  },
  {
   "cell_type": "code",
   "execution_count": 55,
   "id": "0a7126a2",
   "metadata": {},
   "outputs": [
    {
     "name": "stdout",
     "output_type": "stream",
     "text": [
      "[0.64037883 0.17736005 0.61119721 ... 0.10646579 0.65331044 0.77750701]\n"
     ]
    },
    {
     "data": {
      "image/png": "[encoded data removed]",
      "text/plain": [
       "<Figure size 432x288 with 1 Axes>"
      ]
     },
     "metadata": {
      "needs_background": "light"
     },
     "output_type": "display_data"
    }
   ],
   "source": [
    "#np.random.random() : ndarray를 만드는데 데이터는 난수로 채움\n",
    "# 균등분포에서 실수형 난수를 추출한 후 ndarrayy를 생성\n",
    "# 범위는 [0,1) -> np.random.rand()랑 똑같음.. 근데 사용법이 다름\n",
    "# np.random.random(shape)\n",
    "\n",
    "arr = np.random.random((100000,))\n",
    "print(arr)\n",
    "plt.hist(arr, bins=99)\n",
    "plt.show()"
   ]
  },
  {
   "cell_type": "markdown",
   "id": "73b27ef1",
   "metadata": {},
   "source": [
    "#### 기억해야 하는 random 관련 함수들\n",
    "    - seed()\n",
    "    - shuffle()"
   ]
  },
  {
   "cell_type": "code",
   "execution_count": 60,
   "id": "03e19419",
   "metadata": {},
   "outputs": [
    {
     "name": "stdout",
     "output_type": "stream",
     "text": [
      "[4 1 9 6 2]\n"
     ]
    }
   ],
   "source": [
    "# seed()\n",
    "# 랜덤값도 사실 프로그램 알고리즘에 의해 추출되는 값\n",
    "# 랜던값을 도출하는 초기값을 고정하면 항상 같은 랜덤값을 얻을 수 있음\n",
    "# 난수의 재현성 확보\n",
    "\n",
    "# np.random.seed(1)\n",
    "np.random.seed(None)  # seed값 제거\n",
    "arr = np.random.randint(1,10, (5,))\n",
    "print(arr)  # [4 1 9 6 2]"
   ]
  },
  {
   "cell_type": "code",
   "execution_count": 64,
   "id": "b5af4a44",
   "metadata": {},
   "outputs": [
    {
     "name": "stdout",
     "output_type": "stream",
     "text": [
      "[1 2 3 4 5 6 7 8 9]\n",
      "[5 8 6 2 1 3 4 7 9]\n"
     ]
    }
   ],
   "source": [
    "# shuffle() : 데이터의 순서를 바꿀때 사용\n",
    "\n",
    "arr = np.arange(1,10)\n",
    "print(arr)    # [1 2 3 4 5 6 7 8 9]\n",
    "\n",
    "np.random.shuffle(arr)    # shuffle은 원본은 섞음\n",
    "print(arr)    # [5 8 6 2 1 3 4 7 9]"
   ]
  },
  {
   "cell_type": "code",
   "execution_count": 71,
   "id": "e633ae0d",
   "metadata": {},
   "outputs": [
    {
     "name": "stdout",
     "output_type": "stream",
     "text": [
      "[3 5 2]\n"
     ]
    }
   ],
   "source": [
    "# choice() : 샘플링에서 사용\n",
    "# np.random.choice(a, size, replace, p)\n",
    "# a: 배열(array)\n",
    "# size : 몇개 뽑을 건지\n",
    "# replace : True이면 중복 허용, default=True\n",
    "# p : 확률(각 데이터가 선택될 확률)\n",
    "\n",
    "arr = np.random.choice(np.array([1,2,3,4,5,6]),3)\n",
    "arr = np.random.choice(np.array([1,2,3,4,5,6]),3, replace=False)\n",
    "arr = np.random.choice(np.array([1,2,3,4,5,6]),3, p=[0.1, 0.2, 0.2, 0, 0.4, 0.1])\n",
    "print(arr)    # [3 5 2]"
   ]
  },
  {
   "cell_type": "markdown",
   "id": "36d917e9",
   "metadata": {},
   "source": [
    "### ndarray의 shape과 관련된 중요한 함수들\n",
    "    - reshape()\n",
    "    - ravel()\n",
    "    - resize()"
   ]
  },
  {
   "cell_type": "code",
   "execution_count": 80,
   "id": "a1bd2efd",
   "metadata": {},
   "outputs": [
    {
     "name": "stdout",
     "output_type": "stream",
     "text": [
      "[[ 1  2  3  4  5  6]\n",
      " [ 7  8  9 10 11 12]]\n",
      "(2, 6)\n",
      "[[ 1  2  3  4]\n",
      " [ 5  6  7  8]\n",
      " [ 9 10 11 12]]\n",
      "[[[ 1  2  3]\n",
      "  [ 4  5  6]]\n",
      "\n",
      " [[ 7  8  9]\n",
      "  [10 11 12]]]\n",
      "[[100   2   3   4]\n",
      " [  5   6   7   8]\n",
      " [  9  10  11  12]]\n",
      "[[100   2   3   4   5   6]\n",
      " [  7   8   9  10  11  12]]\n",
      "[[100   2   3   4]\n",
      " [  5   6   7   8]\n",
      " [  9  10  11  12]]\n",
      "[[100 200   3   4]\n",
      " [  5   6   7   8]\n",
      " [  9  10  11  12]]\n",
      "[[100   2   3   4   5   6]\n",
      " [  7   8   9  10  11  12]]\n"
     ]
    }
   ],
   "source": [
    "#reshape()\n",
    "\n",
    "arr = np.array([[1,2,3,4,5,6],[7,8,9,10,11,12]])\n",
    "print(arr)    # [[ 1  2  3  4  5  6]\n",
    "              #  [ 7  8  9 10 11 12]]\n",
    "print(arr.shape)    #(2, 6)\n",
    "\n",
    "new_arr = arr.reshape(3,4)\n",
    "print(new_arr)    # [[ 1  2  3  4]\n",
    "                  #  [ 5  6  7  8]\n",
    "                  #  [ 9 10 11 12]]\n",
    "\n",
    "new_arr1 = arr.reshape(2,2,3)\n",
    "print(new_arr1)   # [[[ 1  2  3]\n",
    "                  #  [ 4  5  6]]\n",
    "                  #\n",
    "                  #  [[ 7  8  9]\n",
    "                  #   [10 11 12]]]\n",
    "\n",
    "new_arr[0,0] = 100\n",
    "print(new_arr)    # [[100   2   3   4]\n",
    "                  #  [  5   6   7   8]\n",
    "                  #  [  9  10  11  12]]\n",
    "print(arr)        # [[100   2   3   4   5   6]\n",
    "                  #  [  7   8   9  10  11  12]]  \n",
    "# reshape() : shape을 바꿔서 새로운 ndarray를 만들어 내는게 아니라 \n",
    "            # shape을 바꿔서 원래 ndarray에 데이터를 다르게 보여주는 view를 생성\n",
    "            # 고로 데이터는 하나! 모양만 바꾸는 것\n",
    "        \n",
    "# 만약 모양을 바꿔서 새로운 ndarray를 생성하고 싶으면 copy()를 이용\n",
    "arr2  = arr.reshape(3,4).copy()\n",
    "print(arr2)   # [[100   2   3   4]\n",
    "              #  [  5   6   7   8]\n",
    "              #  [  9  10  11  12]]\n",
    "arr2[0,1] = 200\n",
    "print(arr2)   # [[100 200   3   4]\n",
    "              #  [  5   6   7   8]\n",
    "              #  [  9  10  11  12]]\n",
    "print(arr)    # [[100   2   3   4   5   6]\n",
    "              #  [  7   8   9  10  11  12]]"
   ]
  },
  {
   "cell_type": "code",
   "execution_count": 81,
   "id": "e58ea973",
   "metadata": {},
   "outputs": [
    {
     "name": "stdout",
     "output_type": "stream",
     "text": [
      "[[ 1  2  3  4  5  6]\n",
      " [ 7  8  9 10 11 12]]\n",
      "(2, 6)\n",
      "[ 1  2  3  4  5  6  7  8  9 10 11 12]\n"
     ]
    }
   ],
   "source": [
    "# ravel()은 무조건 1차원의 view를 만듦\n",
    "arr = np.array([[1,2,3,4,5,6],[7,8,9,10,11,12]])\n",
    "print(arr)    # [[ 1  2  3  4  5  6]\n",
    "              #  [ 7  8  9 10 11 12]]\n",
    "print(arr.shape)  # (2, 6)\n",
    "\n",
    "new_arr = arr.ravel()\n",
    "print(new_arr)  # [ 1  2  3  4  5  6  7  8  9 10 11 12]"
   ]
  },
  {
   "cell_type": "code",
   "execution_count": 84,
   "id": "b0a9b683",
   "metadata": {},
   "outputs": [
    {
     "name": "stdout",
     "output_type": "stream",
     "text": [
      "[[ 1  2  3  4  5  6]\n",
      " [ 7  8  9 10 11 12]]\n",
      "(2, 6)\n",
      "[[ 1  2  3  4  5]\n",
      " [ 6  7  8  9 10]\n",
      " [11 12  0  0  0]]\n"
     ]
    }
   ],
   "source": [
    "# resize()는 약간 다름 \n",
    "arr = np.array([[1,2,3,4,5,6],[7,8,9,10,11,12]])\n",
    "print(arr)    # [[ 1  2  3  4  5  6]\n",
    "              #  [ 7  8  9 10 11 12]]\n",
    "print(arr.shape)  # (2, 6)\n",
    "\n",
    "# new_arr = arr.reshape(3,5)  # 에러! 요소수가 맞지 않으므로\n",
    "arr.resize(3,5)\n",
    "print(arr) # resize는 원본을 변경 \n",
    "# [[ 1  2  3  4  5]\n",
    "#  [ 6  7  8  9 10]\n",
    "#  [11 12  0  0  0]]\n",
    "# resize()는 요소의 개수가 같지 않아도 수행이 가능 = 데이터의 유실이 발생할 수 있음."
   ]
  },
  {
   "cell_type": "markdown",
   "id": "d74207bc",
   "metadata": {},
   "source": [
    "### indexing, slicing"
   ]
  },
  {
   "cell_type": "code",
   "execution_count": 90,
   "id": "9d568faa",
   "metadata": {},
   "outputs": [
    {
     "name": "stdout",
     "output_type": "stream",
     "text": [
      "[10 11 12 13 14]\n",
      "10\n",
      "[11 12]\n",
      "[11 12 13]\n",
      "[[ 0  1  2  3]\n",
      " [ 4  5  6  7]\n",
      " [ 8  9 10 11]]\n",
      "6\n",
      "[4 5 6 7]\n",
      "[4 5 6 7]\n",
      "[[ 6  7]\n",
      " [10 11]]\n"
     ]
    }
   ],
   "source": [
    "arr = np.arange(10,15,1)\n",
    "print(arr)    # [10 11 12 13 14]\n",
    "\n",
    "print(arr[0])    # 10 \n",
    "print(arr[1:3])  # [11 12]\n",
    "print(arr[1:-1]) # [11 12 13]\n",
    "\n",
    "arr = np.arange(0,12).reshape(3,4)\n",
    "print(arr)\n",
    "\n",
    "print(arr[1,2])  # 6\n",
    "print(arr[1])    # [4 5 6 7]\n",
    "print(arr[1,:])  # [4 5 6 7]\n",
    "print(arr[1:,2:]) # [[ 6  7]\n",
    "                  #  [10 11]]\n",
    "    "
   ]
  },
  {
   "cell_type": "markdown",
   "id": "da712172",
   "metadata": {},
   "source": [
    "### Boolean Indexing 과 Fancy Indexing\n",
    "    - Boolean Indexing\n",
    "        * indexing 방법 중 하나로, boolean mask를 이용해서 indexing하는 방법\n",
    "    "
   ]
  },
  {
   "cell_type": "code",
   "execution_count": 96,
   "id": "33da58dd",
   "metadata": {},
   "outputs": [
    {
     "name": "stdout",
     "output_type": "stream",
     "text": [
      "[5 8 9 5 0 0 1 7 6 9]\n",
      "[5 7 9]\n",
      "[15 18 19 15 10 10 11 17 16 19]\n",
      "[1 0 1 1 0 0 1 1 0 1]\n",
      "[False  True False False  True  True False False  True False]\n",
      "[8 0 0 6]\n"
     ]
    }
   ],
   "source": [
    "np.random.seed(1)\n",
    "\n",
    "arr = np.random.randint(0, 10, (10,))\n",
    "print(arr)   # [5 8 9 5 0 0 1 7 6 9]\n",
    "\n",
    "# ndarray의 사칙연산 => + , -, / , *\n",
    "\n",
    "# ndarray는 같은 shape에 대해서만 연산이 가능\n",
    "arr1 = np.array([1,2,3])\n",
    "arr2 = np.array([4,5,6])\n",
    "print(arr1+arr2)    # [5 7 9]\n",
    "\n",
    "# ndarray는 만약 shape을 맞출 수 있으면 broadcasting이 진행!(차원을 맞춰줌)\n",
    "print(arr + 10)   # [15 18 19 15 10 10 11 17 16 19]\n",
    "print(arr % 2)    # [1 0 1 1 0 0 1 1 0 1]\n",
    "\n",
    "print(arr %  2 == 0)    # [False  True False False  True  True False False  True False]\n",
    "# True, False로만 구성된 ndarray를 boolean mask라고 표현함\n",
    "my_mask = (arr %  2 == 0) \n",
    "# boolean indexing은 boolean mask를 가지고 indexing하는 것을 의미\n",
    "# True인 것의 arr값만 뽑음\n",
    "print(arr[my_mask])    # [8 0 0 6]"
   ]
  },
  {
   "cell_type": "code",
   "execution_count": null,
   "id": "8a81e7ca",
   "metadata": {},
   "outputs": [],
   "source": [
    "# Fancy indexing\n",
    "# ndarray에 index 배열을 전달해서 indexing하는 방법\n",
    "\n",
    "arr = np.array([1,2,3,4,5,6])\n",
    "print(arr)\n",
    "\n",
    "print(arr[3])   # 4 => indexing\n",
    "print(arr[3:])  # [4 5 6] => slicing\n",
    "print(arr[[3,5]]) # [4 6] => fancy indexing"
   ]
  },
  {
   "cell_type": "code",
   "execution_count": 100,
   "id": "4392970e",
   "metadata": {},
   "outputs": [
    {
     "name": "stdout",
     "output_type": "stream",
     "text": [
      "[[ 0  1  2  3]\n",
      " [ 4  5  6  7]\n",
      " [ 8  9 10 11]]\n",
      "[[1 2 3]\n",
      " [5 6 7]]\n",
      "[[1 3]\n",
      " [5 7]]\n"
     ]
    }
   ],
   "source": [
    "arr = np.arange(0,12, 1).reshape(3,4)\n",
    "print(arr)    # [[ 0  1  2  3]\n",
    "              #  [ 4  5  6  7]\n",
    "              #  [ 8  9 10 11]]\n",
    "\n",
    "print(arr[0:2, 1:])    # [[1 2 3]\n",
    "                       #  [5 6 7]]\n",
    "print(arr[0:2, [1,3]]) # [[1 3]\n",
    "                       #  [5 7]]\n",
    "\n"
   ]
  },
  {
   "cell_type": "code",
   "execution_count": 101,
   "id": "ddfda3c9",
   "metadata": {},
   "outputs": [
    {
     "name": "stdout",
     "output_type": "stream",
     "text": [
      "[ 1 11]\n",
      "[[ 1  3]\n",
      " [ 9 11]]\n"
     ]
    }
   ],
   "source": [
    "# 아래처럼 생긴 거 뽑고 싶음\n",
    "# [[1 3]\n",
    "#  [9 11]]\n",
    "    \n",
    "print(arr[[0,2],[1,3]]) #[1 11] ???왜안됨?? numpy내부 구조때문에 그럼\n",
    "\n",
    "# 이런경우를 위해 함수를 하나 제공\n",
    "print(arr[np.ix_([0,2],[1,3])])   #[[ 1  3]\n",
    "                                  # [ 9 11]]"
   ]
  },
  {
   "cell_type": "code",
   "execution_count": null,
   "id": "ec97c601",
   "metadata": {},
   "outputs": [],
   "source": []
  },
  {
   "cell_type": "code",
   "execution_count": null,
   "id": "fd90d1bb",
   "metadata": {},
   "outputs": [],
   "source": []
  },
  {
   "cell_type": "code",
   "execution_count": null,
   "id": "c06e386c",
   "metadata": {},
   "outputs": [],
   "source": []
  },
  {
   "cell_type": "code",
   "execution_count": null,
   "id": "5b38a11b",
   "metadata": {},
   "outputs": [],
   "source": []
  },
  {
   "cell_type": "code",
   "execution_count": null,
   "id": "a57afad3",
   "metadata": {},
   "outputs": [],
   "source": []
  },
  {
   "cell_type": "code",
   "execution_count": null,
   "id": "d29f84d6",
   "metadata": {},
   "outputs": [],
   "source": []
  },
  {
   "cell_type": "code",
   "execution_count": null,
   "id": "564b7f9e",
   "metadata": {},
   "outputs": [],
   "source": []
  },
  {
   "cell_type": "code",
   "execution_count": null,
   "id": "207de49b",
   "metadata": {},
   "outputs": [],
   "source": []
  },
  {
   "cell_type": "code",
   "execution_count": null,
   "id": "a552d5b3",
   "metadata": {},
   "outputs": [],
   "source": []
  },
  {
   "cell_type": "code",
   "execution_count": null,
   "id": "64778f60",
   "metadata": {},
   "outputs": [],
   "source": []
  },
  {
   "cell_type": "code",
   "execution_count": null,
   "id": "aff7ae7b",
   "metadata": {},
   "outputs": [],
   "source": []
  },
  {
   "cell_type": "code",
   "execution_count": null,
   "id": "f106c8b7",
   "metadata": {},
   "outputs": [],
   "source": []
  },
  {
   "cell_type": "code",
   "execution_count": null,
   "id": "a9f24a23",
   "metadata": {},
   "outputs": [],
   "source": []
  },
  {
   "cell_type": "code",
   "execution_count": null,
   "id": "152059b3",
   "metadata": {},
   "outputs": [],
   "source": []
  },
  {
   "cell_type": "code",
   "execution_count": null,
   "id": "764bff2b",
   "metadata": {},
   "outputs": [],
   "source": []
  },
  {
   "cell_type": "code",
   "execution_count": null,
   "id": "5dd6601b",
   "metadata": {},
   "outputs": [],
   "source": []
  },
  {
   "cell_type": "code",
   "execution_count": null,
   "id": "e706dc74",
   "metadata": {},
   "outputs": [],
   "source": []
  },
  {
   "cell_type": "code",
   "execution_count": null,
   "id": "5a170ba3",
   "metadata": {},
   "outputs": [],
   "source": []
  },
  {
   "cell_type": "code",
   "execution_count": null,
   "id": "20591b97",
   "metadata": {},
   "outputs": [],
   "source": []
  },
  {
   "cell_type": "code",
   "execution_count": null,
   "id": "831256f3",
   "metadata": {},
   "outputs": [],
   "source": []
  },
  {
   "cell_type": "code",
   "execution_count": null,
   "id": "c4fc9c6f",
   "metadata": {},
   "outputs": [],
   "source": []
  },
  {
   "cell_type": "code",
   "execution_count": null,
   "id": "92c3c208",
   "metadata": {},
   "outputs": [],
   "source": []
  },
  {
   "cell_type": "code",
   "execution_count": null,
   "id": "26b32dcd",
   "metadata": {},
   "outputs": [],
   "source": []
  },
  {
   "cell_type": "code",
   "execution_count": null,
   "id": "9c1c4b99",
   "metadata": {},
   "outputs": [],
   "source": []
  },
  {
   "cell_type": "code",
   "execution_count": null,
   "id": "156a0653",
   "metadata": {},
   "outputs": [],
   "source": []
  },
  {
   "cell_type": "code",
   "execution_count": null,
   "id": "60685672",
   "metadata": {},
   "outputs": [],
   "source": []
  },
  {
   "cell_type": "code",
   "execution_count": null,
   "id": "eed97f9f",
   "metadata": {},
   "outputs": [],
   "source": []
  },
  {
   "cell_type": "code",
   "execution_count": null,
   "id": "5816390b",
   "metadata": {},
   "outputs": [],
   "source": []
  },
  {
   "cell_type": "code",
   "execution_count": null,
   "id": "7bb5b965",
   "metadata": {},
   "outputs": [],
   "source": []
  }
 ],
 "metadata": {
  "kernelspec": {
   "display_name": "Python [conda env:.conda-machine] *",
   "language": "python",
   "name": "conda-env-.conda-machine-py"
  },
  "language_info": {
   "codemirror_mode": {
    "name": "ipython",
    "version": 3
   },
   "file_extension": ".py",
   "mimetype": "text/x-python",
   "name": "python",
   "nbconvert_exporter": "python",
   "pygments_lexer": "ipython3",
   "version": "3.8.12"
  }
 },
 "nbformat": 4,
 "nbformat_minor": 5
}
