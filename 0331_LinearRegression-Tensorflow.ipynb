{
 "cells": [
  {
   "cell_type": "code",
   "execution_count": 1,
   "id": "cb9957e9",
   "metadata": {},
   "outputs": [],
   "source": [
    "import tensorflow as tf"
   ]
  },
  {
   "cell_type": "code",
   "execution_count": 3,
   "id": "ce87e336",
   "metadata": {
    "scrolled": false
   },
   "outputs": [
    {
     "name": "stdout",
     "output_type": "stream",
     "text": [
      "40.0\n"
     ]
    }
   ],
   "source": [
    "#상수 노드를 만듦\n",
    "node1 = tf.constant(10,dtype=tf.float32)\n",
    "node2 = tf.constant(30,dtype=tf.float32)\n",
    "node3 = node1 + node2\n",
    "\n",
    "# session이라는게 필요함 -> 그래프를 실행시키기 위해서\n",
    "sess = tf.Session()\n",
    "\n",
    "print(sess.run(node3))  # graph를 실행시킴\n"
   ]
  },
  {
   "cell_type": "code",
   "execution_count": 3,
   "id": "de022428",
   "metadata": {},
   "outputs": [
    {
     "name": "stdout",
     "output_type": "stream",
     "text": [
      "WARNING:tensorflow:From C:\\Users\\LG\\AppData\\Local\\Temp\\ipykernel_14400\\1473105965.py:1: The name tf.placeholder is deprecated. Please use tf.compat.v1.placeholder instead.\n",
      "\n"
     ]
    },
    {
     "name": "stderr",
     "output_type": "stream",
     "text": [
      "WARNING:tensorflow:From C:\\Users\\LG\\AppData\\Local\\Temp\\ipykernel_14400\\1473105965.py:1: The name tf.placeholder is deprecated. Please use tf.compat.v1.placeholder instead.\n",
      "\n"
     ]
    },
    {
     "name": "stdout",
     "output_type": "stream",
     "text": [
      "40.0\n"
     ]
    }
   ],
   "source": [
    "node1 = tf.placeholder(dtype=tf.float32)\n",
    "node2 = tf.placeholder(dtype=tf.float32)\n",
    "node3 = node1 + node2\n",
    "sess = tf.Session()\n",
    "result = sess.run(node3, feed_dict={node1:10,node2:30})\n",
    "print(result)"
   ]
  },
  {
   "cell_type": "code",
   "execution_count": 1,
   "id": "a0fcd796",
   "metadata": {},
   "outputs": [],
   "source": [
    "import pandas as pd\n",
    "import numpy as np"
   ]
  },
  {
   "cell_type": "code",
   "execution_count": 5,
   "id": "024f63f1",
   "metadata": {},
   "outputs": [
    {
     "data": {
      "text/html": [
       "<div>\n",
       "<style scoped>\n",
       "    .dataframe tbody tr th:only-of-type {\n",
       "        vertical-align: middle;\n",
       "    }\n",
       "\n",
       "    .dataframe tbody tr th {\n",
       "        vertical-align: top;\n",
       "    }\n",
       "\n",
       "    .dataframe thead th {\n",
       "        text-align: right;\n",
       "    }\n",
       "</style>\n",
       "<table border=\"1\" class=\"dataframe\">\n",
       "  <thead>\n",
       "    <tr style=\"text-align: right;\">\n",
       "      <th></th>\n",
       "      <th>quiz1</th>\n",
       "      <th>quiz2</th>\n",
       "      <th>quiz3</th>\n",
       "      <th>exam</th>\n",
       "    </tr>\n",
       "  </thead>\n",
       "  <tbody>\n",
       "    <tr>\n",
       "      <th>0</th>\n",
       "      <td>73</td>\n",
       "      <td>80</td>\n",
       "      <td>75</td>\n",
       "      <td>152</td>\n",
       "    </tr>\n",
       "    <tr>\n",
       "      <th>1</th>\n",
       "      <td>93</td>\n",
       "      <td>88</td>\n",
       "      <td>93</td>\n",
       "      <td>185</td>\n",
       "    </tr>\n",
       "    <tr>\n",
       "      <th>2</th>\n",
       "      <td>89</td>\n",
       "      <td>91</td>\n",
       "      <td>90</td>\n",
       "      <td>180</td>\n",
       "    </tr>\n",
       "    <tr>\n",
       "      <th>3</th>\n",
       "      <td>96</td>\n",
       "      <td>98</td>\n",
       "      <td>100</td>\n",
       "      <td>196</td>\n",
       "    </tr>\n",
       "    <tr>\n",
       "      <th>4</th>\n",
       "      <td>73</td>\n",
       "      <td>66</td>\n",
       "      <td>70</td>\n",
       "      <td>142</td>\n",
       "    </tr>\n",
       "  </tbody>\n",
       "</table>\n",
       "</div>"
      ],
      "text/plain": [
       "   quiz1  quiz2  quiz3  exam\n",
       "0     73     80     75   152\n",
       "1     93     88     93   185\n",
       "2     89     91     90   180\n",
       "3     96     98    100   196\n",
       "4     73     66     70   142"
      ]
     },
     "metadata": {},
     "output_type": "display_data"
    }
   ],
   "source": [
    "# Q1, Q2, Q3 exam 예제를 이용해서 tensorflow를 사용해서 multiple linear regression을 구현\n",
    "df = pd.read_csv('C:/jupyter_home/data/student_exam_score.csv')\n",
    "display(df.head())"
   ]
  },
  {
   "cell_type": "code",
   "execution_count": 8,
   "id": "82db6951",
   "metadata": {
    "scrolled": false
   },
   "outputs": [
    {
     "name": "stdout",
     "output_type": "stream",
     "text": [
      "ERROR! Session/line number was not unique in database. History logging moved to new session 5\n",
      "WARNING:tensorflow:From C:\\Users\\LG\\AppData\\Local\\Temp\\ipykernel_30924\\3693021537.py:28: The name tf.train.GradientDescentOptimizer is deprecated. Please use tf.compat.v1.train.GradientDescentOptimizer instead.\n",
      "\n"
     ]
    },
    {
     "name": "stderr",
     "output_type": "stream",
     "text": [
      "WARNING:tensorflow:From C:\\Users\\LG\\AppData\\Local\\Temp\\ipykernel_30924\\3693021537.py:28: The name tf.train.GradientDescentOptimizer is deprecated. Please use tf.compat.v1.train.GradientDescentOptimizer instead.\n",
      "\n"
     ]
    },
    {
     "name": "stdout",
     "output_type": "stream",
     "text": [
      "WARNING:tensorflow:From C:\\Users\\LG\\AppData\\Local\\Temp\\ipykernel_30924\\3693021537.py:31: The name tf.Session is deprecated. Please use tf.compat.v1.Session instead.\n",
      "\n"
     ]
    },
    {
     "name": "stderr",
     "output_type": "stream",
     "text": [
      "WARNING:tensorflow:From C:\\Users\\LG\\AppData\\Local\\Temp\\ipykernel_30924\\3693021537.py:31: The name tf.Session is deprecated. Please use tf.compat.v1.Session instead.\n",
      "\n"
     ]
    },
    {
     "name": "stdout",
     "output_type": "stream",
     "text": [
      "WARNING:tensorflow:From C:\\Users\\LG\\AppData\\Local\\Temp\\ipykernel_30924\\3693021537.py:32: The name tf.global_variables_initializer is deprecated. Please use tf.compat.v1.global_variables_initializer instead.\n",
      "\n"
     ]
    },
    {
     "name": "stderr",
     "output_type": "stream",
     "text": [
      "WARNING:tensorflow:From C:\\Users\\LG\\AppData\\Local\\Temp\\ipykernel_30924\\3693021537.py:32: The name tf.global_variables_initializer is deprecated. Please use tf.compat.v1.global_variables_initializer instead.\n",
      "\n"
     ]
    },
    {
     "name": "stdout",
     "output_type": "stream",
     "text": [
      "W : [[0.68131965]\n",
      " [1.9618204 ]\n",
      " [0.32040995]], b: [-0.84632593], loss : 5557.46728515625\n",
      "W : [[0.37505552]\n",
      " [1.5197353 ]\n",
      " [0.15194725]], b: [-0.8500166], loss : 49.08925247192383\n",
      "W : [[0.3705712 ]\n",
      " [1.39777   ]\n",
      " [0.27548695]], b: [-0.8500166], loss : 39.009151458740234\n",
      "W : [[0.3668075]\n",
      " [1.290893 ]\n",
      " [0.38358  ]], b: [-0.8500166], loss : 31.283632278442383\n",
      "W : [[0.36372238]\n",
      " [1.1972153 ]\n",
      " [0.47812688]], b: [-0.8500166], loss : 25.36324691772461\n",
      "W : [[0.3611707 ]\n",
      " [1.115168  ]\n",
      " [0.56078774]], b: [-0.8500166], loss : 20.828876495361328\n",
      "W : [[0.35905322]\n",
      " [1.0433565 ]\n",
      " [0.6330015 ]], b: [-0.8500166], loss : 17.35826873779297\n",
      "W : [[0.35730132]\n",
      " [0.980428  ]\n",
      " [0.6962072 ]], b: [-0.8500166], loss : 14.697571754455566\n",
      "W : [[0.35589644]\n",
      " [0.9252255 ]\n",
      " [0.7515244 ]], b: [-0.8500166], loss : 12.656996726989746\n",
      "W : [[0.35479566]\n",
      " [0.8768208 ]\n",
      " [0.79990196]], b: [-0.8500166], loss : 11.093031883239746\n"
     ]
    }
   ],
   "source": [
    "# 결측치, 이상치, 정규화 필요없음\n",
    "# 전처리 안함\n",
    "\n",
    "# training data set\n",
    "x_data = df.drop('exam',axis=1, inplace=False)\n",
    "t_data = df['exam'].values.reshape(-1,1)\n",
    "\n",
    "# prediction\n",
    "predict_data = np.array([[90,100,95]])   # (1,3)\n",
    "\n",
    "# placeholder\n",
    "# None = 신경쓰지 않겠다\n",
    "X = tf.placeholder(shape=[None,3], dtype=tf.float32)\n",
    "T = tf.placeholder(shape=[None,1], dtype=tf.float32)\n",
    "\n",
    "# weight(3,1), bias\n",
    "# variable = 값이 변할 수 있는 노드\n",
    "W = tf.Variable(tf.random.normal([3,1]))\n",
    "b = tf.Variable(tf.random.normal([1]))\n",
    "\n",
    "# model(hypothesis, 가설, predict model)  # y = Wx + b => XW + b\n",
    "H = tf.matmul(X,W) + b\n",
    "\n",
    "# loss function\n",
    "loss = tf.reduce_mean(tf.square(H-T))\n",
    "\n",
    "# train node 생성\n",
    "train = tf.train.GradientDescentOptimizer(learning_rate=1e-7).minimize(loss)\n",
    "\n",
    "# session을 생성하고 초기화를 진행\n",
    "sess = tf.Session()\n",
    "sess.run(tf.global_variables_initializer())   # 초기화 구문\n",
    "# (그래프를 실행하기 전에 먼저 실행되어야 함)\n",
    "\n",
    "# 반복 학습\n",
    "for step in range(300000):\n",
    "    \n",
    "    _,W_val,b_val,loss_val = sess.run([train,W,b,loss], feed_dict={X: x_data,\n",
    "                               T: t_data})\n",
    "    if step % 30000 == 0:\n",
    "        print('W : {}, b: {}, loss : {}'.format(W_val,b_val,loss_val))\n",
    "    "
   ]
  },
  {
   "cell_type": "code",
   "execution_count": 9,
   "id": "96b38eb3",
   "metadata": {},
   "outputs": [
    {
     "name": "stdout",
     "output_type": "stream",
     "text": [
      "[[194.09903]]\n"
     ]
    }
   ],
   "source": [
    "# prediction\n",
    "result = sess.run(H,feed_dict={X:np.array([[89,100,95]])})\n",
    "print(result)"
   ]
  },
  {
   "cell_type": "code",
   "execution_count": null,
   "id": "1fbcf5bf",
   "metadata": {},
   "outputs": [],
   "source": [
    "# 전공 수행평가3\n",
    "# predict값 np.array([[150.0,10.0,80.0]])\n",
    "# 예상결과  오존량 : [[37.49592078]]\n"
   ]
  }
 ],
 "metadata": {
  "kernelspec": {
   "display_name": "Python 3 (ipykernel)",
   "language": "python",
   "name": "python3"
  },
  "language_info": {
   "codemirror_mode": {
    "name": "ipython",
    "version": 3
   },
   "file_extension": ".py",
   "mimetype": "text/x-python",
   "name": "python",
   "nbconvert_exporter": "python",
   "pygments_lexer": "ipython3",
   "version": "3.7.0"
  }
 },
 "nbformat": 4,
 "nbformat_minor": 5
}
