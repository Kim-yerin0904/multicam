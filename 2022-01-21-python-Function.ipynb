{
 "cells": [
  {
   "cell_type": "markdown",
   "id": "d8e9429b",
   "metadata": {},
   "source": [
    "## function\n",
    "자주 사용되는 기능을 하나의 함수로 작성한 후 호출해서 사용\n",
    "\n",
    "Python의 함수 - 크게 2종류가 있음\n",
    "\n",
    "    1. 내장함수 : Python이 이미 가지고 있는 함수\n",
    "        print(), type(), id(), len() ,...\n",
    "    \n",
    "    2. 사용자 정의 함수(user define function)\n",
    "        \n",
    "        - def 함수 이름(인자):\n",
    "        이렇게 함수를 만듦\n",
    "        인자 = parameter\n",
    "        \n",
    "        - 함수명을 정할 때 변수명을 정할때와 비슷한 규칙이 적용\n",
    "            키워드X, 한글X, 숫자로 시작X, 여러 단어는 '_' 사용\n",
    "            일반적으로 소문자 사용\n",
    "            \n",
    "        - return은 함수를 호출한 곳으로 결과값을 전달, 함수 호출 종료"
   ]
  },
  {
   "cell_type": "code",
   "execution_count": 2,
   "id": "29d7d84c",
   "metadata": {},
   "outputs": [
    {
     "name": "stdout",
     "output_type": "stream",
     "text": [
      "10\n",
      "3\n",
      "<function my_sum at 0x0000020B5834F820>\n"
     ]
    }
   ],
   "source": [
    "def my_sum(a,b):  # a,b : formal parameter(형식 인자)\n",
    "    result = a+b\n",
    "    return result\n",
    "\n",
    "#함수호출\n",
    "print(my_sum(3,7))   #3,7 : actual parameter(실인자)\n",
    "aa = my_sum(2,1)\n",
    "print(aa)\n",
    "print(my_sum)"
   ]
  },
  {
   "cell_type": "code",
   "execution_count": 3,
   "id": "382e8b21",
   "metadata": {},
   "outputs": [
    {
     "name": "stdout",
     "output_type": "stream",
     "text": [
      "13\n",
      "15\n"
     ]
    }
   ],
   "source": [
    "# 사용자 정의 함수의 여러가지 형태\n",
    "# 만약 인자의 개수에 상관없이 함수를 사용하려면?\n",
    "# *는 인자를 튜플로 바꾸라는 의미\n",
    "def my_sum(*args):\n",
    "    result =0\n",
    "    for i in args:\n",
    "        result += i\n",
    "    return result\n",
    "\n",
    "print(my_sum(1,2,4,6))\n",
    "print(my_sum(5,2,8))"
   ]
  },
  {
   "cell_type": "code",
   "execution_count": 6,
   "id": "d0c21e97",
   "metadata": {},
   "outputs": [
    {
     "name": "stdout",
     "output_type": "stream",
     "text": [
      "(4, 3)\n",
      "6 5\n"
     ]
    }
   ],
   "source": [
    "# Python의 함수는 여러 개의 값을 리턴할 수 있어요! (X)\n",
    "# 프로그래밍 언어의 함수는 무조건 1개의 값만 return\n",
    "# 튜플은 괄호 생략 가능! -> 고로 2개의 값을 return하는 게 아니라 튜플 1개를 return 하는 것!\n",
    "\n",
    "def my_sum(a,b):\n",
    "    result1 = a+b\n",
    "    result2 = a*b\n",
    "    return result1,result2\n",
    "\n",
    "print(my_sum(1,3))\n",
    "aa,bb = my_sum(1,5)\n",
    "print(aa, bb)"
   ]
  },
  {
   "cell_type": "code",
   "execution_count": 8,
   "id": "865e165d",
   "metadata": {},
   "outputs": [
    {
     "name": "stdout",
     "output_type": "stream",
     "text": [
      "103\n",
      "6\n"
     ]
    }
   ],
   "source": [
    "#default parameter\n",
    "#default parameter는 반드시 맨 마지막에 하나만 나올 수 있음\n",
    "#default parameter는 함수를 호출할 때 사용해도 되고 안해도 됨\n",
    "\n",
    "def my_sum(a,b,c=100):\n",
    "    return a+b+c\n",
    "\n",
    "print(my_sum(1,2))\n",
    "print(my_sum(1,2,3))"
   ]
  },
  {
   "cell_type": "markdown",
   "id": "74aabd0b",
   "metadata": {},
   "source": [
    "### mutable(가변의) vs. immutable(불변의)\n",
    "\n",
    "    call-by-value, call-by-reference\n",
    "    immutable -> call-by-value\n",
    "    mutable -> call-by-reference"
   ]
  },
  {
   "cell_type": "code",
   "execution_count": 11,
   "id": "5f066efd",
   "metadata": {},
   "outputs": [
    {
     "name": "stdout",
     "output_type": "stream",
     "text": [
      "10 [10]\n",
      "10 [10, 100]\n"
     ]
    }
   ],
   "source": [
    "def my_sum(tmp_number, tmp_list):\n",
    "    tmp_number += 100\n",
    "    tmp_list.append(100)\n",
    "\n",
    "data_x = 10\n",
    "data_list=[10]\n",
    "\n",
    "print(data_x, data_list)\n",
    "my_sum(data_x,data_list)\n",
    "print(data_x,data_list)  #data_x => immutable(불변의) : 숫자,문자,튜플\n",
    "                         #data_list => mutable(가변의) : 리스트, 딕셔너리\n"
   ]
  },
  {
   "cell_type": "markdown",
   "id": "e0328d29",
   "metadata": {},
   "source": [
    "### local variable & global variable"
   ]
  },
  {
   "cell_type": "code",
   "execution_count": 13,
   "id": "770a1386",
   "metadata": {},
   "outputs": [],
   "source": [
    "tmp = 100 # memory영역에 존재\n",
    "def my_func(x):  # stack 안에서 실행\n",
    "    tmp = tmp + x  #stack 안에서 temp를 찾을 수 없음\n",
    "    return tmp\n",
    "#print(my_func(10))    \n",
    "#error : local variable 'tmp' referenced before assignment\n",
    "\n",
    "#scope (식별자를 찾을 수 있는 영역)"
   ]
  },
  {
   "cell_type": "code",
   "execution_count": 14,
   "id": "3ffe9b9f",
   "metadata": {},
   "outputs": [
    {
     "name": "stdout",
     "output_type": "stream",
     "text": [
      "110\n"
     ]
    }
   ],
   "source": [
    "tmp = 100 # memory영역에 존재\n",
    "def my_func(x):  # stack 안에서 실행\n",
    "    global tmp   # 다른 scope에서 찾아!\n",
    "    tmp = tmp + x  # memory에 있는 tmp를 찾음\n",
    "    return tmp\n",
    "print(my_func(10)) \n",
    "\n",
    "#########\n",
    "# global 함수 사용하면 외부 영역의 변수를 사용할 수 있음\n",
    "# but, 안좋은 방법임 -> scope가 얽혀있어서 유지 보수가 힘듫"
   ]
  },
  {
   "cell_type": "code",
   "execution_count": 15,
   "id": "794676e7",
   "metadata": {},
   "outputs": [],
   "source": [
    "#Python 객체지향\n",
    "#class -> 객체 모델링의 수단"
   ]
  },
  {
   "cell_type": "code",
   "execution_count": 19,
   "id": "41ccc3c6",
   "metadata": {},
   "outputs": [],
   "source": [
    "student_name = '아이유'\n",
    "student_dept = '철학과'\n",
    "student_number = '20001122'  \n",
    "student_grade = 3.5\n",
    "\n",
    "student_name = '김연아'\n",
    "student_dept = '컴퓨터'\n",
    "student_number = '200231122'  \n",
    "student_grade = 4.2\n",
    "\n",
    "student_name = '홍길동'\n",
    "student_dept = '영문'\n",
    "student_number = '20001743'  \n",
    "student_grade = 2.4"
   ]
  },
  {
   "cell_type": "code",
   "execution_count": 20,
   "id": "db76ef35",
   "metadata": {},
   "outputs": [],
   "source": [
    "# class 이름은 관용적으로 대문자로 시작\n",
    "class Student(object):\n",
    "    def __init__(self,stu_name,stu_dept,stu_number,stu_grade):\n",
    "        self.student_name = stu_name\n",
    "        self.student_dept = stu_dept\n",
    "        self.student_number = stu_number\n",
    "        self.student_grade = stu_grade\n",
    "    \n",
    "stu = Student('아이유','철학',2001122,3.5)\n",
    "stu = Student('김연아','컴퓨터',200231122,4.2)\n",
    "stu = Student('홍길동','영문',20001743,2.4)"
   ]
  },
  {
   "cell_type": "code",
   "execution_count": null,
   "id": "4ef321b5",
   "metadata": {},
   "outputs": [],
   "source": []
  },
  {
   "cell_type": "code",
   "execution_count": null,
   "id": "9397c6f3",
   "metadata": {},
   "outputs": [],
   "source": []
  },
  {
   "cell_type": "code",
   "execution_count": null,
   "id": "9a3057dd",
   "metadata": {},
   "outputs": [],
   "source": []
  },
  {
   "cell_type": "code",
   "execution_count": null,
   "id": "faa45c52",
   "metadata": {},
   "outputs": [],
   "source": []
  },
  {
   "cell_type": "code",
   "execution_count": null,
   "id": "99e8cab1",
   "metadata": {},
   "outputs": [],
   "source": []
  },
  {
   "cell_type": "code",
   "execution_count": null,
   "id": "5005c035",
   "metadata": {},
   "outputs": [],
   "source": []
  },
  {
   "cell_type": "code",
   "execution_count": null,
   "id": "8f105f62",
   "metadata": {},
   "outputs": [],
   "source": []
  },
  {
   "cell_type": "code",
   "execution_count": null,
   "id": "1e4df062",
   "metadata": {},
   "outputs": [],
   "source": []
  },
  {
   "cell_type": "code",
   "execution_count": null,
   "id": "adf06722",
   "metadata": {},
   "outputs": [],
   "source": []
  }
 ],
 "metadata": {
  "kernelspec": {
   "display_name": "Python [conda env:.conda-data_env] *",
   "language": "python",
   "name": "conda-env-.conda-data_env-py"
  },
  "language_info": {
   "codemirror_mode": {
    "name": "ipython",
    "version": 3
   },
   "file_extension": ".py",
   "mimetype": "text/x-python",
   "name": "python",
   "nbconvert_exporter": "python",
   "pygments_lexer": "ipython3",
   "version": "3.8.12"
  }
 },
 "nbformat": 4,
 "nbformat_minor": 5
}
