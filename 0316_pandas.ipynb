{
 "cells": [
  {
   "cell_type": "markdown",
   "id": "9d36d60a",
   "metadata": {},
   "source": [
    "## Pandas\n",
    "\n",
    "- Series : 1차원 자료구조, 같은 data type만 저장 가능\n",
    "- DataFrame : 2차원 자료구조, series의 집합\n",
    "\n"
   ]
  },
  {
   "cell_type": "code",
   "execution_count": 2,
   "id": "fcf1fe36",
   "metadata": {},
   "outputs": [],
   "source": [
    "import numpy as np\n",
    "import pandas as pd"
   ]
  },
  {
   "cell_type": "code",
   "execution_count": 6,
   "id": "a038d98f",
   "metadata": {},
   "outputs": [
    {
     "name": "stdout",
     "output_type": "stream",
     "text": [
      "[1. 2. 3. 4. 5.]\n",
      "0    1.0\n",
      "1    2.0\n",
      "2    3.0\n",
      "3    4.0\n",
      "4    5.0\n",
      "dtype: float64\n",
      "[1. 2. 3. 4. 5.]\n",
      "RangeIndex(start=0, stop=5, step=1)\n",
      "float64\n"
     ]
    }
   ],
   "source": [
    "arr = np.array([1,2,3,4,5], dtype=np.float64)\n",
    "print(arr)\n",
    "\n",
    "s = pd.Series([1,2,3,4,5], dtype=np.float64)\n",
    "print(s)    #index와 value가 같이 출력\n",
    "# 0    1.0\n",
    "# 1    2.0\n",
    "# 2    3.0\n",
    "# 3    4.0\n",
    "# 4    5.0\n",
    "# dtype: float64\n",
    "\n",
    "print(s.values)    # [1. 2. 3. 4. 5.]\n",
    "print(s.index)     # RangeIndex(start=0, stop=5, step=1)\n",
    "print(s.dtype)     # float64"
   ]
  },
  {
   "cell_type": "code",
   "execution_count": 9,
   "id": "c45762cf",
   "metadata": {},
   "outputs": [
    {
     "name": "stdout",
     "output_type": "stream",
     "text": [
      "c      1.0\n",
      "b      2.0\n",
      "a      3.0\n",
      "kk     4.0\n",
      "홍길동    5.0\n",
      "dtype: float64\n",
      "3.0\n",
      "3.0\n"
     ]
    }
   ],
   "source": [
    "s = pd.Series([1,2,3,4,5], dtype=np.float64, index=['c','b','a','kk','홍길동'])\n",
    "print(s)    #c      1.0\n",
    "            #b      2.0\n",
    "            #a      3.0\n",
    "            #kk     4.0\n",
    "            #홍길동    5.0\n",
    "            #dtype: float64\n",
    "\n",
    "# 이렇게 index를 지정하면 숫자index는 어떻게 됨?\n",
    "# 숫자 인덱스는 그대로 사용 가능\n",
    "print(s[2])    #3.0\n",
    "print(s['a'])  #3.0"
   ]
  },
  {
   "cell_type": "code",
   "execution_count": 12,
   "id": "85f41571",
   "metadata": {},
   "outputs": [
    {
     "name": "stdout",
     "output_type": "stream",
     "text": [
      "0      1.0\n",
      "2      2.0\n",
      "100    3.0\n",
      "6      4.0\n",
      "9      5.0\n",
      "dtype: float64\n",
      "1.0\n"
     ]
    }
   ],
   "source": [
    "# 지정 인덱스를 숫자로 사용하면?\n",
    "s = pd.Series([1,2,3,4,5], dtype=np.float64, index=[0,2,100,6,9])\n",
    "print(s)\n",
    "\n",
    "print(s[0])   # 1.0\n",
    "# print(s[1])   # error! \n",
    "\n",
    "# 지정 인덱스를 숫자로 하면 원래있던 숫자인덱스는 사용X"
   ]
  },
  {
   "cell_type": "code",
   "execution_count": 15,
   "id": "631372a9",
   "metadata": {},
   "outputs": [
    {
     "name": "stdout",
     "output_type": "stream",
     "text": [
      "c    1.0\n",
      "b    2.0\n",
      "c    3.0\n",
      "k    4.0\n",
      "m    5.0\n",
      "dtype: float64\n",
      "c    1.0\n",
      "c    3.0\n",
      "dtype: float64\n"
     ]
    }
   ],
   "source": [
    "# 지정 인덱스에 같은게 있으면 ? 가능함!\n",
    "\n",
    "s = pd.Series([1,2,3,4,5], dtype=np.float64, index=['c','b','c','k','m'])\n",
    "print(s)    #c    1.0\n",
    "            # b    2.0\n",
    "            # c    3.0\n",
    "            # k    4.0\n",
    "            # m    5.0\n",
    "            # dtype: float64\n",
    "\n",
    "print(s['c'])    # c    1.0\n",
    "                 # c    3.0\n",
    "                 # dtype: float64"
   ]
  },
  {
   "cell_type": "code",
   "execution_count": 4,
   "id": "c97209ac",
   "metadata": {},
   "outputs": [
    {
     "name": "stdout",
     "output_type": "stream",
     "text": [
      "c    1.0\n",
      "b    2.0\n",
      "a    3.0\n",
      "dtype: float64\n",
      "c    1.0\n",
      "b    2.0\n",
      "a    3.0\n",
      "k    4.0\n",
      "dtype: float64\n"
     ]
    }
   ],
   "source": [
    "# indexing, slicing\n",
    "s = pd.Series([1,2,3,4,5], dtype=np.float64, index=['c','b','a','k','m'])\n",
    "\n",
    "#숫자 indexx를 이용한 slicing(ndarray와 list와 동일)\n",
    "print(s[0:3])   # c    1.0\n",
    "                # b    2.0\n",
    "                # a    3.0\n",
    "                # dtype: float64\n",
    "            \n",
    "#지정 index를 사용하면 c부터 k까지 둘다 포함!            \n",
    "print(s['c':'k'])   # c    1.0\n",
    "                    # b    2.0\n",
    "                    # a    3.0\n",
    "                    # k    4.0\n",
    "                    # dtype: float64\n"
   ]
  },
  {
   "cell_type": "code",
   "execution_count": 17,
   "id": "8ffa1274",
   "metadata": {},
   "outputs": [
    {
     "name": "stdout",
     "output_type": "stream",
     "text": [
      "c    1.0\n",
      "b    2.0\n",
      "a    3.0\n",
      "k    4.0\n",
      "m    5.0\n",
      "dtype: float64\n",
      "b    2.0\n",
      "k    4.0\n",
      "dtype: float64\n",
      "c    1.0\n",
      "a    3.0\n",
      "dtype: float64\n"
     ]
    }
   ],
   "source": [
    "#boolean indexing, fancy indexing 적용가능\n",
    "s = pd.Series([1,2,3,4,5], dtype=np.float64, index=['c','b','a','k','m'])\n",
    "print(s)\n",
    "\n",
    "# 짝수만 뽑아내는 boolean indexing\n",
    "print(s[s % 2 == 0])   # b    2.0\n",
    "                       # k    4.0\n",
    "                       # dtype: float64\n",
    "\n",
    "#fancy indexing\n",
    "print(s[[0,2]])    # c    1.0\n",
    "                   # a    3.0\n",
    "                   # dtype: float64"
   ]
  },
  {
   "cell_type": "code",
   "execution_count": 18,
   "id": "9e013463",
   "metadata": {},
   "outputs": [
    {
     "name": "stdout",
     "output_type": "stream",
     "text": [
      "서울    1000\n",
      "인천     500\n",
      "제주     200\n",
      "dtype: int64\n"
     ]
    }
   ],
   "source": [
    "# series를 만드는 또 다른 방법\n",
    "# index를 key로, 저장하는 값을 value로 구성되는 자료구조\n",
    "# dictionary를 이용해서 series를 생성\n",
    "\n",
    "my_dict = {'서울': 1000, '인천':500, '제주':200}\n",
    "s = pd.Series(my_dict)\n",
    "print(s)    # 서울    1000\n",
    "            # 인천     500\n",
    "            # 제주     200\n",
    "            # dtype: int64"
   ]
  },
  {
   "cell_type": "code",
   "execution_count": 28,
   "id": "37ad5e7b",
   "metadata": {},
   "outputs": [
    {
     "name": "stdout",
     "output_type": "stream",
     "text": [
      "2020-01-01 00:00:00\n",
      "[58, 53, 52, 47, 62, 51, 41, 54, 46, 52]\n",
      "2020-01-01    58\n",
      "2020-01-02    53\n",
      "2020-01-03    52\n",
      "2020-01-04    47\n",
      "2020-01-05    62\n",
      "2020-01-06    51\n",
      "2020-01-07    41\n",
      "2020-01-08    54\n",
      "2020-01-09    46\n",
      "2020-01-10    52\n",
      "dtype: int64\n",
      "2020-01-05    70\n",
      "2020-01-06    81\n",
      "2020-01-07    74\n",
      "2020-01-08    67\n",
      "2020-01-09    77\n",
      "2020-01-10    57\n",
      "2020-01-11    64\n",
      "2020-01-12    66\n",
      "2020-01-13    71\n",
      "2020-01-14    70\n",
      "dtype: int64\n",
      "2020-01-01      NaN\n",
      "2020-01-02      NaN\n",
      "2020-01-03      NaN\n",
      "2020-01-04      NaN\n",
      "2020-01-05    132.0\n",
      "2020-01-06    132.0\n",
      "2020-01-07    115.0\n",
      "2020-01-08    121.0\n",
      "2020-01-09    123.0\n",
      "2020-01-10    109.0\n",
      "2020-01-11      NaN\n",
      "2020-01-12      NaN\n",
      "2020-01-13      NaN\n",
      "2020-01-14      NaN\n",
      "dtype: float64\n"
     ]
    }
   ],
   "source": [
    "# A공장의 2020년 1월 1일부터 10일간 생산량의 series로 저장\n",
    "# 생산량은 평균이 50이고, 표준편차가 5인 정규분포에서 랜덤하게 생성(정수)\n",
    "# index가 날짜\n",
    "\n",
    "from datetime import datetime, timedelta\n",
    "\n",
    "start_day = datetime(2020,1,1)\n",
    "start_day2 = datetime(2020,1,5)\n",
    "print(start_day)   # 2020-01-01 00:00:00\n",
    "\n",
    "# list_comprehension => list 생성 시 제어문 사용\n",
    "my_list = [int(x) for x in np.random.normal(50,5,(10,))]\n",
    "print(my_list)  # [58, 53, 52, 47, 62, 51, 41, 54, 46, 52]\n",
    "\n",
    "s = pd.Series(my_list, index=[start_day + timedelta(days=x) for x in range(10)])\n",
    "print(s)    # 2020-01-01    58\n",
    "            # 2020-01-02    53\n",
    "            # 2020-01-03    52\n",
    "            # 2020-01-04    47\n",
    "            # 2020-01-05    62\n",
    "            # 2020-01-06    51\n",
    "            # 2020-01-07    41\n",
    "            # 2020-01-08    54\n",
    "            # 2020-01-09    46\n",
    "            # 2020-01-10    52\n",
    "            # dtype: int64\n",
    "\n",
    "s2 = pd.Series([int(x) for x in np.random.normal(70,8,(10,))], index=[start_day2 + timedelta(days=x) for x in range(10)])\n",
    "print(s2)   # 2020-01-05    70\n",
    "            # 2020-01-06    81\n",
    "            # 2020-01-07    74\n",
    "            # 2020-01-08    67\n",
    "            # 2020-01-09    77\n",
    "            # 2020-01-10    57\n",
    "            # 2020-01-11    64\n",
    "            # 2020-01-12    66\n",
    "            # 2020-01-13    71\n",
    "            # 2020-01-14    70\n",
    "            # dtype: int64\n",
    "\n",
    "print(s+s2) # 2020-01-01      NaN\n",
    "            # 2020-01-02      NaN\n",
    "            # 2020-01-03      NaN\n",
    "            # 2020-01-04      NaN\n",
    "            # 2020-01-05    132.0\n",
    "            # 2020-01-06    132.0\n",
    "            # 2020-01-07    115.0\n",
    "            # 2020-01-08    121.0\n",
    "            # 2020-01-09    123.0\n",
    "            # 2020-01-10    109.0\n",
    "            # 2020-01-11      NaN\n",
    "            # 2020-01-12      NaN\n",
    "            # 2020-01-13      NaN\n",
    "            # 2020-01-14      NaN\n",
    "            # dtype: float64\n"
   ]
  },
  {
   "cell_type": "code",
   "execution_count": 38,
   "id": "7fbe8df2",
   "metadata": {},
   "outputs": [
    {
     "name": "stdout",
     "output_type": "stream",
     "text": [
      "     이름  학년   학점\n",
      "0   홍길동   4  1.5\n",
      "1   아이유   3  2.4\n",
      "2   김연아   1  3.9\n",
      "3  신사임당   2  3.2\n"
     ]
    },
    {
     "data": {
      "text/html": [
       "<div>\n",
       "<style scoped>\n",
       "    .dataframe tbody tr th:only-of-type {\n",
       "        vertical-align: middle;\n",
       "    }\n",
       "\n",
       "    .dataframe tbody tr th {\n",
       "        vertical-align: top;\n",
       "    }\n",
       "\n",
       "    .dataframe thead th {\n",
       "        text-align: right;\n",
       "    }\n",
       "</style>\n",
       "<table border=\"1\" class=\"dataframe\">\n",
       "  <thead>\n",
       "    <tr style=\"text-align: right;\">\n",
       "      <th></th>\n",
       "      <th>이름</th>\n",
       "      <th>학년</th>\n",
       "      <th>학점</th>\n",
       "    </tr>\n",
       "  </thead>\n",
       "  <tbody>\n",
       "    <tr>\n",
       "      <th>0</th>\n",
       "      <td>홍길동</td>\n",
       "      <td>4</td>\n",
       "      <td>1.5</td>\n",
       "    </tr>\n",
       "    <tr>\n",
       "      <th>1</th>\n",
       "      <td>아이유</td>\n",
       "      <td>3</td>\n",
       "      <td>2.4</td>\n",
       "    </tr>\n",
       "    <tr>\n",
       "      <th>2</th>\n",
       "      <td>김연아</td>\n",
       "      <td>1</td>\n",
       "      <td>3.9</td>\n",
       "    </tr>\n",
       "    <tr>\n",
       "      <th>3</th>\n",
       "      <td>신사임당</td>\n",
       "      <td>2</td>\n",
       "      <td>3.2</td>\n",
       "    </tr>\n",
       "  </tbody>\n",
       "</table>\n",
       "</div>"
      ],
      "text/plain": [
       "     이름  학년   학점\n",
       "0   홍길동   4  1.5\n",
       "1   아이유   3  2.4\n",
       "2   김연아   1  3.9\n",
       "3  신사임당   2  3.2"
      ]
     },
     "metadata": {},
     "output_type": "display_data"
    },
    {
     "name": "stdout",
     "output_type": "stream",
     "text": [
      "(4, 3)\n",
      "[['홍길동' 4 1.5]\n",
      " ['아이유' 3 2.4]\n",
      " ['김연아' 1 3.9]\n",
      " ['신사임당' 2 3.2]]\n",
      "12\n",
      "2\n",
      "RangeIndex(start=0, stop=4, step=1)\n",
      "Index(['이름', '학년', '학점'], dtype='object')\n"
     ]
    },
    {
     "data": {
      "text/html": [
       "<div>\n",
       "<style scoped>\n",
       "    .dataframe tbody tr th:only-of-type {\n",
       "        vertical-align: middle;\n",
       "    }\n",
       "\n",
       "    .dataframe tbody tr th {\n",
       "        vertical-align: top;\n",
       "    }\n",
       "\n",
       "    .dataframe thead th {\n",
       "        text-align: right;\n",
       "    }\n",
       "</style>\n",
       "<table border=\"1\" class=\"dataframe\">\n",
       "  <thead>\n",
       "    <tr style=\"text-align: right;\">\n",
       "      <th>학생정보</th>\n",
       "      <th>이름</th>\n",
       "      <th>학년</th>\n",
       "      <th>학점</th>\n",
       "    </tr>\n",
       "    <tr>\n",
       "      <th>학번</th>\n",
       "      <th></th>\n",
       "      <th></th>\n",
       "      <th></th>\n",
       "    </tr>\n",
       "  </thead>\n",
       "  <tbody>\n",
       "    <tr>\n",
       "      <th>0</th>\n",
       "      <td>홍길동</td>\n",
       "      <td>4</td>\n",
       "      <td>1.5</td>\n",
       "    </tr>\n",
       "    <tr>\n",
       "      <th>1</th>\n",
       "      <td>아이유</td>\n",
       "      <td>3</td>\n",
       "      <td>2.4</td>\n",
       "    </tr>\n",
       "    <tr>\n",
       "      <th>2</th>\n",
       "      <td>김연아</td>\n",
       "      <td>1</td>\n",
       "      <td>3.9</td>\n",
       "    </tr>\n",
       "    <tr>\n",
       "      <th>3</th>\n",
       "      <td>신사임당</td>\n",
       "      <td>2</td>\n",
       "      <td>3.2</td>\n",
       "    </tr>\n",
       "  </tbody>\n",
       "</table>\n",
       "</div>"
      ],
      "text/plain": [
       "학생정보    이름  학년   학점\n",
       "학번                 \n",
       "0      홍길동   4  1.5\n",
       "1      아이유   3  2.4\n",
       "2      김연아   1  3.9\n",
       "3     신사임당   2  3.2"
      ]
     },
     "metadata": {},
     "output_type": "display_data"
    }
   ],
   "source": [
    "# DataFrame\n",
    "\n",
    "my_dict = {'이름':['홍길동','아이유','김연아','신사임당'],\n",
    "          '학년':[4,3,1,2],\n",
    "          '학점':[1.5, 2.4, 3.9, 3.2]}\n",
    "\n",
    "df = pd.DataFrame(my_dict)\n",
    "print(df)\n",
    "#      이름  학년   학점\n",
    "# 0   홍길동   4  1.5\n",
    "# 1   아이유   3  2.4\n",
    "# 2   김연아   1  3.9\n",
    "# 3  신사임당   2  3.2\n",
    "display(df)  \n",
    "\n",
    "print(df.shape)   # (4, 3)\n",
    "print(df.values)  # [['홍길동' 4 1.5]\n",
    "                  # ['아이유' 3 2.4] \n",
    "                  # ['김연아' 1 3.9]\n",
    "                  # ['신사임당' 2 3.2]]\n",
    "print(df.size)    # 12\n",
    "print(df.ndim)    # 2\n",
    "print(df.index)   # 행인덱스 : RangeIndex(start=0, stop=4, step=1)\n",
    "print(df.columns) # 열인덱스 : Index(['이름', '학년', '학점'], dtype='object')\n",
    "\n",
    "df.index.name = '학번'\n",
    "df.columns.name = '학생정보'\n",
    "display(df)"
   ]
  },
  {
   "cell_type": "code",
   "execution_count": 44,
   "id": "36350a99",
   "metadata": {},
   "outputs": [
    {
     "data": {
      "text/html": [
       "<div>\n",
       "<style scoped>\n",
       "    .dataframe tbody tr th:only-of-type {\n",
       "        vertical-align: middle;\n",
       "    }\n",
       "\n",
       "    .dataframe tbody tr th {\n",
       "        vertical-align: top;\n",
       "    }\n",
       "\n",
       "    .dataframe thead th {\n",
       "        text-align: right;\n",
       "    }\n",
       "</style>\n",
       "<table border=\"1\" class=\"dataframe\">\n",
       "  <thead>\n",
       "    <tr style=\"text-align: right;\">\n",
       "      <th></th>\n",
       "      <th>이름</th>\n",
       "      <th>학년</th>\n",
       "      <th>학점</th>\n",
       "    </tr>\n",
       "  </thead>\n",
       "  <tbody>\n",
       "    <tr>\n",
       "      <th>0</th>\n",
       "      <td>홍길동</td>\n",
       "      <td>4</td>\n",
       "      <td>1.5</td>\n",
       "    </tr>\n",
       "    <tr>\n",
       "      <th>1</th>\n",
       "      <td>아이유</td>\n",
       "      <td>3</td>\n",
       "      <td>2.4</td>\n",
       "    </tr>\n",
       "    <tr>\n",
       "      <th>2</th>\n",
       "      <td>김연아</td>\n",
       "      <td>1</td>\n",
       "      <td>3.9</td>\n",
       "    </tr>\n",
       "    <tr>\n",
       "      <th>3</th>\n",
       "      <td>신사임당</td>\n",
       "      <td>2</td>\n",
       "      <td>3.2</td>\n",
       "    </tr>\n",
       "  </tbody>\n",
       "</table>\n",
       "</div>"
      ],
      "text/plain": [
       "     이름  학년   학점\n",
       "0   홍길동   4  1.5\n",
       "1   아이유   3  2.4\n",
       "2   김연아   1  3.9\n",
       "3  신사임당   2  3.2"
      ]
     },
     "metadata": {},
     "output_type": "display_data"
    },
    {
     "data": {
      "text/html": [
       "<div>\n",
       "<style scoped>\n",
       "    .dataframe tbody tr th:only-of-type {\n",
       "        vertical-align: middle;\n",
       "    }\n",
       "\n",
       "    .dataframe tbody tr th {\n",
       "        vertical-align: top;\n",
       "    }\n",
       "\n",
       "    .dataframe thead th {\n",
       "        text-align: right;\n",
       "    }\n",
       "</style>\n",
       "<table border=\"1\" class=\"dataframe\">\n",
       "  <thead>\n",
       "    <tr style=\"text-align: right;\">\n",
       "      <th></th>\n",
       "      <th>학생이름</th>\n",
       "      <th>학년</th>\n",
       "      <th>평균평점</th>\n",
       "    </tr>\n",
       "  </thead>\n",
       "  <tbody>\n",
       "    <tr>\n",
       "      <th>one</th>\n",
       "      <td>홍길동</td>\n",
       "      <td>4</td>\n",
       "      <td>1.5</td>\n",
       "    </tr>\n",
       "    <tr>\n",
       "      <th>1</th>\n",
       "      <td>아이유</td>\n",
       "      <td>3</td>\n",
       "      <td>2.4</td>\n",
       "    </tr>\n",
       "    <tr>\n",
       "      <th>2</th>\n",
       "      <td>김연아</td>\n",
       "      <td>1</td>\n",
       "      <td>3.9</td>\n",
       "    </tr>\n",
       "    <tr>\n",
       "      <th>3</th>\n",
       "      <td>신사임당</td>\n",
       "      <td>2</td>\n",
       "      <td>3.2</td>\n",
       "    </tr>\n",
       "  </tbody>\n",
       "</table>\n",
       "</div>"
      ],
      "text/plain": [
       "     학생이름  학년  평균평점\n",
       "one   홍길동   4   1.5\n",
       "1     아이유   3   2.4\n",
       "2     김연아   1   3.9\n",
       "3    신사임당   2   3.2"
      ]
     },
     "metadata": {},
     "output_type": "display_data"
    },
    {
     "data": {
      "text/html": [
       "<div>\n",
       "<style scoped>\n",
       "    .dataframe tbody tr th:only-of-type {\n",
       "        vertical-align: middle;\n",
       "    }\n",
       "\n",
       "    .dataframe tbody tr th {\n",
       "        vertical-align: top;\n",
       "    }\n",
       "\n",
       "    .dataframe thead th {\n",
       "        text-align: right;\n",
       "    }\n",
       "</style>\n",
       "<table border=\"1\" class=\"dataframe\">\n",
       "  <thead>\n",
       "    <tr style=\"text-align: right;\">\n",
       "      <th></th>\n",
       "      <th>학년</th>\n",
       "      <th>학점</th>\n",
       "    </tr>\n",
       "    <tr>\n",
       "      <th>이름</th>\n",
       "      <th></th>\n",
       "      <th></th>\n",
       "    </tr>\n",
       "  </thead>\n",
       "  <tbody>\n",
       "    <tr>\n",
       "      <th>홍길동</th>\n",
       "      <td>4</td>\n",
       "      <td>1.5</td>\n",
       "    </tr>\n",
       "    <tr>\n",
       "      <th>아이유</th>\n",
       "      <td>3</td>\n",
       "      <td>2.4</td>\n",
       "    </tr>\n",
       "    <tr>\n",
       "      <th>김연아</th>\n",
       "      <td>1</td>\n",
       "      <td>3.9</td>\n",
       "    </tr>\n",
       "    <tr>\n",
       "      <th>신사임당</th>\n",
       "      <td>2</td>\n",
       "      <td>3.2</td>\n",
       "    </tr>\n",
       "  </tbody>\n",
       "</table>\n",
       "</div>"
      ],
      "text/plain": [
       "      학년   학점\n",
       "이름           \n",
       "홍길동    4  1.5\n",
       "아이유    3  2.4\n",
       "김연아    1  3.9\n",
       "신사임당   2  3.2"
      ]
     },
     "metadata": {},
     "output_type": "display_data"
    }
   ],
   "source": [
    "my_dict = {'이름':['홍길동','아이유','김연아','신사임당'],\n",
    "          '학년':[4,3,1,2],\n",
    "          '학점':[1.5, 2.4, 3.9, 3.2]}\n",
    "df = pd.DataFrame(my_dict)\n",
    "\n",
    "# inplace 옵션 값이 True면 원본을 수정, 복사본 X, False면 복사본을 만듦\n",
    "new_df = df.rename(columns={'이름':'학생이름','학점':'평균평점'}, index={0:'one'}, inplace=False)\n",
    "display(new_df)\n",
    "\n",
    "# 칼럼을 인덱스로 설정하기\n",
    "new_df1 = df.set_index('이름',inplace=False)\n",
    "display(new_df1)"
   ]
  },
  {
   "cell_type": "markdown",
   "id": "9a546854",
   "metadata": {},
   "source": [
    "여기까지 DataFrame 기본사항 끝!!!!"
   ]
  },
  {
   "cell_type": "code",
   "execution_count": 51,
   "id": "da1a43c8",
   "metadata": {},
   "outputs": [
    {
     "data": {
      "text/html": [
       "<div>\n",
       "<style scoped>\n",
       "    .dataframe tbody tr th:only-of-type {\n",
       "        vertical-align: middle;\n",
       "    }\n",
       "\n",
       "    .dataframe tbody tr th {\n",
       "        vertical-align: top;\n",
       "    }\n",
       "\n",
       "    .dataframe thead th {\n",
       "        text-align: right;\n",
       "    }\n",
       "</style>\n",
       "<table border=\"1\" class=\"dataframe\">\n",
       "  <thead>\n",
       "    <tr style=\"text-align: right;\">\n",
       "      <th></th>\n",
       "      <th>이름</th>\n",
       "      <th>입학연도</th>\n",
       "      <th>성적</th>\n",
       "    </tr>\n",
       "  </thead>\n",
       "  <tbody>\n",
       "    <tr>\n",
       "      <th>0</th>\n",
       "      <td>아이유</td>\n",
       "      <td>2015</td>\n",
       "      <td>1.5</td>\n",
       "    </tr>\n",
       "    <tr>\n",
       "      <th>1</th>\n",
       "      <td>김연아</td>\n",
       "      <td>2016</td>\n",
       "      <td>2.0</td>\n",
       "    </tr>\n",
       "    <tr>\n",
       "      <th>2</th>\n",
       "      <td>홍길동</td>\n",
       "      <td>2015</td>\n",
       "      <td>3.1</td>\n",
       "    </tr>\n",
       "    <tr>\n",
       "      <th>3</th>\n",
       "      <td>강감찬</td>\n",
       "      <td>2017</td>\n",
       "      <td>1.1</td>\n",
       "    </tr>\n",
       "    <tr>\n",
       "      <th>4</th>\n",
       "      <td>이순신</td>\n",
       "      <td>2016</td>\n",
       "      <td>2.7</td>\n",
       "    </tr>\n",
       "  </tbody>\n",
       "</table>\n",
       "</div>"
      ],
      "text/plain": [
       "    이름  입학연도   성적\n",
       "0  아이유  2015  1.5\n",
       "1  김연아  2016  2.0\n",
       "2  홍길동  2015  3.1\n",
       "3  강감찬  2017  1.1\n",
       "4  이순신  2016  2.7"
      ]
     },
     "metadata": {},
     "output_type": "display_data"
    }
   ],
   "source": [
    "df = pd.read_csv('C:/jupyter_home/data/student.csv')\n",
    "display(df)"
   ]
  },
  {
   "cell_type": "code",
   "execution_count": null,
   "id": "7da58205",
   "metadata": {},
   "outputs": [],
   "source": []
  },
  {
   "cell_type": "code",
   "execution_count": null,
   "id": "ce9faf8f",
   "metadata": {},
   "outputs": [],
   "source": []
  },
  {
   "cell_type": "code",
   "execution_count": null,
   "id": "2591e6b4",
   "metadata": {},
   "outputs": [],
   "source": []
  },
  {
   "cell_type": "code",
   "execution_count": null,
   "id": "fc091cab",
   "metadata": {},
   "outputs": [],
   "source": []
  },
  {
   "cell_type": "code",
   "execution_count": null,
   "id": "9c6d7c53",
   "metadata": {},
   "outputs": [],
   "source": []
  },
  {
   "cell_type": "code",
   "execution_count": null,
   "id": "b5897dd8",
   "metadata": {},
   "outputs": [],
   "source": []
  },
  {
   "cell_type": "code",
   "execution_count": null,
   "id": "b4461f53",
   "metadata": {},
   "outputs": [],
   "source": []
  },
  {
   "cell_type": "code",
   "execution_count": null,
   "id": "c4bcf27b",
   "metadata": {},
   "outputs": [],
   "source": []
  },
  {
   "cell_type": "code",
   "execution_count": null,
   "id": "9e8dac8e",
   "metadata": {},
   "outputs": [],
   "source": []
  },
  {
   "cell_type": "code",
   "execution_count": null,
   "id": "8f54b3bc",
   "metadata": {},
   "outputs": [],
   "source": []
  },
  {
   "cell_type": "code",
   "execution_count": null,
   "id": "13eb7d03",
   "metadata": {},
   "outputs": [],
   "source": []
  },
  {
   "cell_type": "code",
   "execution_count": null,
   "id": "2a6cb226",
   "metadata": {},
   "outputs": [],
   "source": []
  },
  {
   "cell_type": "code",
   "execution_count": null,
   "id": "ddac22e7",
   "metadata": {},
   "outputs": [],
   "source": []
  },
  {
   "cell_type": "code",
   "execution_count": null,
   "id": "adf56628",
   "metadata": {},
   "outputs": [],
   "source": []
  },
  {
   "cell_type": "code",
   "execution_count": null,
   "id": "7e73a7f1",
   "metadata": {},
   "outputs": [],
   "source": []
  },
  {
   "cell_type": "code",
   "execution_count": null,
   "id": "03205c9d",
   "metadata": {},
   "outputs": [],
   "source": []
  },
  {
   "cell_type": "code",
   "execution_count": null,
   "id": "1f318c3e",
   "metadata": {},
   "outputs": [],
   "source": []
  },
  {
   "cell_type": "code",
   "execution_count": null,
   "id": "c0faf26d",
   "metadata": {},
   "outputs": [],
   "source": []
  }
 ],
 "metadata": {
  "kernelspec": {
   "display_name": "Python [conda env:.conda-machine] *",
   "language": "python",
   "name": "conda-env-.conda-machine-py"
  },
  "language_info": {
   "codemirror_mode": {
    "name": "ipython",
    "version": 3
   },
   "file_extension": ".py",
   "mimetype": "text/x-python",
   "name": "python",
   "nbconvert_exporter": "python",
   "pygments_lexer": "ipython3",
   "version": "3.8.12"
  }
 },
 "nbformat": 4,
 "nbformat_minor": 5
}
