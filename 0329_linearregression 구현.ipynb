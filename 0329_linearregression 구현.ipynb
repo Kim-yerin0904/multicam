{
 "cells": [
  {
   "cell_type": "code",
   "execution_count": 1,
   "id": "9f5cc65d",
   "metadata": {},
   "outputs": [],
   "source": [
    "import numpy as np\n",
    "import pandas as pd\n",
    "import matplotlib.pyplot as plt"
   ]
  },
  {
   "cell_type": "code",
   "execution_count": 2,
   "id": "da5fca4a",
   "metadata": {},
   "outputs": [
    {
     "name": "stdout",
     "output_type": "stream",
     "text": [
      "[[1.]\n",
      " [2.]\n",
      " [3.]\n",
      " [4.]\n",
      " [5.]]\n",
      "[[ 3.]\n",
      " [ 5.]\n",
      " [ 7.]\n",
      " [ 9.]\n",
      " [11.]]\n"
     ]
    }
   ],
   "source": [
    "# training data set 준비\n",
    "# x_data => 독립변수(공부시간)\n",
    "# -1은 알아서 채우라는 소리\n",
    "x_data = np.array([1,2,3,4,5], dtype=np.float64).reshape(5,-1)\n",
    "print(x_data)\n",
    "\n",
    "# t_data => 정답 데이터(시험점수)\n",
    "t_data = np.array([3,5,7,9,11], dtype=np.float64).reshape(5,1)\n",
    "print(t_data)"
   ]
  },
  {
   "cell_type": "code",
   "execution_count": 3,
   "id": "79370255",
   "metadata": {},
   "outputs": [],
   "source": [
    "# weight & bias 정의\n",
    "W = np.random.rand(1,1) #1행 1열짜리(값1개) ndarray를 만들고 0과 1사이의 균등분포에서 실수 난수를 추출\n",
    "b = np.random.rand(1) "
   ]
  },
  {
   "cell_type": "code",
   "execution_count": 4,
   "id": "34716066",
   "metadata": {},
   "outputs": [],
   "source": [
    "# loss function \n",
    "def loss_func(input_data):   # loss function은 w와 b의 함수\n",
    "    input_W = input_data[0].reshape(1,1)\n",
    "    input_b = input_data[1]\n",
    "    \n",
    "    # 예측값\n",
    "    y = np.dot(x_data,input_W) +input_b\n",
    "    \n",
    "    # MSEㄹㄹ 구해야함\n",
    "    # power( ) : 제곱함\n",
    "    return np.mean(np.power(t_data - y,2))\n",
    "    "
   ]
  },
  {
   "cell_type": "code",
   "execution_count": 5,
   "id": "83b8a505",
   "metadata": {},
   "outputs": [],
   "source": [
    "# predict function(에측 함수, 모델, hypothesis)\n",
    "def predict(x):\n",
    "    y = np.dot(x,W) + b\n",
    "    return y"
   ]
  },
  {
   "cell_type": "code",
   "execution_count": 6,
   "id": "63594c1f",
   "metadata": {},
   "outputs": [],
   "source": [
    "# 다변수함수에 대한 수치미분 함수\n",
    "def numerical_derivative(f,x):  # x = ndarray[1.0, 2.0]\n",
    "                                \n",
    "    delta_x = 1e-4\n",
    "    derivative_x = np.zeros_like(x) # derivative_x = [0.0  0.0] \n",
    "    \n",
    "    # iterator를 이용해서 입력변수 x에 대한 편미분 수행\n",
    "    it = np.nditer(x,flags=['multi_index'])\n",
    "    \n",
    "    while not it.finished:\n",
    "        idx = it.multi_index\n",
    "        tmp = x[idx]              # tmp : 1.0\n",
    "        \n",
    "        x[idx] = tmp + delta_x    # x : ndarray[1.0001  2.0]\n",
    "        fx_plus_delta = f(x)\n",
    "        \n",
    "        x[idx] = tmp - delta_x    # x : ndarray[0.9999  2.0]\n",
    "        fx_minus_delta = f(x)\n",
    "        \n",
    "        derivative_x[idx] = (fx_plus_delta - fx_minus_delta) / (2 * delta_x)\n",
    "        \n",
    "        x[idx]  = tmp    # x : ndarray [1.0  2.0]\n",
    "        it.iternext()\n",
    "        \n",
    "    return derivative_x"
   ]
  },
  {
   "cell_type": "code",
   "execution_count": 7,
   "id": "fc1e548b",
   "metadata": {},
   "outputs": [
    {
     "name": "stdout",
     "output_type": "stream",
     "text": [
      "W : [[0.46632574]], b : [0.25727316], loss : 33.25997356997357\n",
      "W : [[2.02965973]], b : [0.89291895], loss : 0.00208707649635906\n",
      "W : [[2.01075622]], b : [0.96116662], loss : 0.0002744881264446389\n",
      "W : [[2.00390079]], b : [0.98591691], loss : 3.6100129386972134e-05\n",
      "W : [[2.00141464]], b : [0.99489271], loss : 4.747816813206243e-06\n",
      "W : [[2.00051302]], b : [0.99814782], loss : 6.244233711744528e-07\n",
      "W : [[2.00018605]], b : [0.9993283], loss : 8.21229128706506e-08\n",
      "W : [[2.00006747]], b : [0.99975641], loss : 1.080064124611403e-08\n",
      "W : [[2.00002447]], b : [0.99991166], loss : 1.4204787346732964e-09\n",
      "W : [[2.00000887]], b : [0.99996796], loss : 1.8681852201357682e-10\n"
     ]
    }
   ],
   "source": [
    "# 살펴보면서 이 값을 적절하게 수정해야함 초기에는 1e-4, 1e-3정도로 설정해서 사용\n",
    "learning_rate = 1e-4\n",
    "\n",
    "# 학습과정을 진행! \n",
    "for step in range(300000):\n",
    "    input_param = np.concatenate((W.ravel(), b.ravel()), axis=0) #[W b]\n",
    "    derivative_result = learning_rate * numerical_derivative(loss_func, input_param)\n",
    "    \n",
    "    W = W - derivative_result[0].reshape(1,1)\n",
    "    b = b - derivative_result[1]\n",
    "    \n",
    "    if step % 30000 == 0:\n",
    "        input_param = np.concatenate((W.ravel(), b.ravel()), axis=0)\n",
    "        print('W : {}, b : {}, loss : {}'.format(W,b,loss_func(input_param)))"
   ]
  },
  {
   "cell_type": "code",
   "execution_count": 8,
   "id": "bea027ef",
   "metadata": {},
   "outputs": [
    {
     "name": "stdout",
     "output_type": "stream",
     "text": [
      "6시간 공부했을 때 점수: [[13.00000769]]\n"
     ]
    }
   ],
   "source": [
    "# 6시간 공부하면 몇점일지를 예측\n",
    "predict_date = predict(np.array([[6]]))\n",
    "print('6시간 공부했을 때 점수:',predict_date)"
   ]
  },
  {
   "cell_type": "code",
   "execution_count": 11,
   "id": "1584d275",
   "metadata": {},
   "outputs": [
    {
     "name": "stdout",
     "output_type": "stream",
     "text": [
      "W : [[2.]], b:[1.]\n",
      "[[13.]]\n"
     ]
    }
   ],
   "source": [
    "#python으로 아주 간단하게 머신러닝을 해볼거임 \n",
    "# sklearn(scikit-learn)\n",
    "from sklearn import linear_model\n",
    "\n",
    "# training data set 준비\n",
    "x_data = np.array([1,2,3,4,5], dtype=np.float64).reshape(5,-1)\n",
    "t_data = np.array([3,5,7,9,11], dtype=np.float64).reshape(5,1)\n",
    "\n",
    "# model 생성(simple linear model) -> 완성된 모델은 아니지만 일단 모델을 생성\n",
    "model = linear_model.LinearRegression()\n",
    "\n",
    "#model 학습\n",
    "model.fit(x_data,t_data)\n",
    "\n",
    "# 학습이 끝났으닌 W와 b 출력\n",
    "print('W : {}, b:{}'.format(model.coef_,model.intercept_))\n",
    "\n",
    "# model을 이용한 예측\n",
    "print(model.predict(np.array([[6]])))\n"
   ]
  },
  {
   "cell_type": "code",
   "execution_count": 12,
   "id": "001f3250",
   "metadata": {},
   "outputs": [
    {
     "data": {
      "text/html": [
       "<div>\n",
       "<style scoped>\n",
       "    .dataframe tbody tr th:only-of-type {\n",
       "        vertical-align: middle;\n",
       "    }\n",
       "\n",
       "    .dataframe tbody tr th {\n",
       "        vertical-align: top;\n",
       "    }\n",
       "\n",
       "    .dataframe thead th {\n",
       "        text-align: right;\n",
       "    }\n",
       "</style>\n",
       "<table border=\"1\" class=\"dataframe\">\n",
       "  <thead>\n",
       "    <tr style=\"text-align: right;\">\n",
       "      <th></th>\n",
       "      <th>Ozone</th>\n",
       "      <th>Solar.R</th>\n",
       "      <th>Wind</th>\n",
       "      <th>Temp</th>\n",
       "      <th>Month</th>\n",
       "      <th>Day</th>\n",
       "    </tr>\n",
       "  </thead>\n",
       "  <tbody>\n",
       "    <tr>\n",
       "      <th>0</th>\n",
       "      <td>41.0</td>\n",
       "      <td>190.0</td>\n",
       "      <td>7.4</td>\n",
       "      <td>67</td>\n",
       "      <td>5</td>\n",
       "      <td>1</td>\n",
       "    </tr>\n",
       "    <tr>\n",
       "      <th>1</th>\n",
       "      <td>36.0</td>\n",
       "      <td>118.0</td>\n",
       "      <td>8.0</td>\n",
       "      <td>72</td>\n",
       "      <td>5</td>\n",
       "      <td>2</td>\n",
       "    </tr>\n",
       "    <tr>\n",
       "      <th>2</th>\n",
       "      <td>12.0</td>\n",
       "      <td>149.0</td>\n",
       "      <td>12.6</td>\n",
       "      <td>74</td>\n",
       "      <td>5</td>\n",
       "      <td>3</td>\n",
       "    </tr>\n",
       "    <tr>\n",
       "      <th>3</th>\n",
       "      <td>18.0</td>\n",
       "      <td>313.0</td>\n",
       "      <td>11.5</td>\n",
       "      <td>62</td>\n",
       "      <td>5</td>\n",
       "      <td>4</td>\n",
       "    </tr>\n",
       "    <tr>\n",
       "      <th>4</th>\n",
       "      <td>NaN</td>\n",
       "      <td>NaN</td>\n",
       "      <td>14.3</td>\n",
       "      <td>56</td>\n",
       "      <td>5</td>\n",
       "      <td>5</td>\n",
       "    </tr>\n",
       "    <tr>\n",
       "      <th>...</th>\n",
       "      <td>...</td>\n",
       "      <td>...</td>\n",
       "      <td>...</td>\n",
       "      <td>...</td>\n",
       "      <td>...</td>\n",
       "      <td>...</td>\n",
       "    </tr>\n",
       "    <tr>\n",
       "      <th>148</th>\n",
       "      <td>30.0</td>\n",
       "      <td>193.0</td>\n",
       "      <td>6.9</td>\n",
       "      <td>70</td>\n",
       "      <td>9</td>\n",
       "      <td>26</td>\n",
       "    </tr>\n",
       "    <tr>\n",
       "      <th>149</th>\n",
       "      <td>NaN</td>\n",
       "      <td>145.0</td>\n",
       "      <td>13.2</td>\n",
       "      <td>77</td>\n",
       "      <td>9</td>\n",
       "      <td>27</td>\n",
       "    </tr>\n",
       "    <tr>\n",
       "      <th>150</th>\n",
       "      <td>14.0</td>\n",
       "      <td>191.0</td>\n",
       "      <td>14.3</td>\n",
       "      <td>75</td>\n",
       "      <td>9</td>\n",
       "      <td>28</td>\n",
       "    </tr>\n",
       "    <tr>\n",
       "      <th>151</th>\n",
       "      <td>18.0</td>\n",
       "      <td>131.0</td>\n",
       "      <td>8.0</td>\n",
       "      <td>76</td>\n",
       "      <td>9</td>\n",
       "      <td>29</td>\n",
       "    </tr>\n",
       "    <tr>\n",
       "      <th>152</th>\n",
       "      <td>20.0</td>\n",
       "      <td>223.0</td>\n",
       "      <td>11.5</td>\n",
       "      <td>68</td>\n",
       "      <td>9</td>\n",
       "      <td>30</td>\n",
       "    </tr>\n",
       "  </tbody>\n",
       "</table>\n",
       "<p>153 rows × 6 columns</p>\n",
       "</div>"
      ],
      "text/plain": [
       "     Ozone  Solar.R  Wind  Temp  Month  Day\n",
       "0     41.0    190.0   7.4    67      5    1\n",
       "1     36.0    118.0   8.0    72      5    2\n",
       "2     12.0    149.0  12.6    74      5    3\n",
       "3     18.0    313.0  11.5    62      5    4\n",
       "4      NaN      NaN  14.3    56      5    5\n",
       "..     ...      ...   ...   ...    ...  ...\n",
       "148   30.0    193.0   6.9    70      9   26\n",
       "149    NaN    145.0  13.2    77      9   27\n",
       "150   14.0    191.0  14.3    75      9   28\n",
       "151   18.0    131.0   8.0    76      9   29\n",
       "152   20.0    223.0  11.5    68      9   30\n",
       "\n",
       "[153 rows x 6 columns]"
      ]
     },
     "metadata": {},
     "output_type": "display_data"
    }
   ],
   "source": [
    "# 오존량 예측하는 모델 만들기\n",
    "\n",
    "# data 로딩\n",
    "df = pd.read_csv('C:/jupyter_home/data/ozone.csv')\n",
    "display(df)"
   ]
  },
  {
   "cell_type": "code",
   "execution_count": 13,
   "id": "8b0b5025",
   "metadata": {},
   "outputs": [
    {
     "name": "stdout",
     "output_type": "stream",
     "text": [
      "<class 'pandas.core.frame.DataFrame'>\n",
      "RangeIndex: 153 entries, 0 to 152\n",
      "Data columns (total 2 columns):\n",
      " #   Column  Non-Null Count  Dtype  \n",
      "---  ------  --------------  -----  \n",
      " 0   Ozone   116 non-null    float64\n",
      " 1   Temp    153 non-null    int64  \n",
      "dtypes: float64(1), int64(1)\n",
      "memory usage: 2.5 KB\n",
      "<class 'pandas.core.frame.DataFrame'>\n",
      "Int64Index: 116 entries, 0 to 152\n",
      "Data columns (total 2 columns):\n",
      " #   Column  Non-Null Count  Dtype  \n",
      "---  ------  --------------  -----  \n",
      " 0   Ozone   116 non-null    float64\n",
      " 1   Temp    116 non-null    int64  \n",
      "dtypes: float64(1), int64(1)\n",
      "memory usage: 2.7 KB\n"
     ]
    },
    {
     "name": "stderr",
     "output_type": "stream",
     "text": [
      "C:\\Users\\LG\\.conda\\envs\\machine_TF15\\lib\\site-packages\\pandas\\util\\_decorators.py:311: SettingWithCopyWarning: \n",
      "A value is trying to be set on a copy of a slice from a DataFrame\n",
      "\n",
      "See the caveats in the documentation: https://pandas.pydata.org/pandas-docs/stable/user_guide/indexing.html#returning-a-view-versus-a-copy\n",
      "  return func(*args, **kwargs)\n"
     ]
    }
   ],
   "source": [
    "# python으로 구현 \n",
    "\n",
    "# Ozone(오존량), Solar(태양) Wind(바람) Temp(온도)\n",
    "# 이중 온도를 이용해서 오존량을 예측할거임\n",
    "training_data = df[['Ozone','Temp']]\n",
    "# 데이터에 결측값이 있음\n",
    "training_data.info()\n",
    "# 결측값을 삭제하거 대체해야함 -> 여기서는 삭제할거임\n",
    "training_data.dropna(how='any', inplace=True)  # how='any' : 결측값이 있는 행을 삭제\n",
    "training_data.info()"
   ]
  },
  {
   "cell_type": "code",
   "execution_count": 14,
   "id": "8d06ff9c",
   "metadata": {},
   "outputs": [],
   "source": [
    "x_data = training_data['Temp'].values.reshape(-1,1)\n",
    "t_data = training_data['Ozone'].values.reshape(-1,1)"
   ]
  },
  {
   "cell_type": "code",
   "execution_count": 15,
   "id": "892890e4",
   "metadata": {},
   "outputs": [
    {
     "name": "stdout",
     "output_type": "stream",
     "text": [
      "W : [[0.52546491]], b : [0.05007433], loss : 877.1254871729982\n",
      "W : [[0.72274041]], b : [-12.19716616], loss : 816.084988130599\n",
      "W : [[0.8648336]], b : [-23.42479894], loss : 774.0319218318741\n",
      "W : [[0.99509156]], b : [-33.71725884], loss : 738.6924840996061\n",
      "W : [[1.11450007]], b : [-43.15243835], loss : 708.9948670376776\n",
      "W : [[1.22396279]], b : [-51.80174214], loss : 684.0383732234288\n",
      "W : [[1.32430813]], b : [-59.73062743], loss : 663.0660985053131\n",
      "W : [[1.4162955]], b : [-66.99909938], loss : 645.4419758969952\n",
      "W : [[1.50062105]], b : [-73.66216519], loss : 630.6314843367511\n",
      "W : [[1.57792295]], b : [-79.77025038], loss : 618.1854372267685\n",
      "온도가 62일때 오존량: [[16.85520349]]\n"
     ]
    }
   ],
   "source": [
    "# W,b\n",
    "W = np.random.rand(1,1)\n",
    "b = np.random.rand(1)\n",
    "\n",
    "# 학습과정을 진행! \n",
    "for step in range(300000):\n",
    "    input_param = np.concatenate((W.ravel(), b.ravel()), axis=0) #[W b]\n",
    "    derivative_result = learning_rate * numerical_derivative(loss_func, input_param)\n",
    "    \n",
    "    W = W - derivative_result[0].reshape(1,1)\n",
    "    b = b - derivative_result[1]\n",
    "    \n",
    "    if step % 30000 == 0:\n",
    "        input_param = np.concatenate((W.ravel(), b.ravel()), axis=0)\n",
    "        print('W : {}, b : {}, loss : {}'.format(W,b,loss_func(input_param)))\n",
    "\n",
    "# 예측\n",
    "predict_date = predict(np.array([[62]]))\n",
    "print('온도가 62일때 오존량:',predict_date)"
   ]
  },
  {
   "cell_type": "code",
   "execution_count": 16,
   "id": "dff0ffe9",
   "metadata": {
    "scrolled": true
   },
   "outputs": [
    {
     "data": {
      "image/png": "[encoded data removed]",
      "text/plain": [
       "<Figure size 432x288 with 1 Axes>"
      ]
     },
     "metadata": {
      "needs_background": "light"
     },
     "output_type": "display_data"
    }
   ],
   "source": [
    "# 그래프로 표현\n",
    "plt.scatter(x_data.ravel(),t_data.ravel())\n",
    "plt.plot(x_data.ravel(), x_data.ravel()*W.ravel()+b, color='r')\n",
    "plt.show()"
   ]
  },
  {
   "cell_type": "code",
   "execution_count": 17,
   "id": "8fb3e900",
   "metadata": {},
   "outputs": [
    {
     "name": "stdout",
     "output_type": "stream",
     "text": [
      "sklearn으로 구한 온도가 62일때 오존량 : [[3.58411393]]\n"
     ]
    }
   ],
   "source": [
    "# 이제 sklearn으로 구현\n",
    "\n",
    "model = linear_model.LinearRegression()\n",
    "model.fit(x_data,t_data)\n",
    "print('sklearn으로 구한 온도가 62일때 오존량 :',model.predict(np.array([[62]])))"
   ]
  },
  {
   "cell_type": "code",
   "execution_count": 18,
   "id": "ca0b96f7",
   "metadata": {},
   "outputs": [
    {
     "data": {
      "image/png": "[encoded data removed]",
      "text/plain": [
       "<Figure size 432x288 with 1 Axes>"
      ]
     },
     "metadata": {
      "needs_background": "light"
     },
     "output_type": "display_data"
    }
   ],
   "source": [
    "# 그래프로 표현\n",
    "plt.scatter(x_data,t_data)\n",
    "plt.plot(x_data, x_data*model.coef_+model.intercept_, color='g')\n",
    "plt.show()"
   ]
  },
  {
   "cell_type": "code",
   "execution_count": null,
   "id": "635db72a",
   "metadata": {},
   "outputs": [],
   "source": []
  },
  {
   "cell_type": "code",
   "execution_count": null,
   "id": "26515620",
   "metadata": {},
   "outputs": [],
   "source": []
  },
  {
   "cell_type": "code",
   "execution_count": null,
   "id": "6c531ff7",
   "metadata": {},
   "outputs": [],
   "source": []
  },
  {
   "cell_type": "code",
   "execution_count": null,
   "id": "54aaaa1f",
   "metadata": {},
   "outputs": [],
   "source": []
  },
  {
   "cell_type": "code",
   "execution_count": null,
   "id": "431e4d9c",
   "metadata": {},
   "outputs": [],
   "source": []
  },
  {
   "cell_type": "code",
   "execution_count": null,
   "id": "b43a29a3",
   "metadata": {},
   "outputs": [],
   "source": []
  },
  {
   "cell_type": "code",
   "execution_count": null,
   "id": "c85b5fdb",
   "metadata": {},
   "outputs": [],
   "source": []
  },
  {
   "cell_type": "code",
   "execution_count": null,
   "id": "e23b67d5",
   "metadata": {},
   "outputs": [],
   "source": []
  },
  {
   "cell_type": "code",
   "execution_count": null,
   "id": "d303b14a",
   "metadata": {},
   "outputs": [],
   "source": []
  },
  {
   "cell_type": "code",
   "execution_count": null,
   "id": "df428a29",
   "metadata": {},
   "outputs": [],
   "source": []
  },
  {
   "cell_type": "code",
   "execution_count": null,
   "id": "bb6c7952",
   "metadata": {},
   "outputs": [],
   "source": []
  },
  {
   "cell_type": "code",
   "execution_count": null,
   "id": "1a4f62b0",
   "metadata": {},
   "outputs": [],
   "source": []
  },
  {
   "cell_type": "code",
   "execution_count": null,
   "id": "0169080c",
   "metadata": {},
   "outputs": [],
   "source": []
  },
  {
   "cell_type": "code",
   "execution_count": null,
   "id": "ca81409e",
   "metadata": {},
   "outputs": [],
   "source": []
  },
  {
   "cell_type": "code",
   "execution_count": null,
   "id": "bd2e43b9",
   "metadata": {},
   "outputs": [],
   "source": []
  },
  {
   "cell_type": "code",
   "execution_count": null,
   "id": "158a8247",
   "metadata": {},
   "outputs": [],
   "source": []
  },
  {
   "cell_type": "code",
   "execution_count": null,
   "id": "87fbdc8d",
   "metadata": {},
   "outputs": [],
   "source": []
  },
  {
   "cell_type": "code",
   "execution_count": null,
   "id": "01510a41",
   "metadata": {},
   "outputs": [],
   "source": []
  },
  {
   "cell_type": "code",
   "execution_count": null,
   "id": "e89ff21f",
   "metadata": {},
   "outputs": [],
   "source": []
  },
  {
   "cell_type": "code",
   "execution_count": null,
   "id": "04c39e43",
   "metadata": {},
   "outputs": [],
   "source": []
  },
  {
   "cell_type": "code",
   "execution_count": null,
   "id": "5a497c1b",
   "metadata": {},
   "outputs": [],
   "source": []
  },
  {
   "cell_type": "code",
   "execution_count": null,
   "id": "f36c7dc7",
   "metadata": {},
   "outputs": [],
   "source": []
  },
  {
   "cell_type": "code",
   "execution_count": null,
   "id": "537df89c",
   "metadata": {},
   "outputs": [],
   "source": []
  }
 ],
 "metadata": {
  "kernelspec": {
   "display_name": "Python 3 (ipykernel)",
   "language": "python",
   "name": "python3"
  },
  "language_info": {
   "codemirror_mode": {
    "name": "ipython",
    "version": 3
   },
   "file_extension": ".py",
   "mimetype": "text/x-python",
   "name": "python",
   "nbconvert_exporter": "python",
   "pygments_lexer": "ipython3",
   "version": "3.7.0"
  }
 },
 "nbformat": 4,
 "nbformat_minor": 5
}
