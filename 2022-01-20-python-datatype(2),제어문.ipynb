{
 "cells": [
  {
   "cell_type": "code",
   "execution_count": 1,
   "id": "a592f038",
   "metadata": {},
   "outputs": [
    {
     "name": "stdout",
     "output_type": "stream",
     "text": [
      "range(0, 10)\n"
     ]
    }
   ],
   "source": [
    "# <class range>\n",
    "# 숫자만 해당, 실제 데이터를 가지고 있지 않음\n",
    "\n",
    "#a=range(초기값,마지막값,증가값)\n",
    "a=range(0,10,1) # 0,1,2,3,4...,8,9\n",
    "print(a)"
   ]
  },
  {
   "cell_type": "markdown",
   "id": "248a9b67",
   "metadata": {},
   "source": [
    "range는 실제데이터가 아닌 데이터의 영역에 대한 의미만 저장하기 때문에 작은 메모리 공간으로 많은 데이터를 표현할 수 있음"
   ]
  },
  {
   "cell_type": "code",
   "execution_count": 2,
   "id": "0ba71992",
   "metadata": {},
   "outputs": [
    {
     "name": "stdout",
     "output_type": "stream",
     "text": [
      "True\n"
     ]
    }
   ],
   "source": [
    "# in 안에 들어있는지 (논리연산자)\n",
    "print(6 in range(10))"
   ]
  },
  {
   "cell_type": "code",
   "execution_count": 4,
   "id": "5f37194a",
   "metadata": {},
   "outputs": [
    {
     "name": "stdout",
     "output_type": "stream",
     "text": [
      "11\n",
      "range(11, 13)\n"
     ]
    }
   ],
   "source": [
    "#indexing, slicing\n",
    "a=range(10,50)\n",
    "print(a[1])  #indexing 가능\n",
    "print(a[1:3]) #slicing은 원본 type 유지"
   ]
  },
  {
   "cell_type": "markdown",
   "id": "ac076466",
   "metadata": {},
   "source": [
    " ### Text Sequence Type\n",
    "     - class str"
   ]
  },
  {
   "cell_type": "code",
   "execution_count": 5,
   "id": "5765f86b",
   "metadata": {},
   "outputs": [],
   "source": [
    "#문자열 \n",
    "#python은 문자와 문자열 구분 하지 않음\n",
    "\n",
    "#다른 언어에선 \n",
    "#문자(character)는 한 글자 => 'a'\n",
    "#문자열(string)은 여러 글자 => \"aaa\", \"a\"\n"
   ]
  },
  {
   "cell_type": "code",
   "execution_count": null,
   "id": "b0304111",
   "metadata": {},
   "outputs": [],
   "source": []
  },
  {
   "cell_type": "code",
   "execution_count": null,
   "id": "11ec7dec",
   "metadata": {},
   "outputs": [],
   "source": []
  },
  {
   "cell_type": "markdown",
   "id": "2e6edfea",
   "metadata": {},
   "source": [
    "### Mapping type\n",
    "    - class dict"
   ]
  },
  {
   "cell_type": "code",
   "execution_count": null,
   "id": "ab0284d5",
   "metadata": {},
   "outputs": [],
   "source": [
    "#dictionary => {}\n",
    "#키와 value를 쌍으로 저장하는 집합 자료구조\n",
    "#순서가 존재하지 않음!"
   ]
  },
  {
   "cell_type": "code",
   "execution_count": null,
   "id": "c123da5e",
   "metadata": {},
   "outputs": [],
   "source": []
  },
  {
   "cell_type": "markdown",
   "id": "92bb213a",
   "metadata": {},
   "source": [
    "### Set Type\n",
    "    - class set"
   ]
  },
  {
   "cell_type": "markdown",
   "id": "9ed4b1ca",
   "metadata": {},
   "source": [
    "- set은 주머니 개념\n",
    "- 여러 개의 데이터를 저장할 수 있는 집합 자료구조\n",
    "- 순서가 없음\n",
    "- 키의 개념이 없음 (값만 저장)\n",
    "- 중복 허용X\n",
    "- literal => {}"
   ]
  },
  {
   "cell_type": "code",
   "execution_count": 6,
   "id": "616b37f7",
   "metadata": {},
   "outputs": [
    {
     "name": "stdout",
     "output_type": "stream",
     "text": [
      "{1, 2, 3, 4}\n"
     ]
    }
   ],
   "source": [
    "a= set([1,2,2,2,3,3,3,4,4])\n",
    "print(a)"
   ]
  },
  {
   "cell_type": "code",
   "execution_count": 8,
   "id": "c823ca82",
   "metadata": {},
   "outputs": [
    {
     "name": "stdout",
     "output_type": "stream",
     "text": [
      "{1, 2, 3, 4, 5, 6, 7}\n",
      "{3, 4, 5}\n",
      "{1, 2}\n"
     ]
    }
   ],
   "source": [
    "#set의 연산 => 합집합, 교집합, 차집합\n",
    "\n",
    "a=set([1,2,3,4,5])\n",
    "b=set([3,4,5,6,7])\n",
    "\n",
    "#합집합\n",
    "union = a | b\n",
    "print(union)\n",
    "\n",
    "#교집합\n",
    "inter = a & b\n",
    "print(inter)\n",
    "\n",
    "#차집합\n",
    "differ = a - b\n",
    "print(differ)"
   ]
  },
  {
   "cell_type": "code",
   "execution_count": 12,
   "id": "7f9aa088",
   "metadata": {},
   "outputs": [
    {
     "name": "stdout",
     "output_type": "stream",
     "text": [
      "{1, 2, 3, 6, (45,), '안녕'}\n"
     ]
    }
   ],
   "source": [
    "#set에 데이터 추가\n",
    "a={1,2,3}\n",
    "a.add(6)\n",
    "a.add('안녕')\n",
    "a.add((45,))\n",
    "print(a)"
   ]
  },
  {
   "cell_type": "code",
   "execution_count": 13,
   "id": "1071b893",
   "metadata": {},
   "outputs": [],
   "source": [
    "# add 예외\n",
    "# error 남!\n",
    "\n",
    "# a.add([1,2,3,4]) ->set에 리스트 추가\n",
    "# a.add({'name':'홍길동'}) -> set에 딕셔너리 추가 \n",
    "# a.add({6,7,8}) -> set에 set추가"
   ]
  },
  {
   "cell_type": "code",
   "execution_count": 14,
   "id": "3603008d",
   "metadata": {},
   "outputs": [
    {
     "name": "stdout",
     "output_type": "stream",
     "text": [
      "{1, 2, 3, 5, 6, 7}\n"
     ]
    }
   ],
   "source": [
    "a={1,2,3}\n",
    "#add는 한개 추가 update는 여러개 추가\n",
    "a.update([5,6,7])\n",
    "print(a)"
   ]
  },
  {
   "cell_type": "code",
   "execution_count": 15,
   "id": "ec2fd0ca",
   "metadata": {},
   "outputs": [
    {
     "name": "stdout",
     "output_type": "stream",
     "text": [
      "{1, 2, 5, 6, 7}\n"
     ]
    }
   ],
   "source": [
    "#특정 요소 삭제 -> remove\n",
    "a.remove(3)\n",
    "print(a)"
   ]
  },
  {
   "cell_type": "markdown",
   "id": "dbf12c12",
   "metadata": {},
   "source": [
    "### Bool type\n",
    "\n",
    "    - True\n",
    "    - Fasle"
   ]
  },
  {
   "cell_type": "code",
   "execution_count": 16,
   "id": "2df7b4c8",
   "metadata": {},
   "outputs": [
    {
     "name": "stdout",
     "output_type": "stream",
     "text": [
      "True\n",
      "False\n"
     ]
    }
   ],
   "source": [
    "#연산자는 and,or,not 연산\n",
    "\n",
    "#and는 둘다 true 일때만 true\n",
    "print(True and True)\n",
    "print(False and True)"
   ]
  },
  {
   "cell_type": "code",
   "execution_count": 17,
   "id": "69707bbc",
   "metadata": {},
   "outputs": [
    {
     "name": "stdout",
     "output_type": "stream",
     "text": [
      "True\n",
      "True\n",
      "False\n"
     ]
    }
   ],
   "source": [
    "#or은 둘 중 하나만 true이면 true\n",
    "print(True or True)\n",
    "print(True or False)\n",
    "print(False or False)"
   ]
  },
  {
   "cell_type": "code",
   "execution_count": 18,
   "id": "8aecf580",
   "metadata": {},
   "outputs": [
    {
     "name": "stdout",
     "output_type": "stream",
     "text": [
      "False\n",
      "True\n"
     ]
    }
   ],
   "source": [
    "#not은 반대\n",
    "print(not True)\n",
    "print(not False)"
   ]
  },
  {
   "cell_type": "code",
   "execution_count": 21,
   "id": "8f9a168f",
   "metadata": {},
   "outputs": [
    {
     "name": "stdout",
     "output_type": "stream",
     "text": [
      "False\n"
     ]
    }
   ],
   "source": [
    "# 기억해야할 사항\n",
    "# 다음의 값은 모두 False로 간주\n",
    "\n",
    "# 빈 문자열(\"\") -> 공백도 없어야함\n",
    "print(bool('' and True))\n",
    "#[] -> 빈 리스트,() -> 빈 튜플,{} -> 빈 딕셔너리\n",
    "# 숫자 0\n",
    "# None"
   ]
  },
  {
   "cell_type": "markdown",
   "id": "6f807d74",
   "metadata": {},
   "source": [
    "## control statement(제어문)"
   ]
  },
  {
   "cell_type": "code",
   "execution_count": 23,
   "id": "e4caa4f4",
   "metadata": {},
   "outputs": [
    {
     "name": "stdout",
     "output_type": "stream",
     "text": [
      "조건이 False 입니다\n"
     ]
    }
   ],
   "source": [
    "# if문 \n",
    "# 논리값을 기반으로 실행코드의 분기를 시키는 제어문\n",
    "# python은 코드블럭을 표현하기 위해 {}를 사용하지 않음\n",
    "# 코드블럭 = tab(들여쓰기 4칸)\n",
    "if 20 > 30:\n",
    "    print('조건이 True입니다')\n",
    "else:\n",
    "    print(\"조건이 False 입니다\")"
   ]
  },
  {
   "cell_type": "code",
   "execution_count": 24,
   "id": "8d11945d",
   "metadata": {},
   "outputs": [
    {
     "name": "stdout",
     "output_type": "stream",
     "text": [
      "1\n",
      "2\n",
      "3\n",
      "4\n",
      "5\n"
     ]
    }
   ],
   "source": [
    "#for문\n",
    "\n",
    "a=[1,2,3,4,5]\n",
    "for i in a:\n",
    "    print(i)"
   ]
  },
  {
   "cell_type": "code",
   "execution_count": 25,
   "id": "bc7c8df5",
   "metadata": {},
   "outputs": [
    {
     "name": "stdout",
     "output_type": "stream",
     "text": [
      "0\n",
      "1\n",
      "2\n",
      "3\n",
      "4\n",
      "5\n",
      "6\n",
      "7\n",
      "8\n",
      "9\n"
     ]
    }
   ],
   "source": [
    "for i in range(10):\n",
    "    print(i)"
   ]
  },
  {
   "cell_type": "code",
   "execution_count": 30,
   "id": "a992314c",
   "metadata": {},
   "outputs": [
    {
     "name": "stdout",
     "output_type": "stream",
     "text": [
      "233168\n"
     ]
    }
   ],
   "source": [
    "# 1000보다 작은 자연수 중에서 3또는 5의 배수의 합구하기\n",
    "\n",
    "sum=0\n",
    "for i in range(1,1000):\n",
    "    if i % 3 ==0 or i%5==0:\n",
    "        sum += i\n",
    "print(sum)"
   ]
  },
  {
   "cell_type": "code",
   "execution_count": 33,
   "id": "6cf99851",
   "metadata": {},
   "outputs": [
    {
     "name": "stdout",
     "output_type": "stream",
     "text": [
      "4613732\n"
     ]
    }
   ],
   "source": [
    "# 피보나치 수열의 각 항은 바로 앞의 항 두 개를 더한 것이 된다.\n",
    "# 1과 2로 시작하는 경우 이 수열에서 짝수이면서 4백만 이하인 모든 항의 합구하기\n",
    "fibo=[1,2]\n",
    "while fibo[-2]+fibo[-1] <= 4000000:\n",
    "    fibo.append(fibo[-2]+fibo[-1])\n",
    "sum=0\n",
    "for i in fibo:\n",
    "    if i%2==0:\n",
    "        sum+= i\n",
    "print(sum)"
   ]
  },
  {
   "cell_type": "code",
   "execution_count": null,
   "id": "6d4dfd32",
   "metadata": {},
   "outputs": [],
   "source": []
  },
  {
   "cell_type": "code",
   "execution_count": null,
   "id": "1c6c8aab",
   "metadata": {},
   "outputs": [],
   "source": []
  },
  {
   "cell_type": "code",
   "execution_count": null,
   "id": "965411a0",
   "metadata": {},
   "outputs": [],
   "source": []
  },
  {
   "cell_type": "code",
   "execution_count": null,
   "id": "149e30e7",
   "metadata": {},
   "outputs": [],
   "source": []
  },
  {
   "cell_type": "code",
   "execution_count": null,
   "id": "a45c5147",
   "metadata": {},
   "outputs": [],
   "source": []
  },
  {
   "cell_type": "code",
   "execution_count": null,
   "id": "faa39f6e",
   "metadata": {},
   "outputs": [],
   "source": []
  },
  {
   "cell_type": "code",
   "execution_count": null,
   "id": "c3b7705b",
   "metadata": {},
   "outputs": [],
   "source": []
  },
  {
   "cell_type": "code",
   "execution_count": null,
   "id": "01c082f2",
   "metadata": {},
   "outputs": [],
   "source": []
  },
  {
   "cell_type": "code",
   "execution_count": null,
   "id": "08886391",
   "metadata": {},
   "outputs": [],
   "source": []
  },
  {
   "cell_type": "code",
   "execution_count": null,
   "id": "0d9dd6dc",
   "metadata": {},
   "outputs": [],
   "source": []
  },
  {
   "cell_type": "code",
   "execution_count": null,
   "id": "e5a518d1",
   "metadata": {},
   "outputs": [],
   "source": []
  },
  {
   "cell_type": "code",
   "execution_count": null,
   "id": "1eeebdcf",
   "metadata": {},
   "outputs": [],
   "source": []
  },
  {
   "cell_type": "code",
   "execution_count": null,
   "id": "c30046af",
   "metadata": {},
   "outputs": [],
   "source": []
  },
  {
   "cell_type": "code",
   "execution_count": null,
   "id": "1d3b633d",
   "metadata": {},
   "outputs": [],
   "source": []
  },
  {
   "cell_type": "code",
   "execution_count": null,
   "id": "66be237c",
   "metadata": {},
   "outputs": [],
   "source": []
  },
  {
   "cell_type": "code",
   "execution_count": null,
   "id": "6b57ce84",
   "metadata": {},
   "outputs": [],
   "source": []
  },
  {
   "cell_type": "code",
   "execution_count": null,
   "id": "d033003e",
   "metadata": {},
   "outputs": [],
   "source": []
  },
  {
   "cell_type": "code",
   "execution_count": null,
   "id": "e16821ed",
   "metadata": {},
   "outputs": [],
   "source": []
  },
  {
   "cell_type": "code",
   "execution_count": null,
   "id": "74b911e0",
   "metadata": {},
   "outputs": [],
   "source": []
  },
  {
   "cell_type": "code",
   "execution_count": null,
   "id": "fb952312",
   "metadata": {},
   "outputs": [],
   "source": []
  },
  {
   "cell_type": "code",
   "execution_count": null,
   "id": "a2e08a3f",
   "metadata": {},
   "outputs": [],
   "source": []
  },
  {
   "cell_type": "code",
   "execution_count": null,
   "id": "3e9f0788",
   "metadata": {},
   "outputs": [],
   "source": []
  },
  {
   "cell_type": "code",
   "execution_count": null,
   "id": "1f3126cf",
   "metadata": {},
   "outputs": [],
   "source": []
  },
  {
   "cell_type": "code",
   "execution_count": null,
   "id": "756a6ca1",
   "metadata": {},
   "outputs": [],
   "source": []
  },
  {
   "cell_type": "code",
   "execution_count": null,
   "id": "477bb7e4",
   "metadata": {},
   "outputs": [],
   "source": []
  },
  {
   "cell_type": "code",
   "execution_count": null,
   "id": "71a524aa",
   "metadata": {},
   "outputs": [],
   "source": []
  }
 ],
 "metadata": {
  "kernelspec": {
   "display_name": "Python [conda env:.conda-data_env] *",
   "language": "python",
   "name": "conda-env-.conda-data_env-py"
  },
  "language_info": {
   "codemirror_mode": {
    "name": "ipython",
    "version": 3
   },
   "file_extension": ".py",
   "mimetype": "text/x-python",
   "name": "python",
   "nbconvert_exporter": "python",
   "pygments_lexer": "ipython3",
   "version": "3.8.12"
  }
 },
 "nbformat": 4,
 "nbformat_minor": 5
}
