{
 "cells": [
  {
   "cell_type": "code",
   "execution_count": 1,
   "id": "4b67f1f7",
   "metadata": {},
   "outputs": [],
   "source": [
    "import numpy as np\n",
    "import pandas as pd"
   ]
  },
  {
   "cell_type": "code",
   "execution_count": 2,
   "id": "576516ef",
   "metadata": {},
   "outputs": [
    {
     "data": {
      "text/html": [
       "<div>\n",
       "<style scoped>\n",
       "    .dataframe tbody tr th:only-of-type {\n",
       "        vertical-align: middle;\n",
       "    }\n",
       "\n",
       "    .dataframe tbody tr th {\n",
       "        vertical-align: top;\n",
       "    }\n",
       "\n",
       "    .dataframe thead th {\n",
       "        text-align: right;\n",
       "    }\n",
       "</style>\n",
       "<table border=\"1\" class=\"dataframe\">\n",
       "  <thead>\n",
       "    <tr style=\"text-align: right;\">\n",
       "      <th></th>\n",
       "      <th>날짜</th>\n",
       "      <th>지점</th>\n",
       "      <th>평균기온(℃)</th>\n",
       "      <th>최저기온(℃)</th>\n",
       "      <th>최고기온(℃)</th>\n",
       "    </tr>\n",
       "  </thead>\n",
       "  <tbody>\n",
       "    <tr>\n",
       "      <th>0</th>\n",
       "      <td>1907-10-01</td>\n",
       "      <td>108</td>\n",
       "      <td>13.5</td>\n",
       "      <td>7.9</td>\n",
       "      <td>20.7</td>\n",
       "    </tr>\n",
       "    <tr>\n",
       "      <th>1</th>\n",
       "      <td>1907-10-02</td>\n",
       "      <td>108</td>\n",
       "      <td>16.2</td>\n",
       "      <td>7.9</td>\n",
       "      <td>22.0</td>\n",
       "    </tr>\n",
       "    <tr>\n",
       "      <th>2</th>\n",
       "      <td>1907-10-03</td>\n",
       "      <td>108</td>\n",
       "      <td>16.2</td>\n",
       "      <td>13.1</td>\n",
       "      <td>21.3</td>\n",
       "    </tr>\n",
       "    <tr>\n",
       "      <th>3</th>\n",
       "      <td>1907-10-04</td>\n",
       "      <td>108</td>\n",
       "      <td>16.5</td>\n",
       "      <td>11.2</td>\n",
       "      <td>22.0</td>\n",
       "    </tr>\n",
       "    <tr>\n",
       "      <th>4</th>\n",
       "      <td>1907-10-05</td>\n",
       "      <td>108</td>\n",
       "      <td>17.6</td>\n",
       "      <td>10.9</td>\n",
       "      <td>25.4</td>\n",
       "    </tr>\n",
       "  </tbody>\n",
       "</table>\n",
       "</div>"
      ],
      "text/plain": [
       "           날짜   지점  평균기온(℃)  최저기온(℃)  최고기온(℃)\n",
       "0  1907-10-01  108     13.5      7.9     20.7\n",
       "1  1907-10-02  108     16.2      7.9     22.0\n",
       "2  1907-10-03  108     16.2     13.1     21.3\n",
       "3  1907-10-04  108     16.5     11.2     22.0\n",
       "4  1907-10-05  108     17.6     10.9     25.4"
      ]
     },
     "metadata": {},
     "output_type": "display_data"
    }
   ],
   "source": [
    "seoul = pd.read_csv('C:/jupyter_home/data/seoul.csv', encoding='cp949')\n",
    "display(seoul.head())"
   ]
  },
  {
   "cell_type": "code",
   "execution_count": 3,
   "id": "c1509915",
   "metadata": {},
   "outputs": [
    {
     "data": {
      "text/html": [
       "<div>\n",
       "<style scoped>\n",
       "    .dataframe tbody tr th:only-of-type {\n",
       "        vertical-align: middle;\n",
       "    }\n",
       "\n",
       "    .dataframe tbody tr th {\n",
       "        vertical-align: top;\n",
       "    }\n",
       "\n",
       "    .dataframe thead th {\n",
       "        text-align: right;\n",
       "    }\n",
       "</style>\n",
       "<table border=\"1\" class=\"dataframe\">\n",
       "  <thead>\n",
       "    <tr style=\"text-align: right;\">\n",
       "      <th></th>\n",
       "      <th>날짜</th>\n",
       "      <th>지점</th>\n",
       "      <th>평균기온(℃)</th>\n",
       "      <th>최저기온(℃)</th>\n",
       "      <th>최고기온(℃)</th>\n",
       "    </tr>\n",
       "  </thead>\n",
       "  <tbody>\n",
       "    <tr>\n",
       "      <th>0</th>\n",
       "      <td>1907-01-31</td>\n",
       "      <td>143</td>\n",
       "      <td>NaN</td>\n",
       "      <td>-7.0</td>\n",
       "      <td>0.8</td>\n",
       "    </tr>\n",
       "    <tr>\n",
       "      <th>1</th>\n",
       "      <td>1907-02-01</td>\n",
       "      <td>143</td>\n",
       "      <td>NaN</td>\n",
       "      <td>NaN</td>\n",
       "      <td>NaN</td>\n",
       "    </tr>\n",
       "    <tr>\n",
       "      <th>2</th>\n",
       "      <td>1907-02-02</td>\n",
       "      <td>143</td>\n",
       "      <td>NaN</td>\n",
       "      <td>NaN</td>\n",
       "      <td>NaN</td>\n",
       "    </tr>\n",
       "    <tr>\n",
       "      <th>3</th>\n",
       "      <td>1907-02-03</td>\n",
       "      <td>143</td>\n",
       "      <td>NaN</td>\n",
       "      <td>NaN</td>\n",
       "      <td>NaN</td>\n",
       "    </tr>\n",
       "    <tr>\n",
       "      <th>4</th>\n",
       "      <td>1907-02-04</td>\n",
       "      <td>143</td>\n",
       "      <td>NaN</td>\n",
       "      <td>NaN</td>\n",
       "      <td>NaN</td>\n",
       "    </tr>\n",
       "    <tr>\n",
       "      <th>...</th>\n",
       "      <td>...</td>\n",
       "      <td>...</td>\n",
       "      <td>...</td>\n",
       "      <td>...</td>\n",
       "      <td>...</td>\n",
       "    </tr>\n",
       "    <tr>\n",
       "      <th>42048</th>\n",
       "      <td>2022-03-16</td>\n",
       "      <td>143</td>\n",
       "      <td>14.4</td>\n",
       "      <td>5.1</td>\n",
       "      <td>23.0</td>\n",
       "    </tr>\n",
       "    <tr>\n",
       "      <th>42049</th>\n",
       "      <td>2022-03-17</td>\n",
       "      <td>143</td>\n",
       "      <td>8.8</td>\n",
       "      <td>6.3</td>\n",
       "      <td>13.6</td>\n",
       "    </tr>\n",
       "    <tr>\n",
       "      <th>42050</th>\n",
       "      <td>2022-03-18</td>\n",
       "      <td>143</td>\n",
       "      <td>6.1</td>\n",
       "      <td>4.3</td>\n",
       "      <td>8.1</td>\n",
       "    </tr>\n",
       "    <tr>\n",
       "      <th>42051</th>\n",
       "      <td>2022-03-19</td>\n",
       "      <td>143</td>\n",
       "      <td>4.9</td>\n",
       "      <td>3.0</td>\n",
       "      <td>8.1</td>\n",
       "    </tr>\n",
       "    <tr>\n",
       "      <th>42052</th>\n",
       "      <td>2022-03-20</td>\n",
       "      <td>143</td>\n",
       "      <td>6.6</td>\n",
       "      <td>2.0</td>\n",
       "      <td>11.0</td>\n",
       "    </tr>\n",
       "  </tbody>\n",
       "</table>\n",
       "<p>42053 rows × 5 columns</p>\n",
       "</div>"
      ],
      "text/plain": [
       "               날짜   지점  평균기온(℃)  최저기온(℃)  최고기온(℃)\n",
       "0      1907-01-31  143      NaN     -7.0      0.8\n",
       "1      1907-02-01  143      NaN      NaN      NaN\n",
       "2      1907-02-02  143      NaN      NaN      NaN\n",
       "3      1907-02-03  143      NaN      NaN      NaN\n",
       "4      1907-02-04  143      NaN      NaN      NaN\n",
       "...           ...  ...      ...      ...      ...\n",
       "42048  2022-03-16  143     14.4      5.1     23.0\n",
       "42049  2022-03-17  143      8.8      6.3     13.6\n",
       "42050  2022-03-18  143      6.1      4.3      8.1\n",
       "42051  2022-03-19  143      4.9      3.0      8.1\n",
       "42052  2022-03-20  143      6.6      2.0     11.0\n",
       "\n",
       "[42053 rows x 5 columns]"
      ]
     },
     "metadata": {},
     "output_type": "display_data"
    }
   ],
   "source": [
    "daegu = pd.read_csv('C:/jupyter_home/data/daegu.csv', encoding='cp949')\n",
    "display(daegu)"
   ]
  },
  {
   "cell_type": "code",
   "execution_count": 4,
   "id": "b7699a99",
   "metadata": {},
   "outputs": [
    {
     "name": "stdout",
     "output_type": "stream",
     "text": [
      "날짜 : 2018-08-01 기온 : 39.6\n"
     ]
    }
   ],
   "source": [
    "# 1. 기상 관측 이래, 서울의 최고 기온이 가장 높았던 날은 언제였고, \n",
    "#         몇도인가요?\n",
    "print('날짜 :',seoul.iloc[seoul['최고기온(℃)'].idxmax()]['날짜'],'기온 :',seoul.iloc[seoul['최고기온(℃)'].idxmax()]['최고기온(℃)'])"
   ]
  },
  {
   "cell_type": "code",
   "execution_count": 11,
   "id": "f7889d9e",
   "metadata": {},
   "outputs": [
    {
     "name": "stdout",
     "output_type": "stream",
     "text": [
      "In 서울 :  1942-04-19\n"
     ]
    }
   ],
   "source": [
    "### 2. 역사적으로 일교차가 가장 큰 날짜는 몇년 몇월 몇일 인가요?\n",
    "seoul['일교차'] = seoul['최고기온(℃)'] - seoul['최저기온(℃)']\n",
    "daegu['일교차'] = daegu['최고기온(℃)'] - daegu['최저기온(℃)']\n",
    "\n",
    "print('In 서울 : ',seoul.iloc[seoul['일교차'].idxmax()]['날짜'])"
   ]
  },
  {
   "cell_type": "code",
   "execution_count": 10,
   "id": "503f4828",
   "metadata": {},
   "outputs": [
    {
     "name": "stderr",
     "output_type": "stream",
     "text": [
      "C:\\Users\\LG\\.conda\\envs\\machine_TF15\\lib\\site-packages\\ipykernel_launcher.py:3: SettingWithCopyWarning: \n",
      "A value is trying to be set on a copy of a slice from a DataFrame.\n",
      "Try using .loc[row_indexer,col_indexer] = value instead\n",
      "\n",
      "See the caveats in the documentation: https://pandas.pydata.org/pandas-docs/stable/user_guide/indexing.html#returning-a-view-versus-a-copy\n",
      "  This is separate from the ipykernel package so we can avoid doing imports until\n"
     ]
    },
    {
     "name": "stdout",
     "output_type": "stream",
     "text": [
      "4월29일\n"
     ]
    }
   ],
   "source": [
    "# 3. 1년 중 평균적으로 일교차가 가장 큰 날짜는 몇월 몇일 인가요?\n",
    "seoul3 = seoul[['날짜','일교차']]\n",
    "seoul3['날짜'] = pd.to_datetime(seoul3['날짜'],format='%Y-%m-%d')\n",
    "max_temp = 0\n",
    "\n",
    "for month in range(1,13):\n",
    "    for day in range(1,32):\n",
    "        target_month = month\n",
    "        target_day = day\n",
    "        data = seoul3.query('날짜.dt.month == @target_month and 날짜.dt.day==@target_day')\n",
    "        if max_temp < data['일교차'].mean():\n",
    "            max_temp = data['일교차'].mean()\n",
    "            max_date = str(month)+'월'+str(day)+'일'\n",
    "            \n",
    "print(max_date)\n"
   ]
  },
  {
   "cell_type": "code",
   "execution_count": 9,
   "id": "c06ce3cc",
   "metadata": {},
   "outputs": [
    {
     "name": "stdout",
     "output_type": "stream",
     "text": [
      "1930\n"
     ]
    }
   ],
   "source": [
    "# 4. 가장 덥다고 알려진 대구보다 서울이 더 더운날이 가장 많은 연도는 \n",
    "#         언제인가요?\n",
    "\n",
    "merge = pd.merge(seoul,daegu, on='날짜',how='inner') # 41379 rows × 9 columns\n",
    "\n",
    "count_list = []\n",
    "for i in range(len(merge)):\n",
    "    if merge.iloc[i]['최고기온(℃)_x'] > merge.iloc[i]['최고기온(℃)_y']:\n",
    "        count_list.append(1)\n",
    "    else:\n",
    "        count_list.append(0)\n",
    "    \n",
    "merge['count'] = count_list\n",
    "\n",
    "count = 0\n",
    "max_count = 0\n",
    "max_year = 0\n",
    "start_idx = 0\n",
    "end_idx = 0\n",
    "\n",
    "for year in range(1907,2023):\n",
    "    year_str = str(year)\n",
    "    for i in range(start_idx,len(merge)-1):\n",
    "        if year_str in merge.iloc[i]['날짜']:\n",
    "            continue \n",
    "        else:\n",
    "            end_idx = i\n",
    "            target = merge.iloc[start_idx:end_idx]\n",
    "            count = target['count'].sum()\n",
    "            start_idx = i\n",
    "            if max_count < count:\n",
    "                max_year = year\n",
    "                max_count = count\n",
    "            break\n",
    "    \n",
    "print(max_year)"
   ]
  }
 ],
 "metadata": {
  "kernelspec": {
   "display_name": "Python 3 (ipykernel)",
   "language": "python",
   "name": "python3"
  },
  "language_info": {
   "codemirror_mode": {
    "name": "ipython",
    "version": 3
   },
   "file_extension": ".py",
   "mimetype": "text/x-python",
   "name": "python",
   "nbconvert_exporter": "python",
   "pygments_lexer": "ipython3",
   "version": "3.7.0"
  }
 },
 "nbformat": 4,
 "nbformat_minor": 5
}
