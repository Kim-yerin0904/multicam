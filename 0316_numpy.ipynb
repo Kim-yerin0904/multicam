{
 "cells": [
  {
   "cell_type": "code",
   "execution_count": 1,
   "id": "2151d360",
   "metadata": {},
   "outputs": [],
   "source": [
    "import numpy as np"
   ]
  },
  {
   "cell_type": "code",
   "execution_count": 3,
   "id": "2636db6a",
   "metadata": {},
   "outputs": [
    {
     "name": "stdout",
     "output_type": "stream",
     "text": [
      "[[ 40  46]\n",
      " [ 94 109]]\n"
     ]
    }
   ],
   "source": [
    "# 행렬 곱 연산\n",
    "# 앞의 열과 뒤의 행이 같아야함! 결과는 앞의 행과 뒤의 열의 모양으로 나옴\n",
    "\n",
    "arr1 = np.array([[1,2,3],[4,5,6]])  #(2,3)\n",
    "arr2 = np.array([[4,5],[6,7],[8,9]]) #(3,2)\n",
    "print(np.matmul(arr1,arr2))"
   ]
  },
  {
   "cell_type": "code",
   "execution_count": 22,
   "id": "0b6b9439",
   "metadata": {},
   "outputs": [
    {
     "name": "stdout",
     "output_type": "stream",
     "text": [
      "[[1 2 3]\n",
      " [4 5 6]]\n",
      "[[1 4]\n",
      " [2 5]\n",
      " [3 6]]\n"
     ]
    }
   ],
   "source": [
    "# 전치 행렬(transpose)\n",
    "# 행을 열로 열을 행으로 바꿈\n",
    "\n",
    "arr = np.array([[1,2,3],[4,5,6]])   #(2,3)\n",
    "print(arr)    #[[1 2 3]\n",
    "              # [4 5 6]]\n",
    "\n",
    "print(arr.T)  #[[1 4] \n",
    "              # [2 5]\n",
    "              # [3 6]]"
   ]
  },
  {
   "cell_type": "code",
   "execution_count": 6,
   "id": "56760b64",
   "metadata": {},
   "outputs": [
    {
     "name": "stdout",
     "output_type": "stream",
     "text": [
      "1\n",
      "2\n",
      "3\n",
      "4\n",
      "5\n",
      "1\n",
      "2\n",
      "3\n",
      "4\n",
      "5\n"
     ]
    }
   ],
   "source": [
    "# iterator (반복자)를 이용한 반복문 처리\n",
    "# 보통 for문을 이용하는데, ndarray는 while문과 iterator를 이용해서 반복처리를 선호!\n",
    "arr = np.array([1,2,3,4,5])\n",
    "\n",
    "#for문 사용\n",
    "for tmp in arr:\n",
    "    print(tmp)\n",
    "    \n",
    "# iterator 사용\n",
    "my_iter = np.nditer(arr, flags=['c_index'])\n",
    "\n",
    "while not my_iter.finished:\n",
    "    idx = my_iter.index\n",
    "    print(arr[idx])\n",
    "    my_iter.iternext()"
   ]
  },
  {
   "cell_type": "code",
   "execution_count": 11,
   "id": "61779a9c",
   "metadata": {},
   "outputs": [
    {
     "name": "stdout",
     "output_type": "stream",
     "text": [
      "1\n",
      "2\n",
      "3\n",
      "4\n",
      "5\n",
      "6\n",
      "1\n",
      "2\n",
      "3\n",
      "4\n",
      "5\n",
      "6\n"
     ]
    }
   ],
   "source": [
    "# 2차원 ndarray에 반복처리\n",
    "arr = np.array([[1,2,3],[4,5,6]])\n",
    "\n",
    "for tmp1 in range(arr.shape[0]):\n",
    "    for tmp2 in range(arr.shape[1]):\n",
    "        print(arr[tmp1,tmp2])\n",
    "        \n",
    "my_iter = np.nditer(arr, flags=['multi_index'])\n",
    "while not my_iter.finished:\n",
    "    idx = my_iter.multi_index\n",
    "    print(arr[idx])\n",
    "    my_iter.iternext()"
   ]
  },
  {
   "cell_type": "markdown",
   "id": "3a8d43ac",
   "metadata": {},
   "source": [
    "for문은 차원수가 늘어날수록 중첩되는 for문의 수도 늘어남\n",
    "근데, iterator는 multi_index로 다차원 배열은 모두 해결 가능!"
   ]
  },
  {
   "cell_type": "code",
   "execution_count": 16,
   "id": "3a1937e9",
   "metadata": {},
   "outputs": [
    {
     "name": "stdout",
     "output_type": "stream",
     "text": [
      "[[1 2 3]\n",
      " [4 5 6]]\n",
      "21\n",
      "21\n",
      "3.5\n",
      "6\n",
      "1\n",
      "5\n",
      "1.707825127659933\n"
     ]
    }
   ],
   "source": [
    "# 다양한 집계함수\n",
    "\n",
    "arr = np.arange(1,7,1).reshape(2,3)\n",
    "print(arr)     #[[1 2 3]\n",
    "               # [4 5 6]]\n",
    "    \n",
    "# ndarray 데이터에 대한 합을 구할 수 있음\n",
    "print(np.sum(arr))  # 21 => Numpy가 제공하는 함수를 이용\n",
    "print(arr.sum())    # 21 => ndarray가 가지고 있는 메소드 이용\n",
    "print(arr.mean())   # 3.5\n",
    "print(arr.max())    # 6\n",
    "print(arr.min())    # 1\n",
    "print(arr.argmax()) # 5 => 가장 큰값의 index값\n",
    "print(arr.std())    # 표준편차"
   ]
  },
  {
   "cell_type": "code",
   "execution_count": 17,
   "id": "6fdbd00f",
   "metadata": {},
   "outputs": [
    {
     "name": "stdout",
     "output_type": "stream",
     "text": [
      "[[1 2 3]\n",
      " [4 5 6]]\n",
      "[5 7 9]\n",
      "[ 6 15]\n"
     ]
    }
   ],
   "source": [
    "# axis개념\n",
    "arr = np.arange(1,7,1).reshape(2,3)\n",
    "print(arr)     #[[1 2 3]\n",
    "               # [4 5 6]]\n",
    "\n",
    "# 2차원에서 axis가 0이면 행방향, 1이면 열방향\n",
    "print(arr.sum(axis=0))    #[5 7 9]\n",
    "print(arr.sum(axis=1))    #[ 6 15]\n"
   ]
  },
  {
   "cell_type": "code",
   "execution_count": 21,
   "id": "cdb9394e",
   "metadata": {},
   "outputs": [
    {
     "name": "stdout",
     "output_type": "stream",
     "text": [
      "[[ 1  2  3  4]\n",
      " [ 5  6  7  8]\n",
      " [ 9 10 11 12]\n",
      " [13 14 15 16]]\n",
      "6\n"
     ]
    }
   ],
   "source": [
    "# 연습문제!\n",
    "\n",
    "arr = np.arange(1,17,1).reshape(4,4)\n",
    "print(arr)\n",
    "\n",
    "# 이 안에 10보다 큰 수는 몇개 있나요?\n",
    "# boolean indexing 사용\n",
    "my_mask = (arr > 10)\n",
    "print(my_mask.sum())"
   ]
  },
  {
   "cell_type": "code",
   "execution_count": null,
   "id": "719aad45",
   "metadata": {},
   "outputs": [],
   "source": [
    "# ndarray 정렬, 연결, 삭제, CSV파일 로딩은 pandas로 처리"
   ]
  },
  {
   "cell_type": "code",
   "execution_count": null,
   "id": "7238070a",
   "metadata": {},
   "outputs": [],
   "source": []
  },
  {
   "cell_type": "code",
   "execution_count": null,
   "id": "801af7a8",
   "metadata": {},
   "outputs": [],
   "source": []
  },
  {
   "cell_type": "code",
   "execution_count": null,
   "id": "120e5e44",
   "metadata": {},
   "outputs": [],
   "source": []
  },
  {
   "cell_type": "code",
   "execution_count": null,
   "id": "51d4528b",
   "metadata": {},
   "outputs": [],
   "source": []
  },
  {
   "cell_type": "code",
   "execution_count": null,
   "id": "b6ea9003",
   "metadata": {},
   "outputs": [],
   "source": []
  },
  {
   "cell_type": "code",
   "execution_count": null,
   "id": "a03e4859",
   "metadata": {},
   "outputs": [],
   "source": []
  },
  {
   "cell_type": "code",
   "execution_count": null,
   "id": "a80fb6ad",
   "metadata": {},
   "outputs": [],
   "source": []
  },
  {
   "cell_type": "code",
   "execution_count": null,
   "id": "4efebd9d",
   "metadata": {},
   "outputs": [],
   "source": []
  },
  {
   "cell_type": "code",
   "execution_count": null,
   "id": "7e3c17f1",
   "metadata": {},
   "outputs": [],
   "source": []
  },
  {
   "cell_type": "code",
   "execution_count": null,
   "id": "8bcadb10",
   "metadata": {},
   "outputs": [],
   "source": []
  },
  {
   "cell_type": "code",
   "execution_count": null,
   "id": "7d2c41ec",
   "metadata": {},
   "outputs": [],
   "source": []
  },
  {
   "cell_type": "code",
   "execution_count": null,
   "id": "f6f18c75",
   "metadata": {},
   "outputs": [],
   "source": []
  },
  {
   "cell_type": "code",
   "execution_count": null,
   "id": "1613507b",
   "metadata": {},
   "outputs": [],
   "source": []
  },
  {
   "cell_type": "code",
   "execution_count": null,
   "id": "949c85aa",
   "metadata": {},
   "outputs": [],
   "source": []
  },
  {
   "cell_type": "code",
   "execution_count": null,
   "id": "0145e71d",
   "metadata": {},
   "outputs": [],
   "source": []
  },
  {
   "cell_type": "code",
   "execution_count": null,
   "id": "c5404864",
   "metadata": {},
   "outputs": [],
   "source": []
  },
  {
   "cell_type": "code",
   "execution_count": null,
   "id": "14a434e7",
   "metadata": {},
   "outputs": [],
   "source": []
  },
  {
   "cell_type": "code",
   "execution_count": null,
   "id": "a333889e",
   "metadata": {},
   "outputs": [],
   "source": []
  },
  {
   "cell_type": "code",
   "execution_count": null,
   "id": "93b6d2f0",
   "metadata": {},
   "outputs": [],
   "source": []
  },
  {
   "cell_type": "code",
   "execution_count": null,
   "id": "487c75ba",
   "metadata": {},
   "outputs": [],
   "source": []
  },
  {
   "cell_type": "code",
   "execution_count": null,
   "id": "72f67a03",
   "metadata": {},
   "outputs": [],
   "source": []
  }
 ],
 "metadata": {
  "kernelspec": {
   "display_name": "Python [conda env:.conda-machine] *",
   "language": "python",
   "name": "conda-env-.conda-machine-py"
  },
  "language_info": {
   "codemirror_mode": {
    "name": "ipython",
    "version": 3
   },
   "file_extension": ".py",
   "mimetype": "text/x-python",
   "name": "python",
   "nbconvert_exporter": "python",
   "pygments_lexer": "ipython3",
   "version": "3.8.12"
  }
 },
 "nbformat": 4,
 "nbformat_minor": 5
}
